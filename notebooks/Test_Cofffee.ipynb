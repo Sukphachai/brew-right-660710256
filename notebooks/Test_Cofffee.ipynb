{
  "nbformat": 4,
  "nbformat_minor": 0,
  "metadata": {
    "colab": {
      "provenance": []
    },
    "kernelspec": {
      "name": "python3",
      "display_name": "Python 3"
    },
    "language_info": {
      "name": "python"
    }
  },
  "cells": [
    {
      "cell_type": "code",
      "execution_count": 57,
      "metadata": {
        "colab": {
          "base_uri": "https://localhost:8080/"
        },
        "id": "W3ppBHUh79sl",
        "outputId": "b8cf7f8d-8139-4375-cfda-1ec082b398e6"
      },
      "outputs": [
        {
          "output_type": "stream",
          "name": "stdout",
          "text": [
            "Requirement already satisfied: resampy in /usr/local/lib/python3.12/dist-packages (0.4.3)\n",
            "Requirement already satisfied: numpy>=1.17 in /usr/local/lib/python3.12/dist-packages (from resampy) (2.0.2)\n",
            "Requirement already satisfied: numba>=0.53 in /usr/local/lib/python3.12/dist-packages (from resampy) (0.60.0)\n",
            "Requirement already satisfied: llvmlite<0.44,>=0.43.0dev0 in /usr/local/lib/python3.12/dist-packages (from numba>=0.53->resampy) (0.43.0)\n"
          ]
        }
      ],
      "source": [
        "pip install resampy"
      ]
    },
    {
      "cell_type": "code",
      "source": [
        "from google.colab import drive\n",
        "drive.mount('/content/drive')\n",
        "\n",
        "import os"
      ],
      "metadata": {
        "colab": {
          "base_uri": "https://localhost:8080/"
        },
        "id": "xtWk6-Hv8S9x",
        "outputId": "e176fac6-360b-4dd2-f3a1-1a01712246d3"
      },
      "execution_count": 58,
      "outputs": [
        {
          "output_type": "stream",
          "name": "stdout",
          "text": [
            "Drive already mounted at /content/drive; to attempt to forcibly remount, call drive.mount(\"/content/drive\", force_remount=True).\n"
          ]
        }
      ]
    },
    {
      "cell_type": "code",
      "source": [
        "print(os.getcwd())"
      ],
      "metadata": {
        "colab": {
          "base_uri": "https://localhost:8080/"
        },
        "id": "d8njJPQd92ta",
        "outputId": "ee33024a-4d77-4825-da00-9fce36d3ac6d"
      },
      "execution_count": 59,
      "outputs": [
        {
          "output_type": "stream",
          "name": "stdout",
          "text": [
            "/content\n"
          ]
        }
      ]
    },
    {
      "cell_type": "code",
      "source": [
        "data_path = '/content/drive/MyDrive/Dst'\n",
        "print(os.listdir(data_path))"
      ],
      "metadata": {
        "colab": {
          "base_uri": "https://localhost:8080/"
        },
        "id": "HcEmNV6798y5",
        "outputId": "e83a3481-6253-447f-d0d7-1c33318092a1"
      },
      "execution_count": 60,
      "outputs": [
        {
          "output_type": "stream",
          "name": "stdout",
          "text": [
            "['test', 'train', 'val']\n"
          ]
        }
      ]
    },
    {
      "cell_type": "code",
      "source": [
        "filelist = os.listdir(data_path)\n",
        "\n",
        "for filename in filelist:\n",
        "  print(filename)"
      ],
      "metadata": {
        "colab": {
          "base_uri": "https://localhost:8080/"
        },
        "id": "sByRroKh-EH3",
        "outputId": "a3e973a5-4865-4326-e59b-bd87ea57dc1f"
      },
      "execution_count": 61,
      "outputs": [
        {
          "output_type": "stream",
          "name": "stdout",
          "text": [
            "test\n",
            "train\n",
            "val\n"
          ]
        }
      ]
    },
    {
      "cell_type": "code",
      "source": [
        "%matplotlib inline\n",
        "\n",
        "from pathlib import Path\n",
        "import numpy as np\n",
        "import matplotlib.pyplot as plt\n",
        "import sklearn\n",
        "from tensorflow.keras.utils import to_categorical\n",
        "#from sklearn.model_selection import train_test_split"
      ],
      "metadata": {
        "id": "YuhNygbd-Fli"
      },
      "execution_count": 62,
      "outputs": []
    },
    {
      "cell_type": "code",
      "source": [
        "from pickle import dump\n",
        "from pickle import load"
      ],
      "metadata": {
        "id": "Xa7BxaWr-2jR"
      },
      "execution_count": 63,
      "outputs": []
    },
    {
      "cell_type": "code",
      "source": [
        "import plotly\n",
        "import plotly.graph_objs as go"
      ],
      "metadata": {
        "id": "jsOK9YRT_5zL"
      },
      "execution_count": 64,
      "outputs": []
    },
    {
      "cell_type": "code",
      "source": [
        "from tensorflow.keras.models import Model\n",
        "from tensorflow.keras.models import Sequential\n",
        "\n",
        "from tensorflow.keras.layers import Dropout\n",
        "from tensorflow.keras.layers import Activation\n",
        "from tensorflow.keras.layers import LeakyReLU\n",
        "from tensorflow.keras.layers import Dense\n",
        "from tensorflow.keras.optimizers import Adam\n",
        "from tensorflow.keras.layers import Input"
      ],
      "metadata": {
        "id": "fLbbz8w7_9U7"
      },
      "execution_count": 65,
      "outputs": []
    },
    {
      "cell_type": "code",
      "source": [],
      "metadata": {
        "id": "PWRPfx20_903"
      },
      "execution_count": 65,
      "outputs": []
    },
    {
      "cell_type": "code",
      "source": [
        "val_data = data_path+\"/val\"\n",
        "os.listdir(val_data)"
      ],
      "metadata": {
        "colab": {
          "base_uri": "https://localhost:8080/"
        },
        "id": "11apPpHV-HdP",
        "outputId": "52dd5f61-d1cc-450f-a7f0-6e09817e75a2"
      },
      "execution_count": 66,
      "outputs": [
        {
          "output_type": "execute_result",
          "data": {
            "text/plain": [
              "['a_00000135_5000.wav',\n",
              " 'a_00000130_5000.wav',\n",
              " 'n_00000289_5000.wav',\n",
              " 'n_00000335_5000.wav',\n",
              " 'a_00000115_5000.wav',\n",
              " 'n_00000290_5000.wav',\n",
              " 'a_00000042_5000.wav',\n",
              " 'a_00000072_0.wav',\n",
              " 'a_00000007_0.wav',\n",
              " 'n_00000368_5000.wav',\n",
              " 'a_00000125_0.wav',\n",
              " 'n_00000341_5000.wav',\n",
              " 'n_00000372_5000.wav',\n",
              " 'a_00000031_0.wav',\n",
              " 'a_00000031_5000.wav',\n",
              " 'n_00000335_0.wav',\n",
              " 'a_00000013_5000.wav',\n",
              " 'n_00000295_5000.wav',\n",
              " 'n_00000341_0.wav',\n",
              " 'a_00000010_0.wav',\n",
              " 'a_00000058_0.wav',\n",
              " 'n_00000338_0.wav',\n",
              " 'a_00000114_0.wav',\n",
              " 'n_00000325_5000.wav',\n",
              " 'a_00000018_5000.wav',\n",
              " 'a_00000064_5000.wav',\n",
              " 'a_00000079_0.wav',\n",
              " 'a_00000062_0.wav',\n",
              " 'n_00000363_5000.wav',\n",
              " 'n_00000326_5000.wav',\n",
              " 'n_00000366_5000.wav',\n",
              " 'a_00000045_0.wav',\n",
              " 'n_00000342_5000.wav',\n",
              " 'a_00000024_0.wav',\n",
              " 'a_00000129_5000.wav',\n",
              " 'n_00000371_5000.wav',\n",
              " 'a_00000074_5000.wav',\n",
              " 'a_00000116_0.wav',\n",
              " 'a_00000012_0.wav',\n",
              " 'a_00000120_0.wav',\n",
              " 'a_00000001_0.wav',\n",
              " 'a_00000028_5000.wav',\n",
              " 'a_00000053_0.wav',\n",
              " 'a_00000102_5000.wav',\n",
              " 'a_00000032_5000.wav',\n",
              " 'n_00000324_5000.wav',\n",
              " 'a_00000123_5000.wav',\n",
              " 'n_00000346_0.wav',\n",
              " 'a_00000008_5000.wav',\n",
              " 'a_00000016_0.wav',\n",
              " 'a_00000063_0.wav',\n",
              " 'a_00000096_5000.wav',\n",
              " 'a_00000047_5000.wav',\n",
              " 'a_00000035_5000.wav',\n",
              " 'n_00000376_0.wav',\n",
              " 'a_00000041_5000.wav',\n",
              " 'n_00000370_0.wav',\n",
              " 'a_00000093_5000.wav',\n",
              " 'a_00000022_0.wav',\n",
              " 'a_00000003_0.wav',\n",
              " 'n_00000301_0.wav',\n",
              " 'a_00000106_5000.wav',\n",
              " 'a_00000100_5000.wav',\n",
              " 'a_00000036_0.wav',\n",
              " 'a_00000088_0.wav',\n",
              " 'a_00000104_5000.wav',\n",
              " 'a_00000117_5000.wav',\n",
              " 'a_00000082_0.wav',\n",
              " 'n_00000275_0.wav',\n",
              " 'n_00000156_0.wav',\n",
              " 'n_00000140_0.wav',\n",
              " 'n_00000168_0.wav',\n",
              " 'n_00000128_5000.wav',\n",
              " 'n_00000203_5000.wav',\n",
              " 'n_00000165_0.wav',\n",
              " 'n_00000279_0.wav',\n",
              " 'n_00000212_5000.wav',\n",
              " 'n_00000176_0.wav',\n",
              " 'n_00000244_0.wav',\n",
              " 'n_00000281_0.wav',\n",
              " 'n_00000279_5000.wav',\n",
              " 'n_00000198_5000.wav',\n",
              " 'n_00000108_5000.wav',\n",
              " 'n_00000141_0.wav',\n",
              " 'n_00000189_5000.wav',\n",
              " 'n_00000232_0.wav',\n",
              " 'n_00000136_5000.wav',\n",
              " 'n_00000210_5000.wav',\n",
              " 'n_00000192_5000.wav',\n",
              " 'n_00000271_5000.wav',\n",
              " 'n_00000255_0.wav',\n",
              " 'n_00000240_5000.wav',\n",
              " 'n_00000194_0.wav',\n",
              " 'n_00000181_0.wav',\n",
              " 'n_00000300_0.wav',\n",
              " 'n_00000170_0.wav',\n",
              " 'n_00000272_5000.wav',\n",
              " 'n_00000307_5000.wav',\n",
              " 'n_00000137_0.wav',\n",
              " 'n_00000265_0.wav',\n",
              " 'n_00000258_5000.wav',\n",
              " 'n_00000254_0.wav',\n",
              " 'n_00000340_0.wav',\n",
              " 'n_00000258_0.wav',\n",
              " 'n_00000233_5000.wav',\n",
              " 'n_00000161_5000.wav',\n",
              " 'n_00000105_5000.wav',\n",
              " 'n_00000289_0.wav',\n",
              " 'n_00000205_5000.wav',\n",
              " 'n_00000222_5000.wav',\n",
              " 'n_00000230_5000.wav',\n",
              " 'n_00000294_5000.wav',\n",
              " 'n_00000304_0.wav',\n",
              " 'n_00000149_5000.wav',\n",
              " 'n_00000229_0.wav',\n",
              " 'n_00000156_5000.wav',\n",
              " 'n_00000202_0.wav',\n",
              " 'n_00000298_5000.wav',\n",
              " 'n_00000167_5000.wav',\n",
              " 'n_00000225_5000.wav',\n",
              " 'n_00000256_5000.wav',\n",
              " 'n_00000283_0.wav',\n",
              " 'n_00000319_5000.wav',\n",
              " 'n_00000175_5000.wav',\n",
              " 'n_00000177_0.wav',\n",
              " 'n_00000109_0.wav',\n",
              " 'n_00000146_0.wav',\n",
              " 'n_00000327_0.wav',\n",
              " 'n_00000269_5000.wav',\n",
              " 'n_00000128_0.wav',\n",
              " 'n_00000134_0.wav',\n",
              " 'n_00000219_5000.wav',\n",
              " 'n_00000145_0.wav',\n",
              " 'n_00000165_5000.wav',\n",
              " 'n_00000192_0.wav',\n",
              " 'n_00000030_5000.wav',\n",
              " 'n_00000032_5000.wav',\n",
              " 'n_00000025_0.wav',\n",
              " 'n_00000110_5000.wav',\n",
              " 'n_00000099_5000.wav',\n",
              " 'n_00000076_5000.wav',\n",
              " 'n_00000043_0.wav',\n",
              " 'n_00000098_0.wav',\n",
              " 'n_00000075_5000.wav',\n",
              " 'n_00000148_0.wav',\n",
              " 'n_00000072_0.wav',\n",
              " 'n_00000026_5000.wav',\n",
              " 'n_00000090_0.wav',\n",
              " 'n_00000130_5000.wav',\n",
              " 'n_00000092_5000.wav',\n",
              " 'n_00000037_0.wav',\n",
              " 'n_00000085_5000.wav',\n",
              " 'n_00000115_0.wav',\n",
              " 'n_00000060_0.wav',\n",
              " 'n_00000050_5000.wav',\n",
              " 'n_00000028_5000.wav',\n",
              " 'n_00000009_5000.wav',\n",
              " 'n_00000061_5000.wav',\n",
              " 'n_00000010_0.wav',\n",
              " 'n_00000081_0.wav',\n",
              " 'n_00000117_5000.wav',\n",
              " 'n_00000087_0.wav',\n",
              " 'n_00000078_5000.wav',\n",
              " 'n_00000046_0.wav',\n",
              " 'n_00000052_0.wav',\n",
              " 'n_00000027_5000.wav']"
            ]
          },
          "metadata": {},
          "execution_count": 66
        }
      ]
    },
    {
      "cell_type": "code",
      "source": [
        "test_data = data_path+\"/test\"\n",
        "os.listdir(test_data)"
      ],
      "metadata": {
        "colab": {
          "base_uri": "https://localhost:8080/"
        },
        "id": "Nfh78--7-Kjl",
        "outputId": "5529082d-e1c6-46f9-b86d-0133bc924682"
      },
      "execution_count": 67,
      "outputs": [
        {
          "output_type": "execute_result",
          "data": {
            "text/plain": [
              "['a_00000085_5000.wav',\n",
              " 'a_00000065_0.wav',\n",
              " 'n_00000377_5000.wav',\n",
              " 'a_00000137_0.wav',\n",
              " 'a_00000126_5000.wav',\n",
              " 'a_00000025_5000.wav',\n",
              " 'a_00000075_0.wav',\n",
              " 'a_00000078_5000.wav',\n",
              " 'a_00000083_0.wav',\n",
              " 'a_00000028_0.wav',\n",
              " 'n_00000377_0.wav',\n",
              " 'a_00000090_0.wav',\n",
              " 'a_00000080_0.wav',\n",
              " 'a_00000091_0.wav',\n",
              " 'a_00000038_0.wav',\n",
              " 'a_00000066_0.wav',\n",
              " 'a_00000001_5000.wav',\n",
              " 'a_00000033_0.wav',\n",
              " 'a_00000125_5000.wav',\n",
              " 'a_00000003_5000.wav',\n",
              " 'a_00000101_0.wav',\n",
              " 'a_00000052_0.wav',\n",
              " 'a_00000011_5000.wav',\n",
              " 'a_00000035_0.wav',\n",
              " 'a_00000099_0.wav',\n",
              " 'a_00000019_0.wav',\n",
              " 'a_00000098_0.wav',\n",
              " 'a_00000067_5000.wav',\n",
              " 'a_00000053_5000.wav',\n",
              " 'a_00000026_5000.wav',\n",
              " 'a_00000020_0.wav',\n",
              " 'a_00000027_5000.wav',\n",
              " 'a_00000057_5000.wav',\n",
              " 'a_00000068_0.wav',\n",
              " 'a_00000030_5000.wav',\n",
              " 'a_00000076_0.wav',\n",
              " 'a_00000027_0.wav',\n",
              " 'a_00000043_0.wav',\n",
              " 'a_00000087_0.wav',\n",
              " 'a_00000077_0.wav',\n",
              " 'a_00000105_0.wav',\n",
              " 'a_00000122_5000.wav',\n",
              " 'a_00000023_5000.wav',\n",
              " 'a_00000074_0.wav',\n",
              " 'a_00000011_0.wav',\n",
              " 'a_00000073_0.wav',\n",
              " 'a_00000055_5000.wav',\n",
              " 'a_00000124_5000.wav',\n",
              " 'a_00000017_5000.wav',\n",
              " 'a_00000094_5000.wav',\n",
              " 'a_00000099_5000.wav',\n",
              " 'a_00000088_5000.wav',\n",
              " 'a_00000133_0.wav',\n",
              " 'a_00000124_0.wav',\n",
              " 'a_00000100_0.wav',\n",
              " 'n_00000292_5000.wav',\n",
              " 'n_00000291_5000.wav',\n",
              " 'n_00000376_5000.wav',\n",
              " 'n_00000362_5000.wav',\n",
              " 'n_00000371_0.wav',\n",
              " 'n_00000292_0.wav',\n",
              " 'n_00000213_5000.wav',\n",
              " 'n_00000218_0.wav',\n",
              " 'n_00000277_0.wav',\n",
              " 'n_00000329_0.wav',\n",
              " 'n_00000320_5000.wav',\n",
              " 'n_00000353_0.wav',\n",
              " 'n_00000317_0.wav',\n",
              " 'n_00000287_5000.wav',\n",
              " 'n_00000302_5000.wav',\n",
              " 'n_00000274_5000.wav',\n",
              " 'n_00000262_0.wav',\n",
              " 'n_00000359_5000.wav',\n",
              " 'n_00000324_0.wav',\n",
              " 'n_00000267_5000.wav',\n",
              " 'n_00000320_0.wav',\n",
              " 'n_00000246_5000.wav',\n",
              " 'n_00000359_0.wav',\n",
              " 'n_00000316_0.wav',\n",
              " 'n_00000312_5000.wav',\n",
              " 'n_00000243_0.wav',\n",
              " 'n_00000308_5000.wav',\n",
              " 'n_00000282_0.wav',\n",
              " 'n_00000310_0.wav',\n",
              " 'n_00000208_5000.wav',\n",
              " 'n_00000273_0.wav',\n",
              " 'n_00000336_5000.wav',\n",
              " 'n_00000263_5000.wav',\n",
              " 'n_00000334_5000.wav',\n",
              " 'n_00000255_5000.wav',\n",
              " 'n_00000227_5000.wav',\n",
              " 'n_00000290_0.wav',\n",
              " 'n_00000231_0.wav',\n",
              " 'n_00000299_0.wav',\n",
              " 'n_00000322_5000.wav',\n",
              " 'n_00000264_0.wav',\n",
              " 'n_00000345_5000.wav',\n",
              " 'n_00000365_5000.wav',\n",
              " 'n_00000380_0.wav',\n",
              " 'n_00000355_0.wav',\n",
              " 'n_00000342_0.wav',\n",
              " 'n_00000249_5000.wav',\n",
              " 'n_00000308_0.wav',\n",
              " 'n_00000365_0.wav',\n",
              " 'a_00000005_0.wav',\n",
              " 'n_00000256_0.wav',\n",
              " 'n_00000338_5000.wav',\n",
              " 'n_00000270_0.wav',\n",
              " 'n_00000318_5000.wav',\n",
              " 'n_00000369_0.wav',\n",
              " 'n_00000217_0.wav',\n",
              " 'n_00000251_0.wav',\n",
              " 'n_00000323_5000.wav',\n",
              " 'n_00000347_0.wav',\n",
              " 'n_00000360_0.wav',\n",
              " 'n_00000309_5000.wav',\n",
              " 'n_00000223_0.wav',\n",
              " 'n_00000330_0.wav',\n",
              " 'n_00000329_5000.wav',\n",
              " 'n_00000229_5000.wav',\n",
              " 'n_00000143_0.wav',\n",
              " 'n_00000161_0.wav',\n",
              " 'n_00000111_0.wav',\n",
              " 'n_00000104_0.wav',\n",
              " 'n_00000112_5000.wav',\n",
              " 'n_00000088_0.wav',\n",
              " 'n_00000174_5000.wav',\n",
              " 'n_00000184_0.wav',\n",
              " 'n_00000159_5000.wav',\n",
              " 'n_00000083_5000.wav',\n",
              " 'n_00000066_5000.wav',\n",
              " 'n_00000177_5000.wav',\n",
              " 'n_00000062_0.wav',\n",
              " 'n_00000142_5000.wav',\n",
              " 'n_00000086_5000.wav',\n",
              " 'n_00000053_0.wav',\n",
              " 'n_00000127_5000.wav',\n",
              " 'n_00000147_0.wav',\n",
              " 'n_00000071_5000.wav',\n",
              " 'n_00000126_0.wav',\n",
              " 'n_00000120_5000.wav',\n",
              " 'n_00000096_0.wav',\n",
              " 'n_00000202_5000.wav',\n",
              " 'n_00000079_0.wav',\n",
              " 'n_00000067_0.wav',\n",
              " 'n_00000105_0.wav',\n",
              " 'n_00000164_5000.wav',\n",
              " 'n_00000171_0.wav',\n",
              " 'n_00000085_0.wav',\n",
              " 'n_00000067_5000.wav',\n",
              " 'n_00000166_0.wav',\n",
              " 'n_00000079_5000.wav',\n",
              " 'n_00000096_5000.wav',\n",
              " 'n_00000116_0.wav',\n",
              " 'n_00000179_0.wav',\n",
              " 'n_00000077_0.wav',\n",
              " 'n_00000135_5000.wav',\n",
              " 'n_00000173_5000.wav',\n",
              " 'n_00000055_0.wav',\n",
              " 'n_00000113_5000.wav',\n",
              " 'n_00000166_5000.wav',\n",
              " 'n_00000169_0.wav',\n",
              " 'n_00000133_5000.wav',\n",
              " 'n_00000065_5000.wav',\n",
              " 'n_00000063_5000.wav',\n",
              " 'n_00000209_5000.wav',\n",
              " 'n_00000151_5000.wav',\n",
              " 'n_00000066_0.wav',\n",
              " 'n_00000126_5000.wav',\n",
              " 'n_00000094_0.wav',\n",
              " 'n_00000158_0.wav',\n",
              " 'n_00000080_0.wav',\n",
              " 'n_00000129_5000.wav',\n",
              " 'n_00000160_5000.wav',\n",
              " 'n_00000167_0.wav',\n",
              " 'n_00000082_0.wav',\n",
              " 'n_00000186_5000.wav',\n",
              " 'n_00000152_5000.wav',\n",
              " 'n_00000213_0.wav',\n",
              " 'n_00000100_5000.wav',\n",
              " 'n_00000187_0.wav',\n",
              " 'n_00000097_5000.wav',\n",
              " 'n_00000131_5000.wav',\n",
              " 'n_00000095_0.wav',\n",
              " 'n_00000000_0.wav',\n",
              " 'n_00000028_0.wav',\n",
              " 'n_00000023_5000.wav',\n",
              " 'n_00000015_5000.wav',\n",
              " 'n_00000043_5000.wav',\n",
              " 'n_00000014_5000.wav',\n",
              " 'n_00000006_0.wav',\n",
              " 'n_00000019_0.wav',\n",
              " 'n_00000018_0.wav',\n",
              " 'n_00000055_5000.wav',\n",
              " 'n_00000006_5000.wav',\n",
              " 'n_00000004_5000.wav',\n",
              " 'n_00000003_5000.wav',\n",
              " 'n_00000039_5000.wav',\n",
              " 'n_00000013_0.wav',\n",
              " 'n_00000064_5000.wav',\n",
              " 'n_00000034_0.wav',\n",
              " 'n_00000009_0.wav',\n",
              " 'n_00000052_5000.wav',\n",
              " 'n_00000022_5000.wav',\n",
              " 'n_00000049_5000.wav',\n",
              " 'n_00000020_5000.wav',\n",
              " 'n_00000011_0.wav',\n",
              " 'n_00000044_0.wav']"
            ]
          },
          "metadata": {},
          "execution_count": 67
        }
      ]
    },
    {
      "cell_type": "code",
      "source": [
        "normal_test = test_data+\"/n_*.wav\"\n",
        "abnormal_test = test_data+\"/a_*.wav\""
      ],
      "metadata": {
        "id": "k3tSW1Zi-M3x"
      },
      "execution_count": 68,
      "outputs": []
    },
    {
      "cell_type": "code",
      "source": [
        "normal_test"
      ],
      "metadata": {
        "colab": {
          "base_uri": "https://localhost:8080/",
          "height": 35
        },
        "id": "4f7ESIO8-Uli",
        "outputId": "752d5853-0e4d-4186-db60-5e01983d8a3e"
      },
      "execution_count": 69,
      "outputs": [
        {
          "output_type": "execute_result",
          "data": {
            "text/plain": [
              "'/content/drive/MyDrive/Dst/test/n_*.wav'"
            ],
            "application/vnd.google.colaboratory.intrinsic+json": {
              "type": "string"
            }
          },
          "metadata": {},
          "execution_count": 69
        }
      ]
    },
    {
      "cell_type": "code",
      "source": [
        "normal_val = val_data+\"/n_*.wav\"\n",
        "abnormal_val = val_data+\"/a_*.wav\""
      ],
      "metadata": {
        "id": "ia4PQ0JR-WVo"
      },
      "execution_count": 70,
      "outputs": []
    },
    {
      "cell_type": "code",
      "source": [
        "import librosa\n",
        "import librosa.display"
      ],
      "metadata": {
        "id": "BxBfUuHL-7v5"
      },
      "execution_count": 71,
      "outputs": []
    },
    {
      "cell_type": "code",
      "source": [
        "import glob\n",
        "\n",
        "normal_test_signals = [\n",
        "    librosa.load(p)[0] for p in glob.glob(normal_test)\n",
        "]\n",
        "\n",
        "abnormal_test_signals = [\n",
        "    librosa.load(p)[0] for p in glob.glob(abnormal_test)\n",
        "]\n",
        "\n",
        "normal_val_signals = [\n",
        "    librosa.load(p)[0] for p in glob.glob(normal_val)\n",
        "]\n",
        "\n",
        "abnormal_val_signals = [\n",
        "    librosa.load(p)[0] for p in glob.glob(abnormal_val)\n",
        "]"
      ],
      "metadata": {
        "id": "M1a5TeBr-bon"
      },
      "execution_count": 72,
      "outputs": []
    },
    {
      "cell_type": "code",
      "source": [
        "print(\"Shape of normal_test_signals:\", np.array(normal_test_signals, dtype=object).shape)\n",
        "print(\"Shape of abnormal_test_signals:\", np.array(abnormal_test_signals, dtype=object).shape)\n",
        "print(\"Shape of normal_val_signals:\", np.array(normal_val_signals, dtype=object).shape)\n",
        "print(\"Shape of abnormal_val_signals:\", np.array(abnormal_val_signals, dtype=object).shape)"
      ],
      "metadata": {
        "colab": {
          "base_uri": "https://localhost:8080/"
        },
        "id": "veDzHysX-pTB",
        "outputId": "6e659d92-5292-44e6-b189-32f782b8331d"
      },
      "execution_count": 73,
      "outputs": [
        {
          "output_type": "stream",
          "name": "stdout",
          "text": [
            "Shape of normal_test_signals: (154, 110250)\n",
            "Shape of abnormal_test_signals: (54, 110250)\n",
            "Shape of normal_val_signals: (119, 110250)\n",
            "Shape of abnormal_val_signals: (47, 110250)\n"
          ]
        }
      ]
    },
    {
      "cell_type": "code",
      "source": [
        "def save_dataset(dataset, filename):\n",
        "    dump(dataset, open(filename, 'wb'))\n",
        "    print('Saved: %s' % filename)"
      ],
      "metadata": {
        "id": "iRuKu7lZ_0SF"
      },
      "execution_count": 74,
      "outputs": []
    },
    {
      "cell_type": "code",
      "source": [
        "datasetFile = 'coffee_test.pkl'\n",
        "save_dataset([normal_test_signals, abnormal_test_signals], datasetFile)"
      ],
      "metadata": {
        "colab": {
          "base_uri": "https://localhost:8080/"
        },
        "id": "gRlsqbSrAJou",
        "outputId": "e9cf696e-dbc8-40f7-d965-0069f79abe70"
      },
      "execution_count": 75,
      "outputs": [
        {
          "output_type": "stream",
          "name": "stdout",
          "text": [
            "Saved: coffee_test.pkl\n"
          ]
        }
      ]
    },
    {
      "cell_type": "code",
      "source": [
        "datasetFile_val = 'coffee_val.pkl'\n",
        "save_dataset([normal_val_signals, abnormal_val_signals], datasetFile_val)"
      ],
      "metadata": {
        "colab": {
          "base_uri": "https://localhost:8080/"
        },
        "id": "3kS2N38RALBl",
        "outputId": "a6c1342f-a243-4354-cfb7-1956435ef761"
      },
      "execution_count": 76,
      "outputs": [
        {
          "output_type": "stream",
          "name": "stdout",
          "text": [
            "Saved: coffee_val.pkl\n"
          ]
        }
      ]
    },
    {
      "cell_type": "code",
      "source": [
        "def load_dataset(filename):\n",
        "    return load(open(filename, 'rb'))\n",
        "\n",
        "[normal_test_signals, abnormal_test_signals] = load_dataset(datasetFile)"
      ],
      "metadata": {
        "id": "pPM2kpHwAN8V"
      },
      "execution_count": 77,
      "outputs": []
    },
    {
      "cell_type": "code",
      "source": [
        "len(normal_test_signals), len(abnormal_test_signals)"
      ],
      "metadata": {
        "colab": {
          "base_uri": "https://localhost:8080/"
        },
        "id": "kPMsP9WLAP1H",
        "outputId": "8f89cba6-9e96-4654-afc9-b3ec538fca8b"
      },
      "execution_count": 78,
      "outputs": [
        {
          "output_type": "execute_result",
          "data": {
            "text/plain": [
              "(154, 54)"
            ]
          },
          "metadata": {},
          "execution_count": 78
        }
      ]
    },
    {
      "cell_type": "code",
      "source": [
        "[normal_val_signals, abnormal_val_signals] = load_dataset(datasetFile_val)"
      ],
      "metadata": {
        "id": "1_Vth_VbARpq"
      },
      "execution_count": 79,
      "outputs": []
    },
    {
      "cell_type": "code",
      "source": [
        "len(normal_val_signals), len(abnormal_val_signals)"
      ],
      "metadata": {
        "colab": {
          "base_uri": "https://localhost:8080/"
        },
        "id": "m4X-yB8EAUGO",
        "outputId": "6ec3f158-d24a-44a4-c360-89039b3d56cd"
      },
      "execution_count": 80,
      "outputs": [
        {
          "output_type": "execute_result",
          "data": {
            "text/plain": [
              "(119, 47)"
            ]
          },
          "metadata": {},
          "execution_count": 80
        }
      ]
    },
    {
      "cell_type": "code",
      "source": [
        "plt.figure(figsize=(15, 6))\n",
        "for i, x in enumerate(normal_test_signals[:10]):\n",
        "    plt.subplot(2, 5, i+1)\n",
        "    librosa.display.waveshow(x[:10000])\n",
        "    plt.ylim(-1, 1)"
      ],
      "metadata": {
        "colab": {
          "base_uri": "https://localhost:8080/",
          "height": 545
        },
        "id": "k_Ywmkz1AWOI",
        "outputId": "b02ef28f-1cd0-4093-b53f-764ffc88fd75"
      },
      "execution_count": 81,
      "outputs": [
        {
          "output_type": "display_data",
          "data": {
            "text/plain": [
              "<Figure size 1500x600 with 10 Axes>"
            ],
            "image/png": "[encoded data removed]"
          },
          "metadata": {}
        }
      ]
    },
    {
      "cell_type": "code",
      "source": [
        "plt.figure(figsize=(15, 6))\n",
        "for i, x in enumerate(abnormal_test_signals[:10]):\n",
        "    plt.subplot(2, 5, i+1)\n",
        "    librosa.display.waveshow(x[:10000])\n",
        "    plt.ylim(-1, 1)"
      ],
      "metadata": {
        "colab": {
          "base_uri": "https://localhost:8080/",
          "height": 545
        },
        "id": "7bdY623FAX1N",
        "outputId": "9f492696-635f-423d-f3d1-619f44150789"
      },
      "execution_count": 82,
      "outputs": [
        {
          "output_type": "display_data",
          "data": {
            "text/plain": [
              "<Figure size 1500x600 with 10 Axes>"
            ],
            "image/png": "[encoded data removed]"
          },
          "metadata": {}
        }
      ]
    },
    {
      "cell_type": "code",
      "source": [
        "def extract_features(signal):\n",
        "    return [\n",
        "        librosa.feature.zero_crossing_rate(signal)[0, 0],\n",
        "        librosa.feature.spectral_centroid(y=signal)[0, 0],\n",
        "    ]"
      ],
      "metadata": {
        "id": "T6AbdTxUAZ97"
      },
      "execution_count": 83,
      "outputs": []
    },
    {
      "cell_type": "code",
      "source": [
        "def extract_features(signal):\n",
        "    return [\n",
        "        librosa.feature.zero_crossing_rate(signal)[0, 0],\n",
        "        librosa.feature.spectral_centroid(y=signal)[0, 0],\n",
        "    ]"
      ],
      "metadata": {
        "id": "rTZsbNlQAcV5"
      },
      "execution_count": 84,
      "outputs": []
    },
    {
      "cell_type": "code",
      "source": [
        "normal_test_features = np.array([extract_features(x) for x in normal_test_signals])\n",
        "abnormal_test_features = np.array([extract_features(x) for x in abnormal_test_signals])"
      ],
      "metadata": {
        "id": "zTmGAWgzAd0f"
      },
      "execution_count": 85,
      "outputs": []
    },
    {
      "cell_type": "code",
      "source": [
        "normal_val_features = np.array([extract_features(x) for x in normal_val_signals])\n",
        "abnormal_val_features = np.array([extract_features(x) for x in abnormal_val_signals])"
      ],
      "metadata": {
        "id": "sTrUCU5OAiR6"
      },
      "execution_count": 86,
      "outputs": []
    },
    {
      "cell_type": "code",
      "source": [
        "print(normal_test_features.shape)\n",
        "print(abnormal_test_features.shape)\n",
        "print(normal_val_features.shape)\n",
        "print(abnormal_val_features.shape)"
      ],
      "metadata": {
        "colab": {
          "base_uri": "https://localhost:8080/"
        },
        "id": "F8Xzu264Awvr",
        "outputId": "bd3b4631-5957-4a78-fbf9-219ba1091e25"
      },
      "execution_count": 87,
      "outputs": [
        {
          "output_type": "stream",
          "name": "stdout",
          "text": [
            "(154, 2)\n",
            "(54, 2)\n",
            "(119, 2)\n",
            "(47, 2)\n"
          ]
        }
      ]
    },
    {
      "cell_type": "code",
      "source": [
        "print(normal_test_features[10])\n",
        "print(abnormal_test_features[10])\n",
        "print(normal_val_features[10])\n",
        "print(abnormal_val_features[10])"
      ],
      "metadata": {
        "colab": {
          "base_uri": "https://localhost:8080/"
        },
        "id": "XN83e6DHAy5p",
        "outputId": "96f1baad-32ea-4f59-bff1-baab8fc16fec"
      },
      "execution_count": 88,
      "outputs": [
        {
          "output_type": "stream",
          "name": "stdout",
          "text": [
            "[4.78515625e-02 2.15636752e+03]\n",
            "[4.49218750e-02 1.64451301e+03]\n",
            "[4.39453125e-02 1.65073992e+03]\n",
            "[3.22265625e-02 1.49050221e+03]\n"
          ]
        }
      ]
    },
    {
      "cell_type": "code",
      "source": [
        "plt.figure(figsize=(14, 5))\n",
        "plt.hist(normal_test_features[:,0], color='b', range=(0, 0.2), alpha=0.5, bins=20)\n",
        "plt.hist(abnormal_test_features[:,0], color='r', range=(0, 0.2), alpha=0.5, bins=20)\n",
        "plt.legend(('normal', 'abnormal'))\n",
        "plt.xlabel('Zero Crossing Rate')\n",
        "plt.ylabel('Count')"
      ],
      "metadata": {
        "colab": {
          "base_uri": "https://localhost:8080/",
          "height": 482
        },
        "id": "hVn9wTogA0M4",
        "outputId": "59e6f70a-20d8-44cb-a053-6e3fc797d5b5"
      },
      "execution_count": 89,
      "outputs": [
        {
          "output_type": "execute_result",
          "data": {
            "text/plain": [
              "Text(0, 0.5, 'Count')"
            ]
          },
          "metadata": {},
          "execution_count": 89
        },
        {
          "output_type": "display_data",
          "data": {
            "text/plain": [
              "<Figure size 1400x500 with 1 Axes>"
            ],
            "image/png": "[encoded data removed]"
          },
          "metadata": {}
        }
      ]
    },
    {
      "cell_type": "code",
      "source": [
        "plt.figure(figsize=(14, 5))\n",
        "plt.hist(normal_test_features[:,1], color='b', range=(0, 4000), bins=30, alpha=0.6)\n",
        "plt.hist(abnormal_test_features[:,1], color='r', range=(0, 4000), bins=30, alpha=0.6)\n",
        "plt.legend(('normal', 'abnormal'))\n",
        "plt.xlabel('Spectral Centroid (frequency bin)')\n",
        "plt.ylabel('Count')"
      ],
      "metadata": {
        "colab": {
          "base_uri": "https://localhost:8080/",
          "height": 482
        },
        "id": "e89Si2nWA2qt",
        "outputId": "0a18f190-f33c-432a-ef04-40b6b15a439b"
      },
      "execution_count": 90,
      "outputs": [
        {
          "output_type": "execute_result",
          "data": {
            "text/plain": [
              "Text(0, 0.5, 'Count')"
            ]
          },
          "metadata": {},
          "execution_count": 90
        },
        {
          "output_type": "display_data",
          "data": {
            "text/plain": [
              "<Figure size 1400x500 with 1 Axes>"
            ],
            "image/png": "[encoded data removed]"
          },
          "metadata": {}
        }
      ]
    },
    {
      "cell_type": "code",
      "source": [
        "feature_test_table = np.vstack((normal_test_features, abnormal_test_features))\n",
        "print(feature_test_table.shape)"
      ],
      "metadata": {
        "colab": {
          "base_uri": "https://localhost:8080/"
        },
        "id": "a8A9rLFMA4LP",
        "outputId": "0cdbc550-93b2-4374-f71b-0206b9827e2a"
      },
      "execution_count": 91,
      "outputs": [
        {
          "output_type": "stream",
          "name": "stdout",
          "text": [
            "(208, 2)\n"
          ]
        }
      ]
    },
    {
      "cell_type": "code",
      "source": [
        "feature_val_table = np.vstack((normal_val_features, abnormal_val_features))\n",
        "print(feature_val_table.shape)"
      ],
      "metadata": {
        "colab": {
          "base_uri": "https://localhost:8080/"
        },
        "id": "9ps88SMPA6KX",
        "outputId": "2f5cee2e-3660-4572-b131-cc792b7f866b"
      },
      "execution_count": 92,
      "outputs": [
        {
          "output_type": "stream",
          "name": "stdout",
          "text": [
            "(166, 2)\n"
          ]
        }
      ]
    },
    {
      "cell_type": "code",
      "source": [
        "scaler = sklearn.preprocessing.MinMaxScaler(feature_range=(-1, 1))\n",
        "testing_features = scaler.fit_transform(feature_test_table)\n",
        "print(testing_features.min(axis=0))\n",
        "print(testing_features.max(axis=0))"
      ],
      "metadata": {
        "colab": {
          "base_uri": "https://localhost:8080/"
        },
        "id": "xXqtpOjhA71p",
        "outputId": "ad248844-286a-4182-a8ee-d358998f1131"
      },
      "execution_count": 93,
      "outputs": [
        {
          "output_type": "stream",
          "name": "stdout",
          "text": [
            "[-1. -1.]\n",
            "[1. 1.]\n"
          ]
        }
      ]
    },
    {
      "cell_type": "code",
      "source": [
        "scaler = sklearn.preprocessing.MinMaxScaler(feature_range=(-1, 1))\n",
        "val_features = scaler.fit_transform(feature_val_table)\n",
        "print(val_features.min(axis=0))\n",
        "print(val_features.max(axis=0))"
      ],
      "metadata": {
        "colab": {
          "base_uri": "https://localhost:8080/"
        },
        "id": "Zpv0vRgcA9Dt",
        "outputId": "8e51936b-0f05-4d05-dc07-619d10cc49b1"
      },
      "execution_count": 94,
      "outputs": [
        {
          "output_type": "stream",
          "name": "stdout",
          "text": [
            "[-1. -1.]\n",
            "[1. 1.]\n"
          ]
        }
      ]
    },
    {
      "cell_type": "code",
      "source": [
        "plt.scatter(testing_features[:489,0], testing_features[:489,1], c='b')\n",
        "plt.scatter(testing_features[489:,0], testing_features[489:,1], c='r')\n",
        "plt.xlabel('Zero Crossing Rate')\n",
        "plt.ylabel('Spectral Centroid')"
      ],
      "metadata": {
        "colab": {
          "base_uri": "https://localhost:8080/",
          "height": 466
        },
        "id": "8hO830mFA-fv",
        "outputId": "c0a33d74-8986-451e-ac0e-3b140a1e4d2b"
      },
      "execution_count": 95,
      "outputs": [
        {
          "output_type": "execute_result",
          "data": {
            "text/plain": [
              "Text(0, 0.5, 'Spectral Centroid')"
            ]
          },
          "metadata": {},
          "execution_count": 95
        },
        {
          "output_type": "display_data",
          "data": {
            "text/plain": [
              "<Figure size 640x480 with 1 Axes>"
            ],
            "image/png": "[encoded data removed]"
          },
          "metadata": {}
        }
      ]
    },
    {
      "cell_type": "code",
      "source": [
        "y_test_total = [0 for i in range(len(normal_test_signals))] + [1 for i in range(len(abnormal_test_signals))]\n",
        "y_val_total = [0 for i in range(len(normal_val_signals))] + [1 for i in range(len(abnormal_val_signals))]"
      ],
      "metadata": {
        "id": "5h5IvN3UBAVK"
      },
      "execution_count": 96,
      "outputs": []
    },
    {
      "cell_type": "code",
      "source": [
        "y_test_encoded = to_categorical(y_test_total)\n",
        "y_val_encoded = to_categorical(y_val_total)"
      ],
      "metadata": {
        "id": "xQZCCVQKBCMD"
      },
      "execution_count": 97,
      "outputs": []
    },
    {
      "cell_type": "code",
      "source": [
        "y_test_encoded[:10]"
      ],
      "metadata": {
        "colab": {
          "base_uri": "https://localhost:8080/"
        },
        "id": "jDz5kg2cBDiv",
        "outputId": "5d782c00-f1ae-425f-b24e-90d763c6e177"
      },
      "execution_count": 98,
      "outputs": [
        {
          "output_type": "execute_result",
          "data": {
            "text/plain": [
              "array([[1., 0.],\n",
              "       [1., 0.],\n",
              "       [1., 0.],\n",
              "       [1., 0.],\n",
              "       [1., 0.],\n",
              "       [1., 0.],\n",
              "       [1., 0.],\n",
              "       [1., 0.],\n",
              "       [1., 0.],\n",
              "       [1., 0.]])"
            ]
          },
          "metadata": {},
          "execution_count": 98
        }
      ]
    },
    {
      "cell_type": "code",
      "source": [
        "x_test = testing_features\n",
        "y_test = y_test_encoded\n",
        "x_val = val_features\n",
        "y_val = y_val_encoded"
      ],
      "metadata": {
        "id": "NM7ybFdyBErO"
      },
      "execution_count": 99,
      "outputs": []
    },
    {
      "cell_type": "code",
      "source": [
        "x_test.shape, y_test.shape"
      ],
      "metadata": {
        "colab": {
          "base_uri": "https://localhost:8080/"
        },
        "id": "rHZYp8RfBHn8",
        "outputId": "ac0e02f1-867f-4e58-a926-e76854ead6ee"
      },
      "execution_count": 100,
      "outputs": [
        {
          "output_type": "execute_result",
          "data": {
            "text/plain": [
              "((208, 2), (208, 2))"
            ]
          },
          "metadata": {},
          "execution_count": 100
        }
      ]
    },
    {
      "cell_type": "code",
      "source": [
        "from tensorflow.keras.models import Model\n",
        "from tensorflow.keras.models import Sequential\n",
        "\n",
        "from tensorflow.keras.layers import Dropout\n",
        "from tensorflow.keras.layers import Activation\n",
        "from tensorflow.keras.layers import LeakyReLU\n",
        "from tensorflow.keras.layers import Dense\n",
        "from tensorflow.keras.optimizers import Adam\n",
        "from tensorflow.keras.layers import Input\n",
        "from tensorflow.keras.layers import Conv2D, MaxPooling2D, GlobalAveragePooling2D"
      ],
      "metadata": {
        "id": "HDXXAvNiBJE_"
      },
      "execution_count": 122,
      "outputs": []
    },
    {
      "cell_type": "code",
      "source": [
        "def create_model():\n",
        "    model = Sequential()\n",
        "    model.add(Input(shape=(2,)))\n",
        "    model.add(Dense(8))\n",
        "    model.add(LeakyReLU(negative_slope=0.1))\n",
        "    model.add(Dropout(0.2))\n",
        "    model.add(Dense(2, activation='softmax'))\n",
        "    return model"
      ],
      "metadata": {
        "id": "mAQFgmolBeXh"
      },
      "execution_count": 102,
      "outputs": []
    },
    {
      "cell_type": "code",
      "source": [
        "model = create_model()\n",
        "model.summary()\n",
        "adam_optim = Adam(learning_rate=0.0001)\n",
        "model.compile(optimizer=adam_optim, loss='categorical_crossentropy', metrics=['accuracy'])"
      ],
      "metadata": {
        "colab": {
          "base_uri": "https://localhost:8080/",
          "height": 268
        },
        "id": "vTaghODPBfrm",
        "outputId": "f69a104e-8294-42e8-d776-a8143817cf4c"
      },
      "execution_count": 103,
      "outputs": [
        {
          "output_type": "display_data",
          "data": {
            "text/plain": [
              "\u001b[1mModel: \"sequential_1\"\u001b[0m\n"
            ],
            "text/html": [
              "<pre style=\"white-space:pre;overflow-x:auto;line-height:normal;font-family:Menlo,'DejaVu Sans Mono',consolas,'Courier New',monospace\"><span style=\"font-weight: bold\">Model: \"sequential_1\"</span>\n",
              "</pre>\n"
            ]
          },
          "metadata": {}
        },
        {
          "output_type": "display_data",
          "data": {
            "text/plain": [
              "┏━━━━━━━━━━━━━━━━━━━━━━━━━━━━━━━━━┳━━━━━━━━━━━━━━━━━━━━━━━━┳━━━━━━━━━━━━━━━┓\n",
              "┃\u001b[1m \u001b[0m\u001b[1mLayer (type)                   \u001b[0m\u001b[1m \u001b[0m┃\u001b[1m \u001b[0m\u001b[1mOutput Shape          \u001b[0m\u001b[1m \u001b[0m┃\u001b[1m \u001b[0m\u001b[1m      Param #\u001b[0m\u001b[1m \u001b[0m┃\n",
              "┡━━━━━━━━━━━━━━━━━━━━━━━━━━━━━━━━━╇━━━━━━━━━━━━━━━━━━━━━━━━╇━━━━━━━━━━━━━━━┩\n",
              "│ dense_2 (\u001b[38;5;33mDense\u001b[0m)                 │ (\u001b[38;5;45mNone\u001b[0m, \u001b[38;5;34m8\u001b[0m)              │            \u001b[38;5;34m24\u001b[0m │\n",
              "├─────────────────────────────────┼────────────────────────┼───────────────┤\n",
              "│ leaky_re_lu_1 (\u001b[38;5;33mLeakyReLU\u001b[0m)       │ (\u001b[38;5;45mNone\u001b[0m, \u001b[38;5;34m8\u001b[0m)              │             \u001b[38;5;34m0\u001b[0m │\n",
              "├─────────────────────────────────┼────────────────────────┼───────────────┤\n",
              "│ dropout_1 (\u001b[38;5;33mDropout\u001b[0m)             │ (\u001b[38;5;45mNone\u001b[0m, \u001b[38;5;34m8\u001b[0m)              │             \u001b[38;5;34m0\u001b[0m │\n",
              "├─────────────────────────────────┼────────────────────────┼───────────────┤\n",
              "│ dense_3 (\u001b[38;5;33mDense\u001b[0m)                 │ (\u001b[38;5;45mNone\u001b[0m, \u001b[38;5;34m2\u001b[0m)              │            \u001b[38;5;34m18\u001b[0m │\n",
              "└─────────────────────────────────┴────────────────────────┴───────────────┘\n"
            ],
            "text/html": [
              "<pre style=\"white-space:pre;overflow-x:auto;line-height:normal;font-family:Menlo,'DejaVu Sans Mono',consolas,'Courier New',monospace\">┏━━━━━━━━━━━━━━━━━━━━━━━━━━━━━━━━━┳━━━━━━━━━━━━━━━━━━━━━━━━┳━━━━━━━━━━━━━━━┓\n",
              "┃<span style=\"font-weight: bold\"> Layer (type)                    </span>┃<span style=\"font-weight: bold\"> Output Shape           </span>┃<span style=\"font-weight: bold\">       Param # </span>┃\n",
              "┡━━━━━━━━━━━━━━━━━━━━━━━━━━━━━━━━━╇━━━━━━━━━━━━━━━━━━━━━━━━╇━━━━━━━━━━━━━━━┩\n",
              "│ dense_2 (<span style=\"color: #0087ff; text-decoration-color: #0087ff\">Dense</span>)                 │ (<span style=\"color: #00d7ff; text-decoration-color: #00d7ff\">None</span>, <span style=\"color: #00af00; text-decoration-color: #00af00\">8</span>)              │            <span style=\"color: #00af00; text-decoration-color: #00af00\">24</span> │\n",
              "├─────────────────────────────────┼────────────────────────┼───────────────┤\n",
              "│ leaky_re_lu_1 (<span style=\"color: #0087ff; text-decoration-color: #0087ff\">LeakyReLU</span>)       │ (<span style=\"color: #00d7ff; text-decoration-color: #00d7ff\">None</span>, <span style=\"color: #00af00; text-decoration-color: #00af00\">8</span>)              │             <span style=\"color: #00af00; text-decoration-color: #00af00\">0</span> │\n",
              "├─────────────────────────────────┼────────────────────────┼───────────────┤\n",
              "│ dropout_1 (<span style=\"color: #0087ff; text-decoration-color: #0087ff\">Dropout</span>)             │ (<span style=\"color: #00d7ff; text-decoration-color: #00d7ff\">None</span>, <span style=\"color: #00af00; text-decoration-color: #00af00\">8</span>)              │             <span style=\"color: #00af00; text-decoration-color: #00af00\">0</span> │\n",
              "├─────────────────────────────────┼────────────────────────┼───────────────┤\n",
              "│ dense_3 (<span style=\"color: #0087ff; text-decoration-color: #0087ff\">Dense</span>)                 │ (<span style=\"color: #00d7ff; text-decoration-color: #00d7ff\">None</span>, <span style=\"color: #00af00; text-decoration-color: #00af00\">2</span>)              │            <span style=\"color: #00af00; text-decoration-color: #00af00\">18</span> │\n",
              "└─────────────────────────────────┴────────────────────────┴───────────────┘\n",
              "</pre>\n"
            ]
          },
          "metadata": {}
        },
        {
          "output_type": "display_data",
          "data": {
            "text/plain": [
              "\u001b[1m Total params: \u001b[0m\u001b[38;5;34m42\u001b[0m (168.00 B)\n"
            ],
            "text/html": [
              "<pre style=\"white-space:pre;overflow-x:auto;line-height:normal;font-family:Menlo,'DejaVu Sans Mono',consolas,'Courier New',monospace\"><span style=\"font-weight: bold\"> Total params: </span><span style=\"color: #00af00; text-decoration-color: #00af00\">42</span> (168.00 B)\n",
              "</pre>\n"
            ]
          },
          "metadata": {}
        },
        {
          "output_type": "display_data",
          "data": {
            "text/plain": [
              "\u001b[1m Trainable params: \u001b[0m\u001b[38;5;34m42\u001b[0m (168.00 B)\n"
            ],
            "text/html": [
              "<pre style=\"white-space:pre;overflow-x:auto;line-height:normal;font-family:Menlo,'DejaVu Sans Mono',consolas,'Courier New',monospace\"><span style=\"font-weight: bold\"> Trainable params: </span><span style=\"color: #00af00; text-decoration-color: #00af00\">42</span> (168.00 B)\n",
              "</pre>\n"
            ]
          },
          "metadata": {}
        },
        {
          "output_type": "display_data",
          "data": {
            "text/plain": [
              "\u001b[1m Non-trainable params: \u001b[0m\u001b[38;5;34m0\u001b[0m (0.00 B)\n"
            ],
            "text/html": [
              "<pre style=\"white-space:pre;overflow-x:auto;line-height:normal;font-family:Menlo,'DejaVu Sans Mono',consolas,'Courier New',monospace\"><span style=\"font-weight: bold\"> Non-trainable params: </span><span style=\"color: #00af00; text-decoration-color: #00af00\">0</span> (0.00 B)\n",
              "</pre>\n"
            ]
          },
          "metadata": {}
        }
      ]
    },
    {
      "cell_type": "code",
      "source": [
        "his = model.fit(\n",
        "    x_test,\n",
        "    y_test,\n",
        "    batch_size=1,\n",
        "    epochs=100,\n",
        "    verbose=1,\n",
        "    validation_data = (x_val, y_val)\n",
        ")"
      ],
      "metadata": {
        "colab": {
          "base_uri": "https://localhost:8080/"
        },
        "id": "mXYQGAxLBkZr",
        "outputId": "248d77a1-409a-4780-c4c0-bbedf55e314b"
      },
      "execution_count": 104,
      "outputs": [
        {
          "output_type": "stream",
          "name": "stdout",
          "text": [
            "Epoch 1/100\n",
            "\u001b[1m208/208\u001b[0m \u001b[32m━━━━━━━━━━━━━━━━━━━━\u001b[0m\u001b[37m\u001b[0m \u001b[1m3s\u001b[0m 7ms/step - accuracy: 0.6947 - loss: 0.6482 - val_accuracy: 0.7169 - val_loss: 0.6544\n",
            "Epoch 2/100\n",
            "\u001b[1m208/208\u001b[0m \u001b[32m━━━━━━━━━━━━━━━━━━━━\u001b[0m\u001b[37m\u001b[0m \u001b[1m1s\u001b[0m 5ms/step - accuracy: 0.6771 - loss: 0.6910 - val_accuracy: 0.7169 - val_loss: 0.6532\n",
            "Epoch 3/100\n",
            "\u001b[1m208/208\u001b[0m \u001b[32m━━━━━━━━━━━━━━━━━━━━\u001b[0m\u001b[37m\u001b[0m \u001b[1m1s\u001b[0m 5ms/step - accuracy: 0.7011 - loss: 0.6366 - val_accuracy: 0.7169 - val_loss: 0.6520\n",
            "Epoch 4/100\n",
            "\u001b[1m208/208\u001b[0m \u001b[32m━━━━━━━━━━━━━━━━━━━━\u001b[0m\u001b[37m\u001b[0m \u001b[1m1s\u001b[0m 4ms/step - accuracy: 0.6389 - loss: 0.7191 - val_accuracy: 0.7169 - val_loss: 0.6510\n",
            "Epoch 5/100\n",
            "\u001b[1m208/208\u001b[0m \u001b[32m━━━━━━━━━━━━━━━━━━━━\u001b[0m\u001b[37m\u001b[0m \u001b[1m1s\u001b[0m 3ms/step - accuracy: 0.6713 - loss: 0.6717 - val_accuracy: 0.7169 - val_loss: 0.6498\n",
            "Epoch 6/100\n",
            "\u001b[1m208/208\u001b[0m \u001b[32m━━━━━━━━━━━━━━━━━━━━\u001b[0m\u001b[37m\u001b[0m \u001b[1m1s\u001b[0m 3ms/step - accuracy: 0.7221 - loss: 0.6505 - val_accuracy: 0.7169 - val_loss: 0.6486\n",
            "Epoch 7/100\n",
            "\u001b[1m208/208\u001b[0m \u001b[32m━━━━━━━━━━━━━━━━━━━━\u001b[0m\u001b[37m\u001b[0m \u001b[1m1s\u001b[0m 3ms/step - accuracy: 0.7412 - loss: 0.6468 - val_accuracy: 0.7169 - val_loss: 0.6478\n",
            "Epoch 8/100\n",
            "\u001b[1m208/208\u001b[0m \u001b[32m━━━━━━━━━━━━━━━━━━━━\u001b[0m\u001b[37m\u001b[0m \u001b[1m1s\u001b[0m 3ms/step - accuracy: 0.6908 - loss: 0.6510 - val_accuracy: 0.7169 - val_loss: 0.6468\n",
            "Epoch 9/100\n",
            "\u001b[1m208/208\u001b[0m \u001b[32m━━━━━━━━━━━━━━━━━━━━\u001b[0m\u001b[37m\u001b[0m \u001b[1m1s\u001b[0m 3ms/step - accuracy: 0.6663 - loss: 0.6803 - val_accuracy: 0.7169 - val_loss: 0.6458\n",
            "Epoch 10/100\n",
            "\u001b[1m208/208\u001b[0m \u001b[32m━━━━━━━━━━━━━━━━━━━━\u001b[0m\u001b[37m\u001b[0m \u001b[1m1s\u001b[0m 3ms/step - accuracy: 0.6864 - loss: 0.6644 - val_accuracy: 0.7169 - val_loss: 0.6448\n",
            "Epoch 11/100\n",
            "\u001b[1m208/208\u001b[0m \u001b[32m━━━━━━━━━━━━━━━━━━━━\u001b[0m\u001b[37m\u001b[0m \u001b[1m1s\u001b[0m 3ms/step - accuracy: 0.7786 - loss: 0.6292 - val_accuracy: 0.7169 - val_loss: 0.6438\n",
            "Epoch 12/100\n",
            "\u001b[1m208/208\u001b[0m \u001b[32m━━━━━━━━━━━━━━━━━━━━\u001b[0m\u001b[37m\u001b[0m \u001b[1m1s\u001b[0m 3ms/step - accuracy: 0.7397 - loss: 0.6237 - val_accuracy: 0.7169 - val_loss: 0.6430\n",
            "Epoch 13/100\n",
            "\u001b[1m208/208\u001b[0m \u001b[32m━━━━━━━━━━━━━━━━━━━━\u001b[0m\u001b[37m\u001b[0m \u001b[1m1s\u001b[0m 3ms/step - accuracy: 0.6760 - loss: 0.6933 - val_accuracy: 0.7169 - val_loss: 0.6421\n",
            "Epoch 14/100\n",
            "\u001b[1m208/208\u001b[0m \u001b[32m━━━━━━━━━━━━━━━━━━━━\u001b[0m\u001b[37m\u001b[0m \u001b[1m1s\u001b[0m 3ms/step - accuracy: 0.7401 - loss: 0.6308 - val_accuracy: 0.7169 - val_loss: 0.6412\n",
            "Epoch 15/100\n",
            "\u001b[1m208/208\u001b[0m \u001b[32m━━━━━━━━━━━━━━━━━━━━\u001b[0m\u001b[37m\u001b[0m \u001b[1m1s\u001b[0m 3ms/step - accuracy: 0.7309 - loss: 0.6584 - val_accuracy: 0.7169 - val_loss: 0.6402\n",
            "Epoch 16/100\n",
            "\u001b[1m208/208\u001b[0m \u001b[32m━━━━━━━━━━━━━━━━━━━━\u001b[0m\u001b[37m\u001b[0m \u001b[1m1s\u001b[0m 3ms/step - accuracy: 0.7007 - loss: 0.6956 - val_accuracy: 0.7169 - val_loss: 0.6395\n",
            "Epoch 17/100\n",
            "\u001b[1m208/208\u001b[0m \u001b[32m━━━━━━━━━━━━━━━━━━━━\u001b[0m\u001b[37m\u001b[0m \u001b[1m1s\u001b[0m 3ms/step - accuracy: 0.7578 - loss: 0.6064 - val_accuracy: 0.7169 - val_loss: 0.6386\n",
            "Epoch 18/100\n",
            "\u001b[1m208/208\u001b[0m \u001b[32m━━━━━━━━━━━━━━━━━━━━\u001b[0m\u001b[37m\u001b[0m \u001b[1m1s\u001b[0m 3ms/step - accuracy: 0.7592 - loss: 0.6240 - val_accuracy: 0.7169 - val_loss: 0.6379\n",
            "Epoch 19/100\n",
            "\u001b[1m208/208\u001b[0m \u001b[32m━━━━━━━━━━━━━━━━━━━━\u001b[0m\u001b[37m\u001b[0m \u001b[1m1s\u001b[0m 6ms/step - accuracy: 0.7040 - loss: 0.6370 - val_accuracy: 0.7169 - val_loss: 0.6371\n",
            "Epoch 20/100\n",
            "\u001b[1m208/208\u001b[0m \u001b[32m━━━━━━━━━━━━━━━━━━━━\u001b[0m\u001b[37m\u001b[0m \u001b[1m1s\u001b[0m 5ms/step - accuracy: 0.7529 - loss: 0.5941 - val_accuracy: 0.7169 - val_loss: 0.6363\n",
            "Epoch 21/100\n",
            "\u001b[1m208/208\u001b[0m \u001b[32m━━━━━━━━━━━━━━━━━━━━\u001b[0m\u001b[37m\u001b[0m \u001b[1m1s\u001b[0m 5ms/step - accuracy: 0.7373 - loss: 0.6470 - val_accuracy: 0.7169 - val_loss: 0.6355\n",
            "Epoch 22/100\n",
            "\u001b[1m208/208\u001b[0m \u001b[32m━━━━━━━━━━━━━━━━━━━━\u001b[0m\u001b[37m\u001b[0m \u001b[1m1s\u001b[0m 3ms/step - accuracy: 0.7197 - loss: 0.6310 - val_accuracy: 0.7169 - val_loss: 0.6347\n",
            "Epoch 23/100\n",
            "\u001b[1m208/208\u001b[0m \u001b[32m━━━━━━━━━━━━━━━━━━━━\u001b[0m\u001b[37m\u001b[0m \u001b[1m1s\u001b[0m 3ms/step - accuracy: 0.6554 - loss: 0.7034 - val_accuracy: 0.7169 - val_loss: 0.6340\n",
            "Epoch 24/100\n",
            "\u001b[1m208/208\u001b[0m \u001b[32m━━━━━━━━━━━━━━━━━━━━\u001b[0m\u001b[37m\u001b[0m \u001b[1m1s\u001b[0m 3ms/step - accuracy: 0.7857 - loss: 0.5888 - val_accuracy: 0.7169 - val_loss: 0.6333\n",
            "Epoch 25/100\n",
            "\u001b[1m208/208\u001b[0m \u001b[32m━━━━━━━━━━━━━━━━━━━━\u001b[0m\u001b[37m\u001b[0m \u001b[1m1s\u001b[0m 3ms/step - accuracy: 0.7742 - loss: 0.6157 - val_accuracy: 0.7169 - val_loss: 0.6326\n",
            "Epoch 26/100\n",
            "\u001b[1m208/208\u001b[0m \u001b[32m━━━━━━━━━━━━━━━━━━━━\u001b[0m\u001b[37m\u001b[0m \u001b[1m1s\u001b[0m 3ms/step - accuracy: 0.7175 - loss: 0.6406 - val_accuracy: 0.7169 - val_loss: 0.6318\n",
            "Epoch 27/100\n",
            "\u001b[1m208/208\u001b[0m \u001b[32m━━━━━━━━━━━━━━━━━━━━\u001b[0m\u001b[37m\u001b[0m \u001b[1m1s\u001b[0m 3ms/step - accuracy: 0.6799 - loss: 0.6358 - val_accuracy: 0.7169 - val_loss: 0.6312\n",
            "Epoch 28/100\n",
            "\u001b[1m208/208\u001b[0m \u001b[32m━━━━━━━━━━━━━━━━━━━━\u001b[0m\u001b[37m\u001b[0m \u001b[1m1s\u001b[0m 3ms/step - accuracy: 0.7673 - loss: 0.6135 - val_accuracy: 0.7169 - val_loss: 0.6307\n",
            "Epoch 29/100\n",
            "\u001b[1m208/208\u001b[0m \u001b[32m━━━━━━━━━━━━━━━━━━━━\u001b[0m\u001b[37m\u001b[0m \u001b[1m1s\u001b[0m 3ms/step - accuracy: 0.7778 - loss: 0.5828 - val_accuracy: 0.7169 - val_loss: 0.6299\n",
            "Epoch 30/100\n",
            "\u001b[1m208/208\u001b[0m \u001b[32m━━━━━━━━━━━━━━━━━━━━\u001b[0m\u001b[37m\u001b[0m \u001b[1m1s\u001b[0m 3ms/step - accuracy: 0.6964 - loss: 0.6542 - val_accuracy: 0.7169 - val_loss: 0.6294\n",
            "Epoch 31/100\n",
            "\u001b[1m208/208\u001b[0m \u001b[32m━━━━━━━━━━━━━━━━━━━━\u001b[0m\u001b[37m\u001b[0m \u001b[1m1s\u001b[0m 3ms/step - accuracy: 0.7228 - loss: 0.5956 - val_accuracy: 0.7169 - val_loss: 0.6289\n",
            "Epoch 32/100\n",
            "\u001b[1m208/208\u001b[0m \u001b[32m━━━━━━━━━━━━━━━━━━━━\u001b[0m\u001b[37m\u001b[0m \u001b[1m1s\u001b[0m 3ms/step - accuracy: 0.7733 - loss: 0.5863 - val_accuracy: 0.7169 - val_loss: 0.6283\n",
            "Epoch 33/100\n",
            "\u001b[1m208/208\u001b[0m \u001b[32m━━━━━━━━━━━━━━━━━━━━\u001b[0m\u001b[37m\u001b[0m \u001b[1m1s\u001b[0m 3ms/step - accuracy: 0.7214 - loss: 0.6126 - val_accuracy: 0.7169 - val_loss: 0.6276\n",
            "Epoch 34/100\n",
            "\u001b[1m208/208\u001b[0m \u001b[32m━━━━━━━━━━━━━━━━━━━━\u001b[0m\u001b[37m\u001b[0m \u001b[1m1s\u001b[0m 3ms/step - accuracy: 0.7705 - loss: 0.5726 - val_accuracy: 0.7169 - val_loss: 0.6270\n",
            "Epoch 35/100\n",
            "\u001b[1m208/208\u001b[0m \u001b[32m━━━━━━━━━━━━━━━━━━━━\u001b[0m\u001b[37m\u001b[0m \u001b[1m1s\u001b[0m 3ms/step - accuracy: 0.6942 - loss: 0.6175 - val_accuracy: 0.7169 - val_loss: 0.6265\n",
            "Epoch 36/100\n",
            "\u001b[1m208/208\u001b[0m \u001b[32m━━━━━━━━━━━━━━━━━━━━\u001b[0m\u001b[37m\u001b[0m \u001b[1m2s\u001b[0m 5ms/step - accuracy: 0.7502 - loss: 0.5872 - val_accuracy: 0.7169 - val_loss: 0.6259\n",
            "Epoch 37/100\n",
            "\u001b[1m208/208\u001b[0m \u001b[32m━━━━━━━━━━━━━━━━━━━━\u001b[0m\u001b[37m\u001b[0m \u001b[1m1s\u001b[0m 4ms/step - accuracy: 0.7148 - loss: 0.6182 - val_accuracy: 0.7169 - val_loss: 0.6255\n",
            "Epoch 38/100\n",
            "\u001b[1m208/208\u001b[0m \u001b[32m━━━━━━━━━━━━━━━━━━━━\u001b[0m\u001b[37m\u001b[0m \u001b[1m1s\u001b[0m 5ms/step - accuracy: 0.7660 - loss: 0.5736 - val_accuracy: 0.7169 - val_loss: 0.6249\n",
            "Epoch 39/100\n",
            "\u001b[1m208/208\u001b[0m \u001b[32m━━━━━━━━━━━━━━━━━━━━\u001b[0m\u001b[37m\u001b[0m \u001b[1m1s\u001b[0m 3ms/step - accuracy: 0.7620 - loss: 0.5922 - val_accuracy: 0.7169 - val_loss: 0.6244\n",
            "Epoch 40/100\n",
            "\u001b[1m208/208\u001b[0m \u001b[32m━━━━━━━━━━━━━━━━━━━━\u001b[0m\u001b[37m\u001b[0m \u001b[1m1s\u001b[0m 3ms/step - accuracy: 0.7830 - loss: 0.5629 - val_accuracy: 0.7169 - val_loss: 0.6239\n",
            "Epoch 41/100\n",
            "\u001b[1m208/208\u001b[0m \u001b[32m━━━━━━━━━━━━━━━━━━━━\u001b[0m\u001b[37m\u001b[0m \u001b[1m1s\u001b[0m 3ms/step - accuracy: 0.7368 - loss: 0.6003 - val_accuracy: 0.7169 - val_loss: 0.6234\n",
            "Epoch 42/100\n",
            "\u001b[1m208/208\u001b[0m \u001b[32m━━━━━━━━━━━━━━━━━━━━\u001b[0m\u001b[37m\u001b[0m \u001b[1m1s\u001b[0m 3ms/step - accuracy: 0.7370 - loss: 0.6043 - val_accuracy: 0.7169 - val_loss: 0.6230\n",
            "Epoch 43/100\n",
            "\u001b[1m208/208\u001b[0m \u001b[32m━━━━━━━━━━━━━━━━━━━━\u001b[0m\u001b[37m\u001b[0m \u001b[1m1s\u001b[0m 3ms/step - accuracy: 0.7810 - loss: 0.5710 - val_accuracy: 0.7169 - val_loss: 0.6224\n",
            "Epoch 44/100\n",
            "\u001b[1m208/208\u001b[0m \u001b[32m━━━━━━━━━━━━━━━━━━━━\u001b[0m\u001b[37m\u001b[0m \u001b[1m1s\u001b[0m 3ms/step - accuracy: 0.6764 - loss: 0.6653 - val_accuracy: 0.7169 - val_loss: 0.6219\n",
            "Epoch 45/100\n",
            "\u001b[1m208/208\u001b[0m \u001b[32m━━━━━━━━━━━━━━━━━━━━\u001b[0m\u001b[37m\u001b[0m \u001b[1m1s\u001b[0m 3ms/step - accuracy: 0.7159 - loss: 0.6044 - val_accuracy: 0.7169 - val_loss: 0.6215\n",
            "Epoch 46/100\n",
            "\u001b[1m208/208\u001b[0m \u001b[32m━━━━━━━━━━━━━━━━━━━━\u001b[0m\u001b[37m\u001b[0m \u001b[1m1s\u001b[0m 3ms/step - accuracy: 0.7365 - loss: 0.5864 - val_accuracy: 0.7169 - val_loss: 0.6210\n",
            "Epoch 47/100\n",
            "\u001b[1m208/208\u001b[0m \u001b[32m━━━━━━━━━━━━━━━━━━━━\u001b[0m\u001b[37m\u001b[0m \u001b[1m1s\u001b[0m 3ms/step - accuracy: 0.7237 - loss: 0.5815 - val_accuracy: 0.7169 - val_loss: 0.6206\n",
            "Epoch 48/100\n",
            "\u001b[1m208/208\u001b[0m \u001b[32m━━━━━━━━━━━━━━━━━━━━\u001b[0m\u001b[37m\u001b[0m \u001b[1m1s\u001b[0m 3ms/step - accuracy: 0.7002 - loss: 0.6115 - val_accuracy: 0.7169 - val_loss: 0.6201\n",
            "Epoch 49/100\n",
            "\u001b[1m208/208\u001b[0m \u001b[32m━━━━━━━━━━━━━━━━━━━━\u001b[0m\u001b[37m\u001b[0m \u001b[1m1s\u001b[0m 3ms/step - accuracy: 0.7723 - loss: 0.5496 - val_accuracy: 0.7169 - val_loss: 0.6195\n",
            "Epoch 50/100\n",
            "\u001b[1m208/208\u001b[0m \u001b[32m━━━━━━━━━━━━━━━━━━━━\u001b[0m\u001b[37m\u001b[0m \u001b[1m1s\u001b[0m 3ms/step - accuracy: 0.7405 - loss: 0.5977 - val_accuracy: 0.7169 - val_loss: 0.6191\n",
            "Epoch 51/100\n",
            "\u001b[1m208/208\u001b[0m \u001b[32m━━━━━━━━━━━━━━━━━━━━\u001b[0m\u001b[37m\u001b[0m \u001b[1m1s\u001b[0m 3ms/step - accuracy: 0.6881 - loss: 0.6247 - val_accuracy: 0.7169 - val_loss: 0.6185\n",
            "Epoch 52/100\n",
            "\u001b[1m208/208\u001b[0m \u001b[32m━━━━━━━━━━━━━━━━━━━━\u001b[0m\u001b[37m\u001b[0m \u001b[1m1s\u001b[0m 3ms/step - accuracy: 0.6537 - loss: 0.6484 - val_accuracy: 0.7169 - val_loss: 0.6180\n",
            "Epoch 53/100\n",
            "\u001b[1m208/208\u001b[0m \u001b[32m━━━━━━━━━━━━━━━━━━━━\u001b[0m\u001b[37m\u001b[0m \u001b[1m1s\u001b[0m 3ms/step - accuracy: 0.6960 - loss: 0.6076 - val_accuracy: 0.7169 - val_loss: 0.6175\n",
            "Epoch 54/100\n",
            "\u001b[1m208/208\u001b[0m \u001b[32m━━━━━━━━━━━━━━━━━━━━\u001b[0m\u001b[37m\u001b[0m \u001b[1m1s\u001b[0m 4ms/step - accuracy: 0.7347 - loss: 0.5947 - val_accuracy: 0.7169 - val_loss: 0.6171\n",
            "Epoch 55/100\n",
            "\u001b[1m208/208\u001b[0m \u001b[32m━━━━━━━━━━━━━━━━━━━━\u001b[0m\u001b[37m\u001b[0m \u001b[1m1s\u001b[0m 5ms/step - accuracy: 0.7179 - loss: 0.6105 - val_accuracy: 0.7169 - val_loss: 0.6168\n",
            "Epoch 56/100\n",
            "\u001b[1m208/208\u001b[0m \u001b[32m━━━━━━━━━━━━━━━━━━━━\u001b[0m\u001b[37m\u001b[0m \u001b[1m1s\u001b[0m 6ms/step - accuracy: 0.7539 - loss: 0.5527 - val_accuracy: 0.7169 - val_loss: 0.6165\n",
            "Epoch 57/100\n",
            "\u001b[1m208/208\u001b[0m \u001b[32m━━━━━━━━━━━━━━━━━━━━\u001b[0m\u001b[37m\u001b[0m \u001b[1m1s\u001b[0m 5ms/step - accuracy: 0.7598 - loss: 0.5481 - val_accuracy: 0.7169 - val_loss: 0.6161\n",
            "Epoch 58/100\n",
            "\u001b[1m208/208\u001b[0m \u001b[32m━━━━━━━━━━━━━━━━━━━━\u001b[0m\u001b[37m\u001b[0m \u001b[1m1s\u001b[0m 3ms/step - accuracy: 0.7774 - loss: 0.5491 - val_accuracy: 0.7169 - val_loss: 0.6158\n",
            "Epoch 59/100\n",
            "\u001b[1m208/208\u001b[0m \u001b[32m━━━━━━━━━━━━━━━━━━━━\u001b[0m\u001b[37m\u001b[0m \u001b[1m1s\u001b[0m 3ms/step - accuracy: 0.6816 - loss: 0.6388 - val_accuracy: 0.7169 - val_loss: 0.6153\n",
            "Epoch 60/100\n",
            "\u001b[1m208/208\u001b[0m \u001b[32m━━━━━━━━━━━━━━━━━━━━\u001b[0m\u001b[37m\u001b[0m \u001b[1m1s\u001b[0m 3ms/step - accuracy: 0.6629 - loss: 0.6473 - val_accuracy: 0.7169 - val_loss: 0.6149\n",
            "Epoch 61/100\n",
            "\u001b[1m208/208\u001b[0m \u001b[32m━━━━━━━━━━━━━━━━━━━━\u001b[0m\u001b[37m\u001b[0m \u001b[1m1s\u001b[0m 3ms/step - accuracy: 0.6998 - loss: 0.5963 - val_accuracy: 0.7169 - val_loss: 0.6146\n",
            "Epoch 62/100\n",
            "\u001b[1m208/208\u001b[0m \u001b[32m━━━━━━━━━━━━━━━━━━━━\u001b[0m\u001b[37m\u001b[0m \u001b[1m1s\u001b[0m 3ms/step - accuracy: 0.7521 - loss: 0.5494 - val_accuracy: 0.7169 - val_loss: 0.6141\n",
            "Epoch 63/100\n",
            "\u001b[1m208/208\u001b[0m \u001b[32m━━━━━━━━━━━━━━━━━━━━\u001b[0m\u001b[37m\u001b[0m \u001b[1m1s\u001b[0m 3ms/step - accuracy: 0.7288 - loss: 0.5868 - val_accuracy: 0.7169 - val_loss: 0.6137\n",
            "Epoch 64/100\n",
            "\u001b[1m208/208\u001b[0m \u001b[32m━━━━━━━━━━━━━━━━━━━━\u001b[0m\u001b[37m\u001b[0m \u001b[1m1s\u001b[0m 3ms/step - accuracy: 0.7611 - loss: 0.5337 - val_accuracy: 0.7169 - val_loss: 0.6135\n",
            "Epoch 65/100\n",
            "\u001b[1m208/208\u001b[0m \u001b[32m━━━━━━━━━━━━━━━━━━━━\u001b[0m\u001b[37m\u001b[0m \u001b[1m1s\u001b[0m 3ms/step - accuracy: 0.6920 - loss: 0.6388 - val_accuracy: 0.7169 - val_loss: 0.6130\n",
            "Epoch 66/100\n",
            "\u001b[1m208/208\u001b[0m \u001b[32m━━━━━━━━━━━━━━━━━━━━\u001b[0m\u001b[37m\u001b[0m \u001b[1m1s\u001b[0m 3ms/step - accuracy: 0.7066 - loss: 0.6132 - val_accuracy: 0.7169 - val_loss: 0.6127\n",
            "Epoch 67/100\n",
            "\u001b[1m208/208\u001b[0m \u001b[32m━━━━━━━━━━━━━━━━━━━━\u001b[0m\u001b[37m\u001b[0m \u001b[1m1s\u001b[0m 3ms/step - accuracy: 0.7758 - loss: 0.5541 - val_accuracy: 0.7169 - val_loss: 0.6123\n",
            "Epoch 68/100\n",
            "\u001b[1m208/208\u001b[0m \u001b[32m━━━━━━━━━━━━━━━━━━━━\u001b[0m\u001b[37m\u001b[0m \u001b[1m1s\u001b[0m 3ms/step - accuracy: 0.7143 - loss: 0.5903 - val_accuracy: 0.7169 - val_loss: 0.6121\n",
            "Epoch 69/100\n",
            "\u001b[1m208/208\u001b[0m \u001b[32m━━━━━━━━━━━━━━━━━━━━\u001b[0m\u001b[37m\u001b[0m \u001b[1m1s\u001b[0m 3ms/step - accuracy: 0.7478 - loss: 0.5373 - val_accuracy: 0.7169 - val_loss: 0.6117\n",
            "Epoch 70/100\n",
            "\u001b[1m208/208\u001b[0m \u001b[32m━━━━━━━━━━━━━━━━━━━━\u001b[0m\u001b[37m\u001b[0m \u001b[1m1s\u001b[0m 3ms/step - accuracy: 0.7299 - loss: 0.5768 - val_accuracy: 0.7169 - val_loss: 0.6114\n",
            "Epoch 71/100\n",
            "\u001b[1m208/208\u001b[0m \u001b[32m━━━━━━━━━━━━━━━━━━━━\u001b[0m\u001b[37m\u001b[0m \u001b[1m1s\u001b[0m 3ms/step - accuracy: 0.6869 - loss: 0.6129 - val_accuracy: 0.7169 - val_loss: 0.6111\n",
            "Epoch 72/100\n",
            "\u001b[1m208/208\u001b[0m \u001b[32m━━━━━━━━━━━━━━━━━━━━\u001b[0m\u001b[37m\u001b[0m \u001b[1m1s\u001b[0m 3ms/step - accuracy: 0.7714 - loss: 0.5528 - val_accuracy: 0.7169 - val_loss: 0.6108\n",
            "Epoch 73/100\n",
            "\u001b[1m208/208\u001b[0m \u001b[32m━━━━━━━━━━━━━━━━━━━━\u001b[0m\u001b[37m\u001b[0m \u001b[1m1s\u001b[0m 6ms/step - accuracy: 0.7453 - loss: 0.5380 - val_accuracy: 0.7169 - val_loss: 0.6106\n",
            "Epoch 74/100\n",
            "\u001b[1m208/208\u001b[0m \u001b[32m━━━━━━━━━━━━━━━━━━━━\u001b[0m\u001b[37m\u001b[0m \u001b[1m1s\u001b[0m 5ms/step - accuracy: 0.7582 - loss: 0.5460 - val_accuracy: 0.7169 - val_loss: 0.6102\n",
            "Epoch 75/100\n",
            "\u001b[1m208/208\u001b[0m \u001b[32m━━━━━━━━━━━━━━━━━━━━\u001b[0m\u001b[37m\u001b[0m \u001b[1m2s\u001b[0m 6ms/step - accuracy: 0.7949 - loss: 0.5120 - val_accuracy: 0.7169 - val_loss: 0.6100\n",
            "Epoch 76/100\n",
            "\u001b[1m208/208\u001b[0m \u001b[32m━━━━━━━━━━━━━━━━━━━━\u001b[0m\u001b[37m\u001b[0m \u001b[1m2s\u001b[0m 3ms/step - accuracy: 0.6971 - loss: 0.6060 - val_accuracy: 0.7169 - val_loss: 0.6097\n",
            "Epoch 77/100\n",
            "\u001b[1m208/208\u001b[0m \u001b[32m━━━━━━━━━━━━━━━━━━━━\u001b[0m\u001b[37m\u001b[0m \u001b[1m1s\u001b[0m 3ms/step - accuracy: 0.7521 - loss: 0.5682 - val_accuracy: 0.7169 - val_loss: 0.6095\n",
            "Epoch 78/100\n",
            "\u001b[1m208/208\u001b[0m \u001b[32m━━━━━━━━━━━━━━━━━━━━\u001b[0m\u001b[37m\u001b[0m \u001b[1m1s\u001b[0m 3ms/step - accuracy: 0.7512 - loss: 0.5597 - val_accuracy: 0.7169 - val_loss: 0.6092\n",
            "Epoch 79/100\n",
            "\u001b[1m208/208\u001b[0m \u001b[32m━━━━━━━━━━━━━━━━━━━━\u001b[0m\u001b[37m\u001b[0m \u001b[1m1s\u001b[0m 3ms/step - accuracy: 0.6872 - loss: 0.5926 - val_accuracy: 0.7169 - val_loss: 0.6089\n",
            "Epoch 80/100\n",
            "\u001b[1m208/208\u001b[0m \u001b[32m━━━━━━━━━━━━━━━━━━━━\u001b[0m\u001b[37m\u001b[0m \u001b[1m1s\u001b[0m 3ms/step - accuracy: 0.7140 - loss: 0.6047 - val_accuracy: 0.7169 - val_loss: 0.6086\n",
            "Epoch 81/100\n",
            "\u001b[1m208/208\u001b[0m \u001b[32m━━━━━━━━━━━━━━━━━━━━\u001b[0m\u001b[37m\u001b[0m \u001b[1m1s\u001b[0m 5ms/step - accuracy: 0.7254 - loss: 0.6045 - val_accuracy: 0.7169 - val_loss: 0.6084\n",
            "Epoch 82/100\n",
            "\u001b[1m208/208\u001b[0m \u001b[32m━━━━━━━━━━━━━━━━━━━━\u001b[0m\u001b[37m\u001b[0m \u001b[1m1s\u001b[0m 4ms/step - accuracy: 0.7792 - loss: 0.5276 - val_accuracy: 0.7169 - val_loss: 0.6081\n",
            "Epoch 83/100\n",
            "\u001b[1m208/208\u001b[0m \u001b[32m━━━━━━━━━━━━━━━━━━━━\u001b[0m\u001b[37m\u001b[0m \u001b[1m1s\u001b[0m 4ms/step - accuracy: 0.7293 - loss: 0.5981 - val_accuracy: 0.7169 - val_loss: 0.6079\n",
            "Epoch 84/100\n",
            "\u001b[1m208/208\u001b[0m \u001b[32m━━━━━━━━━━━━━━━━━━━━\u001b[0m\u001b[37m\u001b[0m \u001b[1m1s\u001b[0m 3ms/step - accuracy: 0.7385 - loss: 0.5513 - val_accuracy: 0.7169 - val_loss: 0.6077\n",
            "Epoch 85/100\n",
            "\u001b[1m208/208\u001b[0m \u001b[32m━━━━━━━━━━━━━━━━━━━━\u001b[0m\u001b[37m\u001b[0m \u001b[1m1s\u001b[0m 3ms/step - accuracy: 0.7561 - loss: 0.5522 - val_accuracy: 0.7169 - val_loss: 0.6074\n",
            "Epoch 86/100\n",
            "\u001b[1m208/208\u001b[0m \u001b[32m━━━━━━━━━━━━━━━━━━━━\u001b[0m\u001b[37m\u001b[0m \u001b[1m1s\u001b[0m 3ms/step - accuracy: 0.7294 - loss: 0.5538 - val_accuracy: 0.7169 - val_loss: 0.6072\n",
            "Epoch 87/100\n",
            "\u001b[1m208/208\u001b[0m \u001b[32m━━━━━━━━━━━━━━━━━━━━\u001b[0m\u001b[37m\u001b[0m \u001b[1m2s\u001b[0m 4ms/step - accuracy: 0.7275 - loss: 0.5902 - val_accuracy: 0.7169 - val_loss: 0.6069\n",
            "Epoch 88/100\n",
            "\u001b[1m208/208\u001b[0m \u001b[32m━━━━━━━━━━━━━━━━━━━━\u001b[0m\u001b[37m\u001b[0m \u001b[1m2s\u001b[0m 7ms/step - accuracy: 0.6546 - loss: 0.6324 - val_accuracy: 0.7169 - val_loss: 0.6066\n",
            "Epoch 89/100\n",
            "\u001b[1m208/208\u001b[0m \u001b[32m━━━━━━━━━━━━━━━━━━━━\u001b[0m\u001b[37m\u001b[0m \u001b[1m1s\u001b[0m 4ms/step - accuracy: 0.7827 - loss: 0.5484 - val_accuracy: 0.7169 - val_loss: 0.6062\n",
            "Epoch 90/100\n",
            "\u001b[1m208/208\u001b[0m \u001b[32m━━━━━━━━━━━━━━━━━━━━\u001b[0m\u001b[37m\u001b[0m \u001b[1m1s\u001b[0m 3ms/step - accuracy: 0.7487 - loss: 0.5441 - val_accuracy: 0.7169 - val_loss: 0.6061\n",
            "Epoch 91/100\n",
            "\u001b[1m208/208\u001b[0m \u001b[32m━━━━━━━━━━━━━━━━━━━━\u001b[0m\u001b[37m\u001b[0m \u001b[1m1s\u001b[0m 3ms/step - accuracy: 0.7472 - loss: 0.5615 - val_accuracy: 0.7169 - val_loss: 0.6058\n",
            "Epoch 92/100\n",
            "\u001b[1m208/208\u001b[0m \u001b[32m━━━━━━━━━━━━━━━━━━━━\u001b[0m\u001b[37m\u001b[0m \u001b[1m1s\u001b[0m 3ms/step - accuracy: 0.7123 - loss: 0.5873 - val_accuracy: 0.7169 - val_loss: 0.6055\n",
            "Epoch 93/100\n",
            "\u001b[1m208/208\u001b[0m \u001b[32m━━━━━━━━━━━━━━━━━━━━\u001b[0m\u001b[37m\u001b[0m \u001b[1m1s\u001b[0m 3ms/step - accuracy: 0.7931 - loss: 0.5123 - val_accuracy: 0.7169 - val_loss: 0.6051\n",
            "Epoch 94/100\n",
            "\u001b[1m208/208\u001b[0m \u001b[32m━━━━━━━━━━━━━━━━━━━━\u001b[0m\u001b[37m\u001b[0m \u001b[1m1s\u001b[0m 3ms/step - accuracy: 0.7511 - loss: 0.5265 - val_accuracy: 0.7169 - val_loss: 0.6047\n",
            "Epoch 95/100\n",
            "\u001b[1m208/208\u001b[0m \u001b[32m━━━━━━━━━━━━━━━━━━━━\u001b[0m\u001b[37m\u001b[0m \u001b[1m1s\u001b[0m 3ms/step - accuracy: 0.7597 - loss: 0.5527 - val_accuracy: 0.7169 - val_loss: 0.6044\n",
            "Epoch 96/100\n",
            "\u001b[1m208/208\u001b[0m \u001b[32m━━━━━━━━━━━━━━━━━━━━\u001b[0m\u001b[37m\u001b[0m \u001b[1m1s\u001b[0m 3ms/step - accuracy: 0.6813 - loss: 0.5935 - val_accuracy: 0.7169 - val_loss: 0.6042\n",
            "Epoch 97/100\n",
            "\u001b[1m208/208\u001b[0m \u001b[32m━━━━━━━━━━━━━━━━━━━━\u001b[0m\u001b[37m\u001b[0m \u001b[1m1s\u001b[0m 3ms/step - accuracy: 0.7286 - loss: 0.5636 - val_accuracy: 0.7169 - val_loss: 0.6039\n",
            "Epoch 98/100\n",
            "\u001b[1m208/208\u001b[0m \u001b[32m━━━━━━━━━━━━━━━━━━━━\u001b[0m\u001b[37m\u001b[0m \u001b[1m1s\u001b[0m 3ms/step - accuracy: 0.7676 - loss: 0.5371 - val_accuracy: 0.7169 - val_loss: 0.6037\n",
            "Epoch 99/100\n",
            "\u001b[1m208/208\u001b[0m \u001b[32m━━━━━━━━━━━━━━━━━━━━\u001b[0m\u001b[37m\u001b[0m \u001b[1m1s\u001b[0m 3ms/step - accuracy: 0.7192 - loss: 0.5465 - val_accuracy: 0.7169 - val_loss: 0.6034\n",
            "Epoch 100/100\n",
            "\u001b[1m208/208\u001b[0m \u001b[32m━━━━━━━━━━━━━━━━━━━━\u001b[0m\u001b[37m\u001b[0m \u001b[1m1s\u001b[0m 3ms/step - accuracy: 0.7181 - loss: 0.6013 - val_accuracy: 0.7169 - val_loss: 0.6032\n"
          ]
        }
      ]
    },
    {
      "cell_type": "code",
      "source": [
        "import plotly\n",
        "import plotly.graph_objs as go"
      ],
      "metadata": {
        "id": "Vaew7TOZkt2t"
      },
      "execution_count": 105,
      "outputs": []
    },
    {
      "cell_type": "code",
      "source": [
        "h1 = go.Scatter(y=his.history['loss'],\n",
        "                    mode=\"lines\", line=dict(\n",
        "                    width=2,\n",
        "                    color='blue'),\n",
        "                    name=\"loss\"\n",
        "                   )\n",
        "h2 = go.Scatter(y=his.history['val_loss'],\n",
        "                    mode=\"lines\", line=dict(\n",
        "                    width=2,\n",
        "                    color='red'),\n",
        "                    name=\"val_loss\"\n",
        "                   )\n",
        "\n",
        "data = [h1,h2]\n",
        "layout1 = go.Layout(title='Loss',\n",
        "                   xaxis=dict(title='epochs'),\n",
        "                   yaxis=dict(title='', range=[0, 1]))\n",
        "fig1 = go.Figure(data = data, layout=layout1)\n",
        "fig1.show()"
      ],
      "metadata": {
        "colab": {
          "base_uri": "https://localhost:8080/",
          "height": 542
        },
        "id": "VlnGaQJYC02o",
        "outputId": "22159434-2513-496f-cf9c-72438635e46f"
      },
      "execution_count": 106,
      "outputs": [
        {
          "output_type": "display_data",
          "data": {
            "text/html": [
              "<html>\n",
              "<head><meta charset=\"utf-8\" /></head>\n",
              "<body>\n",
              "    <div>            <script src=\"https://cdnjs.cloudflare.com/ajax/libs/mathjax/2.7.5/MathJax.js?config=TeX-AMS-MML_SVG\"></script><script type=\"text/javascript\">if (window.MathJax && window.MathJax.Hub && window.MathJax.Hub.Config) {window.MathJax.Hub.Config({SVG: {font: \"STIX-Web\"}});}</script>                <script type=\"text/javascript\">window.PlotlyConfig = {MathJaxConfig: 'local'};</script>\n",
              "        <script charset=\"utf-8\" src=\"https://cdn.plot.ly/plotly-2.35.2.min.js\"></script>                <div id=\"7032d924-5068-4177-bcc1-df3f0dc783f3\" class=\"plotly-graph-div\" style=\"height:525px; width:100%;\"></div>            <script type=\"text/javascript\">                                    window.PLOTLYENV=window.PLOTLYENV || {};                                    if (document.getElementById(\"7032d924-5068-4177-bcc1-df3f0dc783f3\")) {                    Plotly.newPlot(                        \"7032d924-5068-4177-bcc1-df3f0dc783f3\",                        [{\"line\":{\"color\":\"blue\",\"width\":2},\"mode\":\"lines\",\"name\":\"loss\",\"y\":[0.6864854097366333,0.6843119859695435,0.6566653847694397,0.6795305013656616,0.6521483659744263,0.6639540195465088,0.6582933068275452,0.6420937180519104,0.6210820078849792,0.6548241972923279,0.6386814713478088,0.6409202218055725,0.6620492339134216,0.6370522379875183,0.6439301371574402,0.665165901184082,0.6336122751235962,0.625232994556427,0.624415397644043,0.6228493452072144,0.6400774717330933,0.6277939677238464,0.6254990100860596,0.6274370551109314,0.6280089020729065,0.6050819754600525,0.6043853163719177,0.6326911449432373,0.6134821772575378,0.629436731338501,0.6162602305412292,0.6131798624992371,0.5919756293296814,0.5993907451629639,0.6099927425384521,0.5995519161224365,0.6228123903274536,0.5930854678153992,0.5930730104446411,0.5934159755706787,0.5934985280036926,0.5823082327842712,0.6007168292999268,0.6135509610176086,0.589634120464325,0.5913618803024292,0.5728963613510132,0.5871306657791138,0.5775843858718872,0.5836977958679199,0.5915036797523499,0.5866134166717529,0.5954641699790955,0.5869474411010742,0.5919206142425537,0.5831611156463623,0.5657363533973694,0.5770341157913208,0.5827431082725525,0.577235758304596,0.5760716795921326,0.5570580959320068,0.5849276185035706,0.563930094242096,0.5624243021011353,0.5693841576576233,0.5728016495704651,0.5631350874900818,0.5586993098258972,0.5779768824577332,0.5700533986091614,0.5788812637329102,0.5589255094528198,0.5483948588371277,0.55771404504776,0.5795769095420837,0.5623712539672852,0.5508251786231995,0.552453339099884,0.5626956820487976,0.5720309615135193,0.5685999989509583,0.5480989217758179,0.5444357991218567,0.5638138651847839,0.5656351447105408,0.5671632885932922,0.5609942078590393,0.5717469453811646,0.5620546936988831,0.5600209832191467,0.5451918840408325,0.5491307377815247,0.5400873422622681,0.5423138737678528,0.5463786721229553,0.548069953918457,0.5531337261199951,0.557772159576416,0.5587570667266846],\"type\":\"scatter\"},{\"line\":{\"color\":\"red\",\"width\":2},\"mode\":\"lines\",\"name\":\"val_loss\",\"y\":[0.6544116139411926,0.6532021760940552,0.6520198583602905,0.6509820818901062,0.6498400568962097,0.6486446857452393,0.647801399230957,0.6467761993408203,0.6457789540290833,0.6447559595108032,0.6438344717025757,0.6429550647735596,0.6420587301254272,0.641180157661438,0.6402481198310852,0.6394626498222351,0.6385946869850159,0.6379187703132629,0.6371008157730103,0.6363105773925781,0.6354594826698303,0.6346879601478577,0.6339800357818604,0.6332657337188721,0.6325818300247192,0.6318322420120239,0.6312145590782166,0.6307257413864136,0.6299422383308411,0.6294408440589905,0.6288794875144958,0.6283198595046997,0.627641499042511,0.6269698739051819,0.6264683604240417,0.6258969306945801,0.6254643201828003,0.6249294281005859,0.6243928074836731,0.623860239982605,0.6233883500099182,0.6229817271232605,0.6224469542503357,0.6219393014907837,0.6215479373931885,0.6209944486618042,0.6205728650093079,0.6200680732727051,0.6195356249809265,0.6190864443778992,0.618476927280426,0.617960512638092,0.6175239086151123,0.6170777678489685,0.6167849898338318,0.616496741771698,0.6161259412765503,0.6157689690589905,0.6152715086936951,0.6148935556411743,0.6146140098571777,0.6140920519828796,0.6137394309043884,0.6134700179100037,0.6129955649375916,0.6127141714096069,0.6123459935188293,0.6121047735214233,0.6117044687271118,0.6114312410354614,0.6111029982566833,0.6107951998710632,0.6105817556381226,0.6102330088615417,0.6099766492843628,0.609695553779602,0.6095394492149353,0.6091824173927307,0.6088706254959106,0.6085687875747681,0.6083938479423523,0.6081218719482422,0.6078938841819763,0.6076798439025879,0.6074387431144714,0.6071935296058655,0.6069165468215942,0.6066035628318787,0.6061879396438599,0.6060590744018555,0.6058384776115417,0.6054606437683105,0.6051205396652222,0.6047245860099792,0.6044117212295532,0.6042479276657104,0.6039474010467529,0.6037055253982544,0.6033849716186523,0.6032097339630127],\"type\":\"scatter\"}],                        {\"title\":{\"text\":\"Loss\"},\"xaxis\":{\"title\":{\"text\":\"epochs\"}},\"yaxis\":{\"range\":[0,1],\"title\":{\"text\":\"\"}},\"template\":{\"data\":{\"histogram2dcontour\":[{\"type\":\"histogram2dcontour\",\"colorbar\":{\"outlinewidth\":0,\"ticks\":\"\"},\"colorscale\":[[0.0,\"#0d0887\"],[0.1111111111111111,\"#46039f\"],[0.2222222222222222,\"#7201a8\"],[0.3333333333333333,\"#9c179e\"],[0.4444444444444444,\"#bd3786\"],[0.5555555555555556,\"#d8576b\"],[0.6666666666666666,\"#ed7953\"],[0.7777777777777778,\"#fb9f3a\"],[0.8888888888888888,\"#fdca26\"],[1.0,\"#f0f921\"]]}],\"choropleth\":[{\"type\":\"choropleth\",\"colorbar\":{\"outlinewidth\":0,\"ticks\":\"\"}}],\"histogram2d\":[{\"type\":\"histogram2d\",\"colorbar\":{\"outlinewidth\":0,\"ticks\":\"\"},\"colorscale\":[[0.0,\"#0d0887\"],[0.1111111111111111,\"#46039f\"],[0.2222222222222222,\"#7201a8\"],[0.3333333333333333,\"#9c179e\"],[0.4444444444444444,\"#bd3786\"],[0.5555555555555556,\"#d8576b\"],[0.6666666666666666,\"#ed7953\"],[0.7777777777777778,\"#fb9f3a\"],[0.8888888888888888,\"#fdca26\"],[1.0,\"#f0f921\"]]}],\"heatmap\":[{\"type\":\"heatmap\",\"colorbar\":{\"outlinewidth\":0,\"ticks\":\"\"},\"colorscale\":[[0.0,\"#0d0887\"],[0.1111111111111111,\"#46039f\"],[0.2222222222222222,\"#7201a8\"],[0.3333333333333333,\"#9c179e\"],[0.4444444444444444,\"#bd3786\"],[0.5555555555555556,\"#d8576b\"],[0.6666666666666666,\"#ed7953\"],[0.7777777777777778,\"#fb9f3a\"],[0.8888888888888888,\"#fdca26\"],[1.0,\"#f0f921\"]]}],\"heatmapgl\":[{\"type\":\"heatmapgl\",\"colorbar\":{\"outlinewidth\":0,\"ticks\":\"\"},\"colorscale\":[[0.0,\"#0d0887\"],[0.1111111111111111,\"#46039f\"],[0.2222222222222222,\"#7201a8\"],[0.3333333333333333,\"#9c179e\"],[0.4444444444444444,\"#bd3786\"],[0.5555555555555556,\"#d8576b\"],[0.6666666666666666,\"#ed7953\"],[0.7777777777777778,\"#fb9f3a\"],[0.8888888888888888,\"#fdca26\"],[1.0,\"#f0f921\"]]}],\"contourcarpet\":[{\"type\":\"contourcarpet\",\"colorbar\":{\"outlinewidth\":0,\"ticks\":\"\"}}],\"contour\":[{\"type\":\"contour\",\"colorbar\":{\"outlinewidth\":0,\"ticks\":\"\"},\"colorscale\":[[0.0,\"#0d0887\"],[0.1111111111111111,\"#46039f\"],[0.2222222222222222,\"#7201a8\"],[0.3333333333333333,\"#9c179e\"],[0.4444444444444444,\"#bd3786\"],[0.5555555555555556,\"#d8576b\"],[0.6666666666666666,\"#ed7953\"],[0.7777777777777778,\"#fb9f3a\"],[0.8888888888888888,\"#fdca26\"],[1.0,\"#f0f921\"]]}],\"surface\":[{\"type\":\"surface\",\"colorbar\":{\"outlinewidth\":0,\"ticks\":\"\"},\"colorscale\":[[0.0,\"#0d0887\"],[0.1111111111111111,\"#46039f\"],[0.2222222222222222,\"#7201a8\"],[0.3333333333333333,\"#9c179e\"],[0.4444444444444444,\"#bd3786\"],[0.5555555555555556,\"#d8576b\"],[0.6666666666666666,\"#ed7953\"],[0.7777777777777778,\"#fb9f3a\"],[0.8888888888888888,\"#fdca26\"],[1.0,\"#f0f921\"]]}],\"mesh3d\":[{\"type\":\"mesh3d\",\"colorbar\":{\"outlinewidth\":0,\"ticks\":\"\"}}],\"scatter\":[{\"fillpattern\":{\"fillmode\":\"overlay\",\"size\":10,\"solidity\":0.2},\"type\":\"scatter\"}],\"parcoords\":[{\"type\":\"parcoords\",\"line\":{\"colorbar\":{\"outlinewidth\":0,\"ticks\":\"\"}}}],\"scatterpolargl\":[{\"type\":\"scatterpolargl\",\"marker\":{\"colorbar\":{\"outlinewidth\":0,\"ticks\":\"\"}}}],\"bar\":[{\"error_x\":{\"color\":\"#2a3f5f\"},\"error_y\":{\"color\":\"#2a3f5f\"},\"marker\":{\"line\":{\"color\":\"#E5ECF6\",\"width\":0.5},\"pattern\":{\"fillmode\":\"overlay\",\"size\":10,\"solidity\":0.2}},\"type\":\"bar\"}],\"scattergeo\":[{\"type\":\"scattergeo\",\"marker\":{\"colorbar\":{\"outlinewidth\":0,\"ticks\":\"\"}}}],\"scatterpolar\":[{\"type\":\"scatterpolar\",\"marker\":{\"colorbar\":{\"outlinewidth\":0,\"ticks\":\"\"}}}],\"histogram\":[{\"marker\":{\"pattern\":{\"fillmode\":\"overlay\",\"size\":10,\"solidity\":0.2}},\"type\":\"histogram\"}],\"scattergl\":[{\"type\":\"scattergl\",\"marker\":{\"colorbar\":{\"outlinewidth\":0,\"ticks\":\"\"}}}],\"scatter3d\":[{\"type\":\"scatter3d\",\"line\":{\"colorbar\":{\"outlinewidth\":0,\"ticks\":\"\"}},\"marker\":{\"colorbar\":{\"outlinewidth\":0,\"ticks\":\"\"}}}],\"scattermapbox\":[{\"type\":\"scattermapbox\",\"marker\":{\"colorbar\":{\"outlinewidth\":0,\"ticks\":\"\"}}}],\"scatterternary\":[{\"type\":\"scatterternary\",\"marker\":{\"colorbar\":{\"outlinewidth\":0,\"ticks\":\"\"}}}],\"scattercarpet\":[{\"type\":\"scattercarpet\",\"marker\":{\"colorbar\":{\"outlinewidth\":0,\"ticks\":\"\"}}}],\"carpet\":[{\"aaxis\":{\"endlinecolor\":\"#2a3f5f\",\"gridcolor\":\"white\",\"linecolor\":\"white\",\"minorgridcolor\":\"white\",\"startlinecolor\":\"#2a3f5f\"},\"baxis\":{\"endlinecolor\":\"#2a3f5f\",\"gridcolor\":\"white\",\"linecolor\":\"white\",\"minorgridcolor\":\"white\",\"startlinecolor\":\"#2a3f5f\"},\"type\":\"carpet\"}],\"table\":[{\"cells\":{\"fill\":{\"color\":\"#EBF0F8\"},\"line\":{\"color\":\"white\"}},\"header\":{\"fill\":{\"color\":\"#C8D4E3\"},\"line\":{\"color\":\"white\"}},\"type\":\"table\"}],\"barpolar\":[{\"marker\":{\"line\":{\"color\":\"#E5ECF6\",\"width\":0.5},\"pattern\":{\"fillmode\":\"overlay\",\"size\":10,\"solidity\":0.2}},\"type\":\"barpolar\"}],\"pie\":[{\"automargin\":true,\"type\":\"pie\"}]},\"layout\":{\"autotypenumbers\":\"strict\",\"colorway\":[\"#636efa\",\"#EF553B\",\"#00cc96\",\"#ab63fa\",\"#FFA15A\",\"#19d3f3\",\"#FF6692\",\"#B6E880\",\"#FF97FF\",\"#FECB52\"],\"font\":{\"color\":\"#2a3f5f\"},\"hovermode\":\"closest\",\"hoverlabel\":{\"align\":\"left\"},\"paper_bgcolor\":\"white\",\"plot_bgcolor\":\"#E5ECF6\",\"polar\":{\"bgcolor\":\"#E5ECF6\",\"angularaxis\":{\"gridcolor\":\"white\",\"linecolor\":\"white\",\"ticks\":\"\"},\"radialaxis\":{\"gridcolor\":\"white\",\"linecolor\":\"white\",\"ticks\":\"\"}},\"ternary\":{\"bgcolor\":\"#E5ECF6\",\"aaxis\":{\"gridcolor\":\"white\",\"linecolor\":\"white\",\"ticks\":\"\"},\"baxis\":{\"gridcolor\":\"white\",\"linecolor\":\"white\",\"ticks\":\"\"},\"caxis\":{\"gridcolor\":\"white\",\"linecolor\":\"white\",\"ticks\":\"\"}},\"coloraxis\":{\"colorbar\":{\"outlinewidth\":0,\"ticks\":\"\"}},\"colorscale\":{\"sequential\":[[0.0,\"#0d0887\"],[0.1111111111111111,\"#46039f\"],[0.2222222222222222,\"#7201a8\"],[0.3333333333333333,\"#9c179e\"],[0.4444444444444444,\"#bd3786\"],[0.5555555555555556,\"#d8576b\"],[0.6666666666666666,\"#ed7953\"],[0.7777777777777778,\"#fb9f3a\"],[0.8888888888888888,\"#fdca26\"],[1.0,\"#f0f921\"]],\"sequentialminus\":[[0.0,\"#0d0887\"],[0.1111111111111111,\"#46039f\"],[0.2222222222222222,\"#7201a8\"],[0.3333333333333333,\"#9c179e\"],[0.4444444444444444,\"#bd3786\"],[0.5555555555555556,\"#d8576b\"],[0.6666666666666666,\"#ed7953\"],[0.7777777777777778,\"#fb9f3a\"],[0.8888888888888888,\"#fdca26\"],[1.0,\"#f0f921\"]],\"diverging\":[[0,\"#8e0152\"],[0.1,\"#c51b7d\"],[0.2,\"#de77ae\"],[0.3,\"#f1b6da\"],[0.4,\"#fde0ef\"],[0.5,\"#f7f7f7\"],[0.6,\"#e6f5d0\"],[0.7,\"#b8e186\"],[0.8,\"#7fbc41\"],[0.9,\"#4d9221\"],[1,\"#276419\"]]},\"xaxis\":{\"gridcolor\":\"white\",\"linecolor\":\"white\",\"ticks\":\"\",\"title\":{\"standoff\":15},\"zerolinecolor\":\"white\",\"automargin\":true,\"zerolinewidth\":2},\"yaxis\":{\"gridcolor\":\"white\",\"linecolor\":\"white\",\"ticks\":\"\",\"title\":{\"standoff\":15},\"zerolinecolor\":\"white\",\"automargin\":true,\"zerolinewidth\":2},\"scene\":{\"xaxis\":{\"backgroundcolor\":\"#E5ECF6\",\"gridcolor\":\"white\",\"linecolor\":\"white\",\"showbackground\":true,\"ticks\":\"\",\"zerolinecolor\":\"white\",\"gridwidth\":2},\"yaxis\":{\"backgroundcolor\":\"#E5ECF6\",\"gridcolor\":\"white\",\"linecolor\":\"white\",\"showbackground\":true,\"ticks\":\"\",\"zerolinecolor\":\"white\",\"gridwidth\":2},\"zaxis\":{\"backgroundcolor\":\"#E5ECF6\",\"gridcolor\":\"white\",\"linecolor\":\"white\",\"showbackground\":true,\"ticks\":\"\",\"zerolinecolor\":\"white\",\"gridwidth\":2}},\"shapedefaults\":{\"line\":{\"color\":\"#2a3f5f\"}},\"annotationdefaults\":{\"arrowcolor\":\"#2a3f5f\",\"arrowhead\":0,\"arrowwidth\":1},\"geo\":{\"bgcolor\":\"white\",\"landcolor\":\"#E5ECF6\",\"subunitcolor\":\"white\",\"showland\":true,\"showlakes\":true,\"lakecolor\":\"white\"},\"title\":{\"x\":0.05},\"mapbox\":{\"style\":\"light\"}}}},                        {\"responsive\": true}                    ).then(function(){\n",
              "                            \n",
              "var gd = document.getElementById('7032d924-5068-4177-bcc1-df3f0dc783f3');\n",
              "var x = new MutationObserver(function (mutations, observer) {{\n",
              "        var display = window.getComputedStyle(gd).display;\n",
              "        if (!display || display === 'none') {{\n",
              "            console.log([gd, 'removed!']);\n",
              "            Plotly.purge(gd);\n",
              "            observer.disconnect();\n",
              "        }}\n",
              "}});\n",
              "\n",
              "// Listen for the removal of the full notebook cells\n",
              "var notebookContainer = gd.closest('#notebook-container');\n",
              "if (notebookContainer) {{\n",
              "    x.observe(notebookContainer, {childList: true});\n",
              "}}\n",
              "\n",
              "// Listen for the clearing of the current output cell\n",
              "var outputEl = gd.closest('.output');\n",
              "if (outputEl) {{\n",
              "    x.observe(outputEl, {childList: true});\n",
              "}}\n",
              "\n",
              "                        })                };                            </script>        </div>\n",
              "</body>\n",
              "</html>"
            ]
          },
          "metadata": {}
        }
      ]
    },
    {
      "cell_type": "code",
      "source": [
        "h1 = go.Scatter(y=his.history['accuracy'],\n",
        "                    mode=\"lines\", line=dict(\n",
        "                    width=2,\n",
        "                    color='blue'),\n",
        "                    name=\"acc\"\n",
        "                   )\n",
        "h2 = go.Scatter(y=his.history['val_accuracy'],\n",
        "                    mode=\"lines\", line=dict(\n",
        "                    width=2,\n",
        "                    color='red'),\n",
        "                    name=\"val_acc\"\n",
        "                   )\n",
        "\n",
        "data = [h1,h2]\n",
        "layout1 = go.Layout(title='Accuracy',\n",
        "                   xaxis=dict(title='epochs'),\n",
        "                   yaxis=dict(title='',range=[0, 1]))\n",
        "fig2 = go.Figure(data = data, layout=layout1)\n",
        "fig2.show()"
      ],
      "metadata": {
        "colab": {
          "base_uri": "https://localhost:8080/",
          "height": 542
        },
        "id": "rsD5Zg3DC8Aa",
        "outputId": "1f1e9f5e-6cb1-4c9d-bc10-ce9e6df3ade9"
      },
      "execution_count": 107,
      "outputs": [
        {
          "output_type": "display_data",
          "data": {
            "text/html": [
              "<html>\n",
              "<head><meta charset=\"utf-8\" /></head>\n",
              "<body>\n",
              "    <div>            <script src=\"https://cdnjs.cloudflare.com/ajax/libs/mathjax/2.7.5/MathJax.js?config=TeX-AMS-MML_SVG\"></script><script type=\"text/javascript\">if (window.MathJax && window.MathJax.Hub && window.MathJax.Hub.Config) {window.MathJax.Hub.Config({SVG: {font: \"STIX-Web\"}});}</script>                <script type=\"text/javascript\">window.PlotlyConfig = {MathJaxConfig: 'local'};</script>\n",
              "        <script charset=\"utf-8\" src=\"https://cdn.plot.ly/plotly-2.35.2.min.js\"></script>                <div id=\"eeb681da-f34e-43b9-a7c0-c0dd3b6053a7\" class=\"plotly-graph-div\" style=\"height:525px; width:100%;\"></div>            <script type=\"text/javascript\">                                    window.PLOTLYENV=window.PLOTLYENV || {};                                    if (document.getElementById(\"eeb681da-f34e-43b9-a7c0-c0dd3b6053a7\")) {                    Plotly.newPlot(                        \"eeb681da-f34e-43b9-a7c0-c0dd3b6053a7\",                        [{\"line\":{\"color\":\"blue\",\"width\":2},\"mode\":\"lines\",\"name\":\"acc\",\"y\":[0.6538461446762085,0.6730769276618958,0.7019230723381042,0.692307710647583,0.7067307829856873,0.7067307829856873,0.7115384340286255,0.7115384340286255,0.7163461446762085,0.7115384340286255,0.7403846383094788,0.7355769276618958,0.7211538553237915,0.7259615659713745,0.7355769276618958,0.7211538553237915,0.7355769276618958,0.7403846383094788,0.7211538553237915,0.7307692170143127,0.7403846383094788,0.7355769276618958,0.745192289352417,0.7403846383094788,0.7403846383094788,0.75,0.7163461446762085,0.7355769276618958,0.7403846383094788,0.7355769276618958,0.7163461446762085,0.7403846383094788,0.745192289352417,0.7355769276618958,0.7211538553237915,0.7307692170143127,0.7211538553237915,0.745192289352417,0.745192289352417,0.7355769276618958,0.745192289352417,0.754807710647583,0.7355769276618958,0.7307692170143127,0.75,0.7259615659713745,0.745192289352417,0.7403846383094788,0.7403846383094788,0.7355769276618958,0.7355769276618958,0.7355769276618958,0.7259615659713745,0.745192289352417,0.7307692170143127,0.7355769276618958,0.75,0.754807710647583,0.745192289352417,0.745192289352417,0.7403846383094788,0.745192289352417,0.7403846383094788,0.745192289352417,0.745192289352417,0.7596153616905212,0.7403846383094788,0.7596153616905212,0.745192289352417,0.7403846383094788,0.745192289352417,0.7403846383094788,0.7355769276618958,0.754807710647583,0.7596153616905212,0.7307692170143127,0.745192289352417,0.754807710647583,0.745192289352417,0.7403846383094788,0.745192289352417,0.75,0.75,0.754807710647583,0.7403846383094788,0.7355769276618958,0.75,0.7403846383094788,0.75,0.7403846383094788,0.75,0.745192289352417,0.7596153616905212,0.75,0.7644230723381042,0.745192289352417,0.745192289352417,0.754807710647583,0.7259615659713745,0.7355769276618958],\"type\":\"scatter\"},{\"line\":{\"color\":\"red\",\"width\":2},\"mode\":\"lines\",\"name\":\"val_acc\",\"y\":[0.7168674468994141,0.7168674468994141,0.7168674468994141,0.7168674468994141,0.7168674468994141,0.7168674468994141,0.7168674468994141,0.7168674468994141,0.7168674468994141,0.7168674468994141,0.7168674468994141,0.7168674468994141,0.7168674468994141,0.7168674468994141,0.7168674468994141,0.7168674468994141,0.7168674468994141,0.7168674468994141,0.7168674468994141,0.7168674468994141,0.7168674468994141,0.7168674468994141,0.7168674468994141,0.7168674468994141,0.7168674468994141,0.7168674468994141,0.7168674468994141,0.7168674468994141,0.7168674468994141,0.7168674468994141,0.7168674468994141,0.7168674468994141,0.7168674468994141,0.7168674468994141,0.7168674468994141,0.7168674468994141,0.7168674468994141,0.7168674468994141,0.7168674468994141,0.7168674468994141,0.7168674468994141,0.7168674468994141,0.7168674468994141,0.7168674468994141,0.7168674468994141,0.7168674468994141,0.7168674468994141,0.7168674468994141,0.7168674468994141,0.7168674468994141,0.7168674468994141,0.7168674468994141,0.7168674468994141,0.7168674468994141,0.7168674468994141,0.7168674468994141,0.7168674468994141,0.7168674468994141,0.7168674468994141,0.7168674468994141,0.7168674468994141,0.7168674468994141,0.7168674468994141,0.7168674468994141,0.7168674468994141,0.7168674468994141,0.7168674468994141,0.7168674468994141,0.7168674468994141,0.7168674468994141,0.7168674468994141,0.7168674468994141,0.7168674468994141,0.7168674468994141,0.7168674468994141,0.7168674468994141,0.7168674468994141,0.7168674468994141,0.7168674468994141,0.7168674468994141,0.7168674468994141,0.7168674468994141,0.7168674468994141,0.7168674468994141,0.7168674468994141,0.7168674468994141,0.7168674468994141,0.7168674468994141,0.7168674468994141,0.7168674468994141,0.7168674468994141,0.7168674468994141,0.7168674468994141,0.7168674468994141,0.7168674468994141,0.7168674468994141,0.7168674468994141,0.7168674468994141,0.7168674468994141,0.7168674468994141],\"type\":\"scatter\"}],                        {\"title\":{\"text\":\"Accuracy\"},\"xaxis\":{\"title\":{\"text\":\"epochs\"}},\"yaxis\":{\"range\":[0,1],\"title\":{\"text\":\"\"}},\"template\":{\"data\":{\"histogram2dcontour\":[{\"type\":\"histogram2dcontour\",\"colorbar\":{\"outlinewidth\":0,\"ticks\":\"\"},\"colorscale\":[[0.0,\"#0d0887\"],[0.1111111111111111,\"#46039f\"],[0.2222222222222222,\"#7201a8\"],[0.3333333333333333,\"#9c179e\"],[0.4444444444444444,\"#bd3786\"],[0.5555555555555556,\"#d8576b\"],[0.6666666666666666,\"#ed7953\"],[0.7777777777777778,\"#fb9f3a\"],[0.8888888888888888,\"#fdca26\"],[1.0,\"#f0f921\"]]}],\"choropleth\":[{\"type\":\"choropleth\",\"colorbar\":{\"outlinewidth\":0,\"ticks\":\"\"}}],\"histogram2d\":[{\"type\":\"histogram2d\",\"colorbar\":{\"outlinewidth\":0,\"ticks\":\"\"},\"colorscale\":[[0.0,\"#0d0887\"],[0.1111111111111111,\"#46039f\"],[0.2222222222222222,\"#7201a8\"],[0.3333333333333333,\"#9c179e\"],[0.4444444444444444,\"#bd3786\"],[0.5555555555555556,\"#d8576b\"],[0.6666666666666666,\"#ed7953\"],[0.7777777777777778,\"#fb9f3a\"],[0.8888888888888888,\"#fdca26\"],[1.0,\"#f0f921\"]]}],\"heatmap\":[{\"type\":\"heatmap\",\"colorbar\":{\"outlinewidth\":0,\"ticks\":\"\"},\"colorscale\":[[0.0,\"#0d0887\"],[0.1111111111111111,\"#46039f\"],[0.2222222222222222,\"#7201a8\"],[0.3333333333333333,\"#9c179e\"],[0.4444444444444444,\"#bd3786\"],[0.5555555555555556,\"#d8576b\"],[0.6666666666666666,\"#ed7953\"],[0.7777777777777778,\"#fb9f3a\"],[0.8888888888888888,\"#fdca26\"],[1.0,\"#f0f921\"]]}],\"heatmapgl\":[{\"type\":\"heatmapgl\",\"colorbar\":{\"outlinewidth\":0,\"ticks\":\"\"},\"colorscale\":[[0.0,\"#0d0887\"],[0.1111111111111111,\"#46039f\"],[0.2222222222222222,\"#7201a8\"],[0.3333333333333333,\"#9c179e\"],[0.4444444444444444,\"#bd3786\"],[0.5555555555555556,\"#d8576b\"],[0.6666666666666666,\"#ed7953\"],[0.7777777777777778,\"#fb9f3a\"],[0.8888888888888888,\"#fdca26\"],[1.0,\"#f0f921\"]]}],\"contourcarpet\":[{\"type\":\"contourcarpet\",\"colorbar\":{\"outlinewidth\":0,\"ticks\":\"\"}}],\"contour\":[{\"type\":\"contour\",\"colorbar\":{\"outlinewidth\":0,\"ticks\":\"\"},\"colorscale\":[[0.0,\"#0d0887\"],[0.1111111111111111,\"#46039f\"],[0.2222222222222222,\"#7201a8\"],[0.3333333333333333,\"#9c179e\"],[0.4444444444444444,\"#bd3786\"],[0.5555555555555556,\"#d8576b\"],[0.6666666666666666,\"#ed7953\"],[0.7777777777777778,\"#fb9f3a\"],[0.8888888888888888,\"#fdca26\"],[1.0,\"#f0f921\"]]}],\"surface\":[{\"type\":\"surface\",\"colorbar\":{\"outlinewidth\":0,\"ticks\":\"\"},\"colorscale\":[[0.0,\"#0d0887\"],[0.1111111111111111,\"#46039f\"],[0.2222222222222222,\"#7201a8\"],[0.3333333333333333,\"#9c179e\"],[0.4444444444444444,\"#bd3786\"],[0.5555555555555556,\"#d8576b\"],[0.6666666666666666,\"#ed7953\"],[0.7777777777777778,\"#fb9f3a\"],[0.8888888888888888,\"#fdca26\"],[1.0,\"#f0f921\"]]}],\"mesh3d\":[{\"type\":\"mesh3d\",\"colorbar\":{\"outlinewidth\":0,\"ticks\":\"\"}}],\"scatter\":[{\"fillpattern\":{\"fillmode\":\"overlay\",\"size\":10,\"solidity\":0.2},\"type\":\"scatter\"}],\"parcoords\":[{\"type\":\"parcoords\",\"line\":{\"colorbar\":{\"outlinewidth\":0,\"ticks\":\"\"}}}],\"scatterpolargl\":[{\"type\":\"scatterpolargl\",\"marker\":{\"colorbar\":{\"outlinewidth\":0,\"ticks\":\"\"}}}],\"bar\":[{\"error_x\":{\"color\":\"#2a3f5f\"},\"error_y\":{\"color\":\"#2a3f5f\"},\"marker\":{\"line\":{\"color\":\"#E5ECF6\",\"width\":0.5},\"pattern\":{\"fillmode\":\"overlay\",\"size\":10,\"solidity\":0.2}},\"type\":\"bar\"}],\"scattergeo\":[{\"type\":\"scattergeo\",\"marker\":{\"colorbar\":{\"outlinewidth\":0,\"ticks\":\"\"}}}],\"scatterpolar\":[{\"type\":\"scatterpolar\",\"marker\":{\"colorbar\":{\"outlinewidth\":0,\"ticks\":\"\"}}}],\"histogram\":[{\"marker\":{\"pattern\":{\"fillmode\":\"overlay\",\"size\":10,\"solidity\":0.2}},\"type\":\"histogram\"}],\"scattergl\":[{\"type\":\"scattergl\",\"marker\":{\"colorbar\":{\"outlinewidth\":0,\"ticks\":\"\"}}}],\"scatter3d\":[{\"type\":\"scatter3d\",\"line\":{\"colorbar\":{\"outlinewidth\":0,\"ticks\":\"\"}},\"marker\":{\"colorbar\":{\"outlinewidth\":0,\"ticks\":\"\"}}}],\"scattermapbox\":[{\"type\":\"scattermapbox\",\"marker\":{\"colorbar\":{\"outlinewidth\":0,\"ticks\":\"\"}}}],\"scatterternary\":[{\"type\":\"scatterternary\",\"marker\":{\"colorbar\":{\"outlinewidth\":0,\"ticks\":\"\"}}}],\"scattercarpet\":[{\"type\":\"scattercarpet\",\"marker\":{\"colorbar\":{\"outlinewidth\":0,\"ticks\":\"\"}}}],\"carpet\":[{\"aaxis\":{\"endlinecolor\":\"#2a3f5f\",\"gridcolor\":\"white\",\"linecolor\":\"white\",\"minorgridcolor\":\"white\",\"startlinecolor\":\"#2a3f5f\"},\"baxis\":{\"endlinecolor\":\"#2a3f5f\",\"gridcolor\":\"white\",\"linecolor\":\"white\",\"minorgridcolor\":\"white\",\"startlinecolor\":\"#2a3f5f\"},\"type\":\"carpet\"}],\"table\":[{\"cells\":{\"fill\":{\"color\":\"#EBF0F8\"},\"line\":{\"color\":\"white\"}},\"header\":{\"fill\":{\"color\":\"#C8D4E3\"},\"line\":{\"color\":\"white\"}},\"type\":\"table\"}],\"barpolar\":[{\"marker\":{\"line\":{\"color\":\"#E5ECF6\",\"width\":0.5},\"pattern\":{\"fillmode\":\"overlay\",\"size\":10,\"solidity\":0.2}},\"type\":\"barpolar\"}],\"pie\":[{\"automargin\":true,\"type\":\"pie\"}]},\"layout\":{\"autotypenumbers\":\"strict\",\"colorway\":[\"#636efa\",\"#EF553B\",\"#00cc96\",\"#ab63fa\",\"#FFA15A\",\"#19d3f3\",\"#FF6692\",\"#B6E880\",\"#FF97FF\",\"#FECB52\"],\"font\":{\"color\":\"#2a3f5f\"},\"hovermode\":\"closest\",\"hoverlabel\":{\"align\":\"left\"},\"paper_bgcolor\":\"white\",\"plot_bgcolor\":\"#E5ECF6\",\"polar\":{\"bgcolor\":\"#E5ECF6\",\"angularaxis\":{\"gridcolor\":\"white\",\"linecolor\":\"white\",\"ticks\":\"\"},\"radialaxis\":{\"gridcolor\":\"white\",\"linecolor\":\"white\",\"ticks\":\"\"}},\"ternary\":{\"bgcolor\":\"#E5ECF6\",\"aaxis\":{\"gridcolor\":\"white\",\"linecolor\":\"white\",\"ticks\":\"\"},\"baxis\":{\"gridcolor\":\"white\",\"linecolor\":\"white\",\"ticks\":\"\"},\"caxis\":{\"gridcolor\":\"white\",\"linecolor\":\"white\",\"ticks\":\"\"}},\"coloraxis\":{\"colorbar\":{\"outlinewidth\":0,\"ticks\":\"\"}},\"colorscale\":{\"sequential\":[[0.0,\"#0d0887\"],[0.1111111111111111,\"#46039f\"],[0.2222222222222222,\"#7201a8\"],[0.3333333333333333,\"#9c179e\"],[0.4444444444444444,\"#bd3786\"],[0.5555555555555556,\"#d8576b\"],[0.6666666666666666,\"#ed7953\"],[0.7777777777777778,\"#fb9f3a\"],[0.8888888888888888,\"#fdca26\"],[1.0,\"#f0f921\"]],\"sequentialminus\":[[0.0,\"#0d0887\"],[0.1111111111111111,\"#46039f\"],[0.2222222222222222,\"#7201a8\"],[0.3333333333333333,\"#9c179e\"],[0.4444444444444444,\"#bd3786\"],[0.5555555555555556,\"#d8576b\"],[0.6666666666666666,\"#ed7953\"],[0.7777777777777778,\"#fb9f3a\"],[0.8888888888888888,\"#fdca26\"],[1.0,\"#f0f921\"]],\"diverging\":[[0,\"#8e0152\"],[0.1,\"#c51b7d\"],[0.2,\"#de77ae\"],[0.3,\"#f1b6da\"],[0.4,\"#fde0ef\"],[0.5,\"#f7f7f7\"],[0.6,\"#e6f5d0\"],[0.7,\"#b8e186\"],[0.8,\"#7fbc41\"],[0.9,\"#4d9221\"],[1,\"#276419\"]]},\"xaxis\":{\"gridcolor\":\"white\",\"linecolor\":\"white\",\"ticks\":\"\",\"title\":{\"standoff\":15},\"zerolinecolor\":\"white\",\"automargin\":true,\"zerolinewidth\":2},\"yaxis\":{\"gridcolor\":\"white\",\"linecolor\":\"white\",\"ticks\":\"\",\"title\":{\"standoff\":15},\"zerolinecolor\":\"white\",\"automargin\":true,\"zerolinewidth\":2},\"scene\":{\"xaxis\":{\"backgroundcolor\":\"#E5ECF6\",\"gridcolor\":\"white\",\"linecolor\":\"white\",\"showbackground\":true,\"ticks\":\"\",\"zerolinecolor\":\"white\",\"gridwidth\":2},\"yaxis\":{\"backgroundcolor\":\"#E5ECF6\",\"gridcolor\":\"white\",\"linecolor\":\"white\",\"showbackground\":true,\"ticks\":\"\",\"zerolinecolor\":\"white\",\"gridwidth\":2},\"zaxis\":{\"backgroundcolor\":\"#E5ECF6\",\"gridcolor\":\"white\",\"linecolor\":\"white\",\"showbackground\":true,\"ticks\":\"\",\"zerolinecolor\":\"white\",\"gridwidth\":2}},\"shapedefaults\":{\"line\":{\"color\":\"#2a3f5f\"}},\"annotationdefaults\":{\"arrowcolor\":\"#2a3f5f\",\"arrowhead\":0,\"arrowwidth\":1},\"geo\":{\"bgcolor\":\"white\",\"landcolor\":\"#E5ECF6\",\"subunitcolor\":\"white\",\"showland\":true,\"showlakes\":true,\"lakecolor\":\"white\"},\"title\":{\"x\":0.05},\"mapbox\":{\"style\":\"light\"}}}},                        {\"responsive\": true}                    ).then(function(){\n",
              "                            \n",
              "var gd = document.getElementById('eeb681da-f34e-43b9-a7c0-c0dd3b6053a7');\n",
              "var x = new MutationObserver(function (mutations, observer) {{\n",
              "        var display = window.getComputedStyle(gd).display;\n",
              "        if (!display || display === 'none') {{\n",
              "            console.log([gd, 'removed!']);\n",
              "            Plotly.purge(gd);\n",
              "            observer.disconnect();\n",
              "        }}\n",
              "}});\n",
              "\n",
              "// Listen for the removal of the full notebook cells\n",
              "var notebookContainer = gd.closest('#notebook-container');\n",
              "if (notebookContainer) {{\n",
              "    x.observe(notebookContainer, {childList: true});\n",
              "}}\n",
              "\n",
              "// Listen for the clearing of the current output cell\n",
              "var outputEl = gd.closest('.output');\n",
              "if (outputEl) {{\n",
              "    x.observe(outputEl, {childList: true});\n",
              "}}\n",
              "\n",
              "                        })                };                            </script>        </div>\n",
              "</body>\n",
              "</html>"
            ]
          },
          "metadata": {}
        }
      ]
    },
    {
      "cell_type": "code",
      "source": [
        "file_name = '/content/drive/MyDrive/Dst/test/a_00000001_5000.wav'\n",
        "audio, sample_rate = librosa.load(file_name, res_type='kaiser_fast')\n",
        "\n",
        "print(audio.shape, sample_rate)\n",
        "\n",
        "mfccs = librosa.feature.mfcc(y=audio, sr=sample_rate, n_mfcc=40)\n",
        "print(mfccs.shape)"
      ],
      "metadata": {
        "colab": {
          "base_uri": "https://localhost:8080/"
        },
        "id": "6VppRU15C_5R",
        "outputId": "d0d4f731-338c-4110-ffd8-6f33474a626b"
      },
      "execution_count": 108,
      "outputs": [
        {
          "output_type": "stream",
          "name": "stdout",
          "text": [
            "(110250,) 22050\n",
            "(40, 216)\n"
          ]
        }
      ]
    },
    {
      "cell_type": "code",
      "source": [
        "librosa.display.specshow(mfccs, sr=sample_rate, x_axis='time')"
      ],
      "metadata": {
        "colab": {
          "base_uri": "https://localhost:8080/",
          "height": 466
        },
        "id": "HbZ_q9ffDSQS",
        "outputId": "77c0499e-483e-46ef-e410-328d6306196d"
      },
      "execution_count": 109,
      "outputs": [
        {
          "output_type": "execute_result",
          "data": {
            "text/plain": [
              "<matplotlib.collections.QuadMesh at 0x7b6dca86aa50>"
            ]
          },
          "metadata": {},
          "execution_count": 109
        },
        {
          "output_type": "display_data",
          "data": {
            "text/plain": [
              "<Figure size 640x480 with 1 Axes>"
            ],
            "image/png": "[encoded data removed]"
          },
          "metadata": {}
        }
      ]
    },
    {
      "cell_type": "code",
      "source": [
        "max_pad_len = 100\n",
        "\n",
        "def extract_features(file_name):\n",
        "    audio, sample_rate = librosa.load(file_name, res_type='kaiser_fast')\n",
        "    mfccs = librosa.feature.mfcc(y=audio, sr=sample_rate, n_mfcc=40)\n",
        "    pad_width = max_pad_len - mfccs.shape[1]\n",
        "    mfccs = np.pad(mfccs, pad_width=((0, 0), (0, max(0, pad_width))), mode='constant')\n",
        "    return mfccs"
      ],
      "metadata": {
        "id": "CkwSG3OADU9O"
      },
      "execution_count": 110,
      "outputs": []
    },
    {
      "cell_type": "code",
      "source": [
        "normal_test_features = []\n",
        "for file_name in glob.glob(normal_test):\n",
        "    data = extract_features(file_name)\n",
        "    normal_test_features.append(data)\n",
        "\n",
        "abnormal_test_features = []\n",
        "for file_name in glob.glob(abnormal_test):\n",
        "    data = extract_features(file_name)\n",
        "    abnormal_test_features.append(data)\n",
        "\n",
        "normal_val_features = []\n",
        "for file_name in glob.glob(normal_val):\n",
        "    data = extract_features(file_name)\n",
        "    normal_val_features.append(data)\n",
        "\n",
        "abnormal_val_features = []\n",
        "for file_name in glob.glob(abnormal_val):\n",
        "    data = extract_features(file_name)\n",
        "    abnormal_val_features.append(data)"
      ],
      "metadata": {
        "id": "NYmFFvsmDYpQ"
      },
      "execution_count": 111,
      "outputs": []
    },
    {
      "cell_type": "code",
      "source": [
        "normal_test_features[0].shape"
      ],
      "metadata": {
        "colab": {
          "base_uri": "https://localhost:8080/"
        },
        "id": "0nAsahC6Dlbt",
        "outputId": "6ffc0613-cf66-434f-c744-ec8bc0155c69"
      },
      "execution_count": 112,
      "outputs": [
        {
          "output_type": "execute_result",
          "data": {
            "text/plain": [
              "(40, 216)"
            ]
          },
          "metadata": {},
          "execution_count": 112
        }
      ]
    },
    {
      "cell_type": "code",
      "source": [
        "feature_test_table = np.vstack((normal_test_features, abnormal_test_features))\n",
        "print(feature_test_table.shape)"
      ],
      "metadata": {
        "colab": {
          "base_uri": "https://localhost:8080/"
        },
        "id": "oxTG3A-XDzB-",
        "outputId": "0c257137-d3eb-46e6-af26-cc561994c6b7"
      },
      "execution_count": 113,
      "outputs": [
        {
          "output_type": "stream",
          "name": "stdout",
          "text": [
            "(208, 40, 216)\n"
          ]
        }
      ]
    },
    {
      "cell_type": "code",
      "source": [
        "y_test_encoded[:10]"
      ],
      "metadata": {
        "colab": {
          "base_uri": "https://localhost:8080/"
        },
        "id": "MGzcLUYfD6Uh",
        "outputId": "4acc8324-42b5-49d0-dc98-93453fd882ca"
      },
      "execution_count": 114,
      "outputs": [
        {
          "output_type": "execute_result",
          "data": {
            "text/plain": [
              "array([[1., 0.],\n",
              "       [1., 0.],\n",
              "       [1., 0.],\n",
              "       [1., 0.],\n",
              "       [1., 0.],\n",
              "       [1., 0.],\n",
              "       [1., 0.],\n",
              "       [1., 0.],\n",
              "       [1., 0.],\n",
              "       [1., 0.]])"
            ]
          },
          "metadata": {},
          "execution_count": 114
        }
      ]
    },
    {
      "cell_type": "code",
      "source": [
        "feature_val_table = np.vstack((normal_val_features, abnormal_val_features))"
      ],
      "metadata": {
        "id": "qQfHjPNgD93P"
      },
      "execution_count": 115,
      "outputs": []
    },
    {
      "cell_type": "code",
      "source": [
        "feature_val_table = feature_val_table.reshape(feature_val_table.shape[0], feature_val_table.shape[1], feature_val_table.shape[2], 1)\n",
        "print(feature_val_table.shape)"
      ],
      "metadata": {
        "colab": {
          "base_uri": "https://localhost:8080/"
        },
        "id": "npM9b463EDOY",
        "outputId": "2925de0b-caaa-4f18-b5c5-c597a4cc3c75"
      },
      "execution_count": 116,
      "outputs": [
        {
          "output_type": "stream",
          "name": "stdout",
          "text": [
            "(166, 40, 216, 1)\n"
          ]
        }
      ]
    },
    {
      "cell_type": "code",
      "source": [
        "x_test = feature_test_table.reshape(feature_test_table.shape[0], feature_test_table.shape[1], feature_test_table.shape[2], 1)\n",
        "x_val = feature_val_table\n",
        "y_test = y_test_encoded\n",
        "y_val = y_val_encoded"
      ],
      "metadata": {
        "id": "WSr52wMFEEv9"
      },
      "execution_count": 132,
      "outputs": []
    },
    {
      "cell_type": "code",
      "source": [
        "x_test.shape, x_val.shape, y_test.shape, y_val.shape"
      ],
      "metadata": {
        "colab": {
          "base_uri": "https://localhost:8080/"
        },
        "id": "pJIof-v5EKwT",
        "outputId": "4b1b2b0d-ebc4-48e1-d56d-91bc2b850b11"
      },
      "execution_count": 118,
      "outputs": [
        {
          "output_type": "execute_result",
          "data": {
            "text/plain": [
              "((208, 40, 216), (166, 40, 216, 1), (208, 2), (166, 2))"
            ]
          },
          "metadata": {},
          "execution_count": 118
        }
      ]
    },
    {
      "cell_type": "code",
      "source": [
        "num_rows = 40\n",
        "num_columns = 216\n",
        "num_channels = 1\n",
        "num_batch_size = 64\n",
        "epochs = 50"
      ],
      "metadata": {
        "id": "AJXBee3hEOrf"
      },
      "execution_count": 119,
      "outputs": []
    },
    {
      "cell_type": "code",
      "source": [
        "model = Sequential()\n",
        "model.add(Conv2D(filters=16, kernel_size=2, activation='relu', input_shape=(num_rows, num_columns, num_channels)))\n",
        "model.add(MaxPooling2D(pool_size=2))\n",
        "model.add(Dropout(0.2))\n",
        "\n",
        "model.add(Conv2D(filters=32, kernel_size=2, activation='relu'))\n",
        "model.add(MaxPooling2D(pool_size=2))\n",
        "model.add(Dropout(0.2))\n",
        "\n",
        "model.add(Conv2D(filters=64, kernel_size=2, activation='relu'))\n",
        "model.add(MaxPooling2D(pool_size=2))\n",
        "model.add(Dropout(0.2))\n",
        "\n",
        "model.add(Conv2D(filters=128, kernel_size=2, activation='relu'))\n",
        "model.add(MaxPooling2D(pool_size=2))\n",
        "model.add(Dropout(0.2))\n",
        "model.add(GlobalAveragePooling2D())\n",
        "\n",
        "model.add(Dense(2, activation='softmax'))"
      ],
      "metadata": {
        "colab": {
          "base_uri": "https://localhost:8080/"
        },
        "id": "izOG1NNhEQP6",
        "outputId": "477eeb03-8e40-4992-9747-042e5482ff20"
      },
      "execution_count": 138,
      "outputs": [
        {
          "output_type": "stream",
          "name": "stderr",
          "text": [
            "/usr/local/lib/python3.12/dist-packages/keras/src/layers/convolutional/base_conv.py:113: UserWarning:\n",
            "\n",
            "Do not pass an `input_shape`/`input_dim` argument to a layer. When using Sequential models, prefer using an `Input(shape)` object as the first layer in the model instead.\n",
            "\n"
          ]
        }
      ]
    },
    {
      "cell_type": "code",
      "source": [
        "model.compile(loss='categorical_crossentropy', metrics=['accuracy'], optimizer='adam')"
      ],
      "metadata": {
        "id": "Xj4-CnViETwk"
      },
      "execution_count": 124,
      "outputs": []
    },
    {
      "cell_type": "code",
      "source": [
        "from tensorflow.keras.callbacks import ModelCheckpoint\n",
        "\n",
        "checkpoint = ModelCheckpoint('best_model.keras', monitor='val_loss', verbose=1, save_best_only=True, mode='min')"
      ],
      "metadata": {
        "id": "4JfRhDS6Ey6b"
      },
      "execution_count": 125,
      "outputs": []
    },
    {
      "cell_type": "code",
      "source": [
        "his = model.fit(x_test, y_test, batch_size=num_batch_size, epochs=epochs, validation_data=(x_val, y_val), verbose=1, callbacks=[checkpoint])"
      ],
      "metadata": {
        "colab": {
          "base_uri": "https://localhost:8080/"
        },
        "id": "qeiuDtnuE0mB",
        "outputId": "5c27406b-6f60-4f75-9bd4-15e8088f5bdc"
      },
      "execution_count": 126,
      "outputs": [
        {
          "output_type": "stream",
          "name": "stdout",
          "text": [
            "Epoch 1/50\n",
            "\u001b[1m4/4\u001b[0m \u001b[32m━━━━━━━━━━━━━━━━━━━━\u001b[0m\u001b[37m\u001b[0m \u001b[1m0s\u001b[0m 290ms/step - accuracy: 0.4294 - loss: 18.5072\n",
            "Epoch 1: val_loss improved from inf to 7.46315, saving model to best_model.keras\n",
            "\u001b[1m4/4\u001b[0m \u001b[32m━━━━━━━━━━━━━━━━━━━━\u001b[0m\u001b[37m\u001b[0m \u001b[1m5s\u001b[0m 516ms/step - accuracy: 0.4522 - loss: 17.3881 - val_accuracy: 0.7169 - val_loss: 7.4632\n",
            "Epoch 2/50\n",
            "\u001b[1m4/4\u001b[0m \u001b[32m━━━━━━━━━━━━━━━━━━━━\u001b[0m\u001b[37m\u001b[0m \u001b[1m0s\u001b[0m 265ms/step - accuracy: 0.7209 - loss: 11.2912\n",
            "Epoch 2: val_loss improved from 7.46315 to 3.53390, saving model to best_model.keras\n",
            "\u001b[1m4/4\u001b[0m \u001b[32m━━━━━━━━━━━━━━━━━━━━\u001b[0m\u001b[37m\u001b[0m \u001b[1m2s\u001b[0m 398ms/step - accuracy: 0.7248 - loss: 11.0187 - val_accuracy: 0.7169 - val_loss: 3.5339\n",
            "Epoch 3/50\n",
            "\u001b[1m4/4\u001b[0m \u001b[32m━━━━━━━━━━━━━━━━━━━━\u001b[0m\u001b[37m\u001b[0m \u001b[1m0s\u001b[0m 435ms/step - accuracy: 0.6977 - loss: 3.4643\n",
            "Epoch 3: val_loss improved from 3.53390 to 0.53062, saving model to best_model.keras\n",
            "\u001b[1m4/4\u001b[0m \u001b[32m━━━━━━━━━━━━━━━━━━━━\u001b[0m\u001b[37m\u001b[0m \u001b[1m2s\u001b[0m 630ms/step - accuracy: 0.6851 - loss: 3.3744 - val_accuracy: 0.8012 - val_loss: 0.5306\n",
            "Epoch 4/50\n",
            "\u001b[1m4/4\u001b[0m \u001b[32m━━━━━━━━━━━━━━━━━━━━\u001b[0m\u001b[37m\u001b[0m \u001b[1m0s\u001b[0m 450ms/step - accuracy: 0.4185 - loss: 2.9674\n",
            "Epoch 4: val_loss did not improve from 0.53062\n",
            "\u001b[1m4/4\u001b[0m \u001b[32m━━━━━━━━━━━━━━━━━━━━\u001b[0m\u001b[37m\u001b[0m \u001b[1m2s\u001b[0m 578ms/step - accuracy: 0.4358 - loss: 2.8360 - val_accuracy: 0.7169 - val_loss: 2.2043\n",
            "Epoch 5/50\n",
            "\u001b[1m4/4\u001b[0m \u001b[32m━━━━━━━━━━━━━━━━━━━━\u001b[0m\u001b[37m\u001b[0m \u001b[1m0s\u001b[0m 260ms/step - accuracy: 0.7489 - loss: 2.8014\n",
            "Epoch 5: val_loss did not improve from 0.53062\n",
            "\u001b[1m4/4\u001b[0m \u001b[32m━━━━━━━━━━━━━━━━━━━━\u001b[0m\u001b[37m\u001b[0m \u001b[1m1s\u001b[0m 376ms/step - accuracy: 0.7472 - loss: 2.8230 - val_accuracy: 0.7169 - val_loss: 1.8306\n",
            "Epoch 6/50\n",
            "\u001b[1m4/4\u001b[0m \u001b[32m━━━━━━━━━━━━━━━━━━━━\u001b[0m\u001b[37m\u001b[0m \u001b[1m0s\u001b[0m 262ms/step - accuracy: 0.7148 - loss: 1.8687\n",
            "Epoch 6: val_loss improved from 0.53062 to 0.52969, saving model to best_model.keras\n",
            "\u001b[1m4/4\u001b[0m \u001b[32m━━━━━━━━━━━━━━━━━━━━\u001b[0m\u001b[37m\u001b[0m \u001b[1m3s\u001b[0m 395ms/step - accuracy: 0.7161 - loss: 1.8056 - val_accuracy: 0.7169 - val_loss: 0.5297\n",
            "Epoch 7/50\n",
            "\u001b[1m4/4\u001b[0m \u001b[32m━━━━━━━━━━━━━━━━━━━━\u001b[0m\u001b[37m\u001b[0m \u001b[1m0s\u001b[0m 267ms/step - accuracy: 0.6473 - loss: 1.0112\n",
            "Epoch 7: val_loss did not improve from 0.52969\n",
            "\u001b[1m4/4\u001b[0m \u001b[32m━━━━━━━━━━━━━━━━━━━━\u001b[0m\u001b[37m\u001b[0m \u001b[1m2s\u001b[0m 383ms/step - accuracy: 0.6409 - loss: 1.0270 - val_accuracy: 0.7169 - val_loss: 0.5916\n",
            "Epoch 8/50\n",
            "\u001b[1m4/4\u001b[0m \u001b[32m━━━━━━━━━━━━━━━━━━━━\u001b[0m\u001b[37m\u001b[0m \u001b[1m0s\u001b[0m 260ms/step - accuracy: 0.6654 - loss: 0.8733\n",
            "Epoch 8: val_loss did not improve from 0.52969\n",
            "\u001b[1m4/4\u001b[0m \u001b[32m━━━━━━━━━━━━━━━━━━━━\u001b[0m\u001b[37m\u001b[0m \u001b[1m2s\u001b[0m 355ms/step - accuracy: 0.6698 - loss: 0.8849 - val_accuracy: 0.7169 - val_loss: 0.9240\n",
            "Epoch 9/50\n",
            "\u001b[1m4/4\u001b[0m \u001b[32m━━━━━━━━━━━━━━━━━━━━\u001b[0m\u001b[37m\u001b[0m \u001b[1m0s\u001b[0m 371ms/step - accuracy: 0.7534 - loss: 0.9293\n",
            "Epoch 9: val_loss did not improve from 0.52969\n",
            "\u001b[1m4/4\u001b[0m \u001b[32m━━━━━━━━━━━━━━━━━━━━\u001b[0m\u001b[37m\u001b[0m \u001b[1m2s\u001b[0m 540ms/step - accuracy: 0.7517 - loss: 0.9380 - val_accuracy: 0.7169 - val_loss: 0.5861\n",
            "Epoch 10/50\n",
            "\u001b[1m4/4\u001b[0m \u001b[32m━━━━━━━━━━━━━━━━━━━━\u001b[0m\u001b[37m\u001b[0m \u001b[1m0s\u001b[0m 434ms/step - accuracy: 0.6719 - loss: 0.7994\n",
            "Epoch 10: val_loss improved from 0.52969 to 0.45468, saving model to best_model.keras\n",
            "\u001b[1m4/4\u001b[0m \u001b[32m━━━━━━━━━━━━━━━━━━━━\u001b[0m\u001b[37m\u001b[0m \u001b[1m3s\u001b[0m 691ms/step - accuracy: 0.6750 - loss: 0.7875 - val_accuracy: 0.8072 - val_loss: 0.4547\n",
            "Epoch 11/50\n",
            "\u001b[1m4/4\u001b[0m \u001b[32m━━━━━━━━━━━━━━━━━━━━\u001b[0m\u001b[37m\u001b[0m \u001b[1m0s\u001b[0m 261ms/step - accuracy: 0.6315 - loss: 0.6925\n",
            "Epoch 11: val_loss did not improve from 0.45468\n",
            "\u001b[1m4/4\u001b[0m \u001b[32m━━━━━━━━━━━━━━━━━━━━\u001b[0m\u001b[37m\u001b[0m \u001b[1m4s\u001b[0m 361ms/step - accuracy: 0.6427 - loss: 0.6781 - val_accuracy: 0.7169 - val_loss: 0.5168\n",
            "Epoch 12/50\n",
            "\u001b[1m4/4\u001b[0m \u001b[32m━━━━━━━━━━━━━━━━━━━━\u001b[0m\u001b[37m\u001b[0m \u001b[1m0s\u001b[0m 273ms/step - accuracy: 0.7904 - loss: 0.5480\n",
            "Epoch 12: val_loss did not improve from 0.45468\n",
            "\u001b[1m4/4\u001b[0m \u001b[32m━━━━━━━━━━━━━━━━━━━━\u001b[0m\u001b[37m\u001b[0m \u001b[1m1s\u001b[0m 369ms/step - accuracy: 0.7881 - loss: 0.5526 - val_accuracy: 0.7590 - val_loss: 0.4628\n",
            "Epoch 13/50\n",
            "\u001b[1m4/4\u001b[0m \u001b[32m━━━━━━━━━━━━━━━━━━━━\u001b[0m\u001b[37m\u001b[0m \u001b[1m0s\u001b[0m 261ms/step - accuracy: 0.7590 - loss: 0.5133\n",
            "Epoch 13: val_loss improved from 0.45468 to 0.42949, saving model to best_model.keras\n",
            "\u001b[1m4/4\u001b[0m \u001b[32m━━━━━━━━━━━━━━━━━━━━\u001b[0m\u001b[37m\u001b[0m \u001b[1m2s\u001b[0m 397ms/step - accuracy: 0.7582 - loss: 0.5185 - val_accuracy: 0.8373 - val_loss: 0.4295\n",
            "Epoch 14/50\n",
            "\u001b[1m4/4\u001b[0m \u001b[32m━━━━━━━━━━━━━━━━━━━━\u001b[0m\u001b[37m\u001b[0m \u001b[1m0s\u001b[0m 255ms/step - accuracy: 0.7028 - loss: 0.5439\n",
            "Epoch 14: val_loss did not improve from 0.42949\n",
            "\u001b[1m4/4\u001b[0m \u001b[32m━━━━━━━━━━━━━━━━━━━━\u001b[0m\u001b[37m\u001b[0m \u001b[1m1s\u001b[0m 364ms/step - accuracy: 0.7093 - loss: 0.5361 - val_accuracy: 0.7771 - val_loss: 0.4675\n",
            "Epoch 15/50\n",
            "\u001b[1m4/4\u001b[0m \u001b[32m━━━━━━━━━━━━━━━━━━━━\u001b[0m\u001b[37m\u001b[0m \u001b[1m0s\u001b[0m 256ms/step - accuracy: 0.7496 - loss: 0.5976\n",
            "Epoch 15: val_loss did not improve from 0.42949\n",
            "\u001b[1m4/4\u001b[0m \u001b[32m━━━━━━━━━━━━━━━━━━━━\u001b[0m\u001b[37m\u001b[0m \u001b[1m1s\u001b[0m 371ms/step - accuracy: 0.7535 - loss: 0.5961 - val_accuracy: 0.8012 - val_loss: 0.4506\n",
            "Epoch 16/50\n",
            "\u001b[1m4/4\u001b[0m \u001b[32m━━━━━━━━━━━━━━━━━━━━\u001b[0m\u001b[37m\u001b[0m \u001b[1m0s\u001b[0m 453ms/step - accuracy: 0.8033 - loss: 0.4693\n",
            "Epoch 16: val_loss improved from 0.42949 to 0.38329, saving model to best_model.keras\n",
            "\u001b[1m4/4\u001b[0m \u001b[32m━━━━━━━━━━━━━━━━━━━━\u001b[0m\u001b[37m\u001b[0m \u001b[1m3s\u001b[0m 713ms/step - accuracy: 0.7994 - loss: 0.4751 - val_accuracy: 0.8434 - val_loss: 0.3833\n",
            "Epoch 17/50\n",
            "\u001b[1m4/4\u001b[0m \u001b[32m━━━━━━━━━━━━━━━━━━━━\u001b[0m\u001b[37m\u001b[0m \u001b[1m0s\u001b[0m 413ms/step - accuracy: 0.7819 - loss: 0.4911\n",
            "Epoch 17: val_loss did not improve from 0.38329\n",
            "\u001b[1m4/4\u001b[0m \u001b[32m━━━━━━━━━━━━━━━━━━━━\u001b[0m\u001b[37m\u001b[0m \u001b[1m2s\u001b[0m 506ms/step - accuracy: 0.7880 - loss: 0.4819 - val_accuracy: 0.8133 - val_loss: 0.4595\n",
            "Epoch 18/50\n",
            "\u001b[1m4/4\u001b[0m \u001b[32m━━━━━━━━━━━━━━━━━━━━\u001b[0m\u001b[37m\u001b[0m \u001b[1m0s\u001b[0m 249ms/step - accuracy: 0.8416 - loss: 0.4038\n",
            "Epoch 18: val_loss did not improve from 0.38329\n",
            "\u001b[1m4/4\u001b[0m \u001b[32m━━━━━━━━━━━━━━━━━━━━\u001b[0m\u001b[37m\u001b[0m \u001b[1m1s\u001b[0m 345ms/step - accuracy: 0.8435 - loss: 0.3989 - val_accuracy: 0.8133 - val_loss: 0.4144\n",
            "Epoch 19/50\n",
            "\u001b[1m4/4\u001b[0m \u001b[32m━━━━━━━━━━━━━━━━━━━━\u001b[0m\u001b[37m\u001b[0m \u001b[1m0s\u001b[0m 252ms/step - accuracy: 0.7989 - loss: 0.4418\n",
            "Epoch 19: val_loss did not improve from 0.38329\n",
            "\u001b[1m4/4\u001b[0m \u001b[32m━━━━━━━━━━━━━━━━━━━━\u001b[0m\u001b[37m\u001b[0m \u001b[1m1s\u001b[0m 357ms/step - accuracy: 0.8007 - loss: 0.4357 - val_accuracy: 0.8133 - val_loss: 0.4088\n",
            "Epoch 20/50\n",
            "\u001b[1m4/4\u001b[0m \u001b[32m━━━━━━━━━━━━━━━━━━━━\u001b[0m\u001b[37m\u001b[0m \u001b[1m0s\u001b[0m 245ms/step - accuracy: 0.8584 - loss: 0.3553\n",
            "Epoch 20: val_loss did not improve from 0.38329\n",
            "\u001b[1m4/4\u001b[0m \u001b[32m━━━━━━━━━━━━━━━━━━━━\u001b[0m\u001b[37m\u001b[0m \u001b[1m1s\u001b[0m 363ms/step - accuracy: 0.8588 - loss: 0.3579 - val_accuracy: 0.8133 - val_loss: 0.4608\n",
            "Epoch 21/50\n",
            "\u001b[1m4/4\u001b[0m \u001b[32m━━━━━━━━━━━━━━━━━━━━\u001b[0m\u001b[37m\u001b[0m \u001b[1m0s\u001b[0m 265ms/step - accuracy: 0.9004 - loss: 0.2882\n",
            "Epoch 21: val_loss did not improve from 0.38329\n",
            "\u001b[1m4/4\u001b[0m \u001b[32m━━━━━━━━━━━━━━━━━━━━\u001b[0m\u001b[37m\u001b[0m \u001b[1m1s\u001b[0m 361ms/step - accuracy: 0.9011 - loss: 0.2913 - val_accuracy: 0.8193 - val_loss: 0.4208\n",
            "Epoch 22/50\n",
            "\u001b[1m4/4\u001b[0m \u001b[32m━━━━━━━━━━━━━━━━━━━━\u001b[0m\u001b[37m\u001b[0m \u001b[1m0s\u001b[0m 255ms/step - accuracy: 0.8928 - loss: 0.2737\n",
            "Epoch 22: val_loss did not improve from 0.38329\n",
            "\u001b[1m4/4\u001b[0m \u001b[32m━━━━━━━━━━━━━━━━━━━━\u001b[0m\u001b[37m\u001b[0m \u001b[1m3s\u001b[0m 371ms/step - accuracy: 0.8931 - loss: 0.2742 - val_accuracy: 0.8193 - val_loss: 0.4358\n",
            "Epoch 23/50\n",
            "\u001b[1m4/4\u001b[0m \u001b[32m━━━━━━━━━━━━━━━━━━━━\u001b[0m\u001b[37m\u001b[0m \u001b[1m0s\u001b[0m 254ms/step - accuracy: 0.8758 - loss: 0.3012\n",
            "Epoch 23: val_loss did not improve from 0.38329\n",
            "\u001b[1m4/4\u001b[0m \u001b[32m━━━━━━━━━━━━━━━━━━━━\u001b[0m\u001b[37m\u001b[0m \u001b[1m2s\u001b[0m 480ms/step - accuracy: 0.8746 - loss: 0.3025 - val_accuracy: 0.8253 - val_loss: 0.4290\n",
            "Epoch 24/50\n",
            "\u001b[1m4/4\u001b[0m \u001b[32m━━━━━━━━━━━━━━━━━━━━\u001b[0m\u001b[37m\u001b[0m \u001b[1m0s\u001b[0m 438ms/step - accuracy: 0.8769 - loss: 0.2914\n",
            "Epoch 24: val_loss did not improve from 0.38329\n",
            "\u001b[1m4/4\u001b[0m \u001b[32m━━━━━━━━━━━━━━━━━━━━\u001b[0m\u001b[37m\u001b[0m \u001b[1m3s\u001b[0m 669ms/step - accuracy: 0.8774 - loss: 0.2921 - val_accuracy: 0.8253 - val_loss: 0.4386\n",
            "Epoch 25/50\n",
            "\u001b[1m4/4\u001b[0m \u001b[32m━━━━━━━━━━━━━━━━━━━━\u001b[0m\u001b[37m\u001b[0m \u001b[1m0s\u001b[0m 278ms/step - accuracy: 0.8991 - loss: 0.2844\n",
            "Epoch 25: val_loss did not improve from 0.38329\n",
            "\u001b[1m4/4\u001b[0m \u001b[32m━━━━━━━━━━━━━━━━━━━━\u001b[0m\u001b[37m\u001b[0m \u001b[1m2s\u001b[0m 394ms/step - accuracy: 0.9001 - loss: 0.2878 - val_accuracy: 0.8253 - val_loss: 0.4878\n",
            "Epoch 26/50\n",
            "\u001b[1m4/4\u001b[0m \u001b[32m━━━━━━━━━━━━━━━━━━━━\u001b[0m\u001b[37m\u001b[0m \u001b[1m0s\u001b[0m 261ms/step - accuracy: 0.9054 - loss: 0.2848\n",
            "Epoch 26: val_loss did not improve from 0.38329\n",
            "\u001b[1m4/4\u001b[0m \u001b[32m━━━━━━━━━━━━━━━━━━━━\u001b[0m\u001b[37m\u001b[0m \u001b[1m2s\u001b[0m 359ms/step - accuracy: 0.9012 - loss: 0.2876 - val_accuracy: 0.8253 - val_loss: 0.4871\n",
            "Epoch 27/50\n",
            "\u001b[1m4/4\u001b[0m \u001b[32m━━━━━━━━━━━━━━━━━━━━\u001b[0m\u001b[37m\u001b[0m \u001b[1m0s\u001b[0m 257ms/step - accuracy: 0.8945 - loss: 0.2725\n",
            "Epoch 27: val_loss did not improve from 0.38329\n",
            "\u001b[1m4/4\u001b[0m \u001b[32m━━━━━━━━━━━━━━━━━━━━\u001b[0m\u001b[37m\u001b[0m \u001b[1m3s\u001b[0m 361ms/step - accuracy: 0.8906 - loss: 0.2849 - val_accuracy: 0.8193 - val_loss: 0.5088\n",
            "Epoch 28/50\n",
            "\u001b[1m4/4\u001b[0m \u001b[32m━━━━━━━━━━━━━━━━━━━━\u001b[0m\u001b[37m\u001b[0m \u001b[1m0s\u001b[0m 276ms/step - accuracy: 0.8877 - loss: 0.3363\n",
            "Epoch 28: val_loss improved from 0.38329 to 0.33302, saving model to best_model.keras\n",
            "\u001b[1m4/4\u001b[0m \u001b[32m━━━━━━━━━━━━━━━━━━━━\u001b[0m\u001b[37m\u001b[0m \u001b[1m2s\u001b[0m 388ms/step - accuracy: 0.8881 - loss: 0.3332 - val_accuracy: 0.8675 - val_loss: 0.3330\n",
            "Epoch 29/50\n",
            "\u001b[1m4/4\u001b[0m \u001b[32m━━━━━━━━━━━━━━━━━━━━\u001b[0m\u001b[37m\u001b[0m \u001b[1m0s\u001b[0m 248ms/step - accuracy: 0.8677 - loss: 0.3373\n",
            "Epoch 29: val_loss did not improve from 0.33302\n",
            "\u001b[1m4/4\u001b[0m \u001b[32m━━━━━━━━━━━━━━━━━━━━\u001b[0m\u001b[37m\u001b[0m \u001b[1m1s\u001b[0m 352ms/step - accuracy: 0.8702 - loss: 0.3337 - val_accuracy: 0.8193 - val_loss: 0.5459\n",
            "Epoch 30/50\n",
            "\u001b[1m4/4\u001b[0m \u001b[32m━━━━━━━━━━━━━━━━━━━━\u001b[0m\u001b[37m\u001b[0m \u001b[1m0s\u001b[0m 260ms/step - accuracy: 0.8838 - loss: 0.3214\n",
            "Epoch 30: val_loss did not improve from 0.33302\n",
            "\u001b[1m4/4\u001b[0m \u001b[32m━━━━━━━━━━━━━━━━━━━━\u001b[0m\u001b[37m\u001b[0m \u001b[1m2s\u001b[0m 484ms/step - accuracy: 0.8849 - loss: 0.3177 - val_accuracy: 0.8614 - val_loss: 0.3683\n",
            "Epoch 31/50\n",
            "\u001b[1m4/4\u001b[0m \u001b[32m━━━━━━━━━━━━━━━━━━━━\u001b[0m\u001b[37m\u001b[0m \u001b[1m0s\u001b[0m 431ms/step - accuracy: 0.9061 - loss: 0.2877\n",
            "Epoch 31: val_loss did not improve from 0.33302\n",
            "\u001b[1m4/4\u001b[0m \u001b[32m━━━━━━━━━━━━━━━━━━━━\u001b[0m\u001b[37m\u001b[0m \u001b[1m2s\u001b[0m 608ms/step - accuracy: 0.9009 - loss: 0.2946 - val_accuracy: 0.8494 - val_loss: 0.3937\n",
            "Epoch 32/50\n",
            "\u001b[1m4/4\u001b[0m \u001b[32m━━━━━━━━━━━━━━━━━━━━\u001b[0m\u001b[37m\u001b[0m \u001b[1m0s\u001b[0m 328ms/step - accuracy: 0.9128 - loss: 0.2780\n",
            "Epoch 32: val_loss did not improve from 0.33302\n",
            "\u001b[1m4/4\u001b[0m \u001b[32m━━━━━━━━━━━━━━━━━━━━\u001b[0m\u001b[37m\u001b[0m \u001b[1m2s\u001b[0m 420ms/step - accuracy: 0.9110 - loss: 0.2872 - val_accuracy: 0.8313 - val_loss: 0.4728\n",
            "Epoch 33/50\n",
            "\u001b[1m4/4\u001b[0m \u001b[32m━━━━━━━━━━━━━━━━━━━━\u001b[0m\u001b[37m\u001b[0m \u001b[1m0s\u001b[0m 245ms/step - accuracy: 0.9086 - loss: 0.2991\n",
            "Epoch 33: val_loss did not improve from 0.33302\n",
            "\u001b[1m4/4\u001b[0m \u001b[32m━━━━━━━━━━━━━━━━━━━━\u001b[0m\u001b[37m\u001b[0m \u001b[1m1s\u001b[0m 347ms/step - accuracy: 0.9105 - loss: 0.2929 - val_accuracy: 0.8675 - val_loss: 0.3358\n",
            "Epoch 34/50\n",
            "\u001b[1m4/4\u001b[0m \u001b[32m━━━━━━━━━━━━━━━━━━━━\u001b[0m\u001b[37m\u001b[0m \u001b[1m0s\u001b[0m 255ms/step - accuracy: 0.8779 - loss: 0.3273\n",
            "Epoch 34: val_loss did not improve from 0.33302\n",
            "\u001b[1m4/4\u001b[0m \u001b[32m━━━━━━━━━━━━━━━━━━━━\u001b[0m\u001b[37m\u001b[0m \u001b[1m3s\u001b[0m 351ms/step - accuracy: 0.8811 - loss: 0.3173 - val_accuracy: 0.8193 - val_loss: 0.5243\n",
            "Epoch 35/50\n",
            "\u001b[1m4/4\u001b[0m \u001b[32m━━━━━━━━━━━━━━━━━━━━\u001b[0m\u001b[37m\u001b[0m \u001b[1m0s\u001b[0m 258ms/step - accuracy: 0.9143 - loss: 0.3082\n",
            "Epoch 35: val_loss did not improve from 0.33302\n",
            "\u001b[1m4/4\u001b[0m \u001b[32m━━━━━━━━━━━━━━━━━━━━\u001b[0m\u001b[37m\u001b[0m \u001b[1m1s\u001b[0m 358ms/step - accuracy: 0.9170 - loss: 0.2999 - val_accuracy: 0.8494 - val_loss: 0.4237\n",
            "Epoch 36/50\n",
            "\u001b[1m4/4\u001b[0m \u001b[32m━━━━━━━━━━━━━━━━━━━━\u001b[0m\u001b[37m\u001b[0m \u001b[1m0s\u001b[0m 261ms/step - accuracy: 0.9079 - loss: 0.2282\n",
            "Epoch 36: val_loss did not improve from 0.33302\n",
            "\u001b[1m4/4\u001b[0m \u001b[32m━━━━━━━━━━━━━━━━━━━━\u001b[0m\u001b[37m\u001b[0m \u001b[1m1s\u001b[0m 363ms/step - accuracy: 0.9109 - loss: 0.2267 - val_accuracy: 0.8494 - val_loss: 0.3992\n",
            "Epoch 37/50\n",
            "\u001b[1m4/4\u001b[0m \u001b[32m━━━━━━━━━━━━━━━━━━━━\u001b[0m\u001b[37m\u001b[0m \u001b[1m0s\u001b[0m 257ms/step - accuracy: 0.9336 - loss: 0.2358\n",
            "Epoch 37: val_loss did not improve from 0.33302\n",
            "\u001b[1m4/4\u001b[0m \u001b[32m━━━━━━━━━━━━━━━━━━━━\u001b[0m\u001b[37m\u001b[0m \u001b[1m3s\u001b[0m 363ms/step - accuracy: 0.9344 - loss: 0.2322 - val_accuracy: 0.8494 - val_loss: 0.4233\n",
            "Epoch 38/50\n",
            "\u001b[1m4/4\u001b[0m \u001b[32m━━━━━━━━━━━━━━━━━━━━\u001b[0m\u001b[37m\u001b[0m \u001b[1m0s\u001b[0m 444ms/step - accuracy: 0.9156 - loss: 0.2654\n",
            "Epoch 38: val_loss did not improve from 0.33302\n",
            "\u001b[1m4/4\u001b[0m \u001b[32m━━━━━━━━━━━━━━━━━━━━\u001b[0m\u001b[37m\u001b[0m \u001b[1m4s\u001b[0m 596ms/step - accuracy: 0.9180 - loss: 0.2589 - val_accuracy: 0.8494 - val_loss: 0.4274\n",
            "Epoch 39/50\n",
            "\u001b[1m4/4\u001b[0m \u001b[32m━━━━━━━━━━━━━━━━━━━━\u001b[0m\u001b[37m\u001b[0m \u001b[1m0s\u001b[0m 253ms/step - accuracy: 0.9278 - loss: 0.2605\n",
            "Epoch 39: val_loss did not improve from 0.33302\n",
            "\u001b[1m4/4\u001b[0m \u001b[32m━━━━━━━━━━━━━━━━━━━━\u001b[0m\u001b[37m\u001b[0m \u001b[1m1s\u001b[0m 369ms/step - accuracy: 0.9288 - loss: 0.2537 - val_accuracy: 0.8554 - val_loss: 0.3929\n",
            "Epoch 40/50\n",
            "\u001b[1m4/4\u001b[0m \u001b[32m━━━━━━━━━━━━━━━━━━━━\u001b[0m\u001b[37m\u001b[0m \u001b[1m0s\u001b[0m 262ms/step - accuracy: 0.9303 - loss: 0.2594\n",
            "Epoch 40: val_loss did not improve from 0.33302\n",
            "\u001b[1m4/4\u001b[0m \u001b[32m━━━━━━━━━━━━━━━━━━━━\u001b[0m\u001b[37m\u001b[0m \u001b[1m1s\u001b[0m 364ms/step - accuracy: 0.9318 - loss: 0.2522 - val_accuracy: 0.8313 - val_loss: 0.4498\n",
            "Epoch 41/50\n",
            "\u001b[1m4/4\u001b[0m \u001b[32m━━━━━━━━━━━━━━━━━━━━\u001b[0m\u001b[37m\u001b[0m \u001b[1m0s\u001b[0m 254ms/step - accuracy: 0.9028 - loss: 0.2852\n",
            "Epoch 41: val_loss did not improve from 0.33302\n",
            "\u001b[1m4/4\u001b[0m \u001b[32m━━━━━━━━━━━━━━━━━━━━\u001b[0m\u001b[37m\u001b[0m \u001b[1m1s\u001b[0m 362ms/step - accuracy: 0.9050 - loss: 0.2777 - val_accuracy: 0.8614 - val_loss: 0.3557\n",
            "Epoch 42/50\n",
            "\u001b[1m4/4\u001b[0m \u001b[32m━━━━━━━━━━━━━━━━━━━━\u001b[0m\u001b[37m\u001b[0m \u001b[1m0s\u001b[0m 261ms/step - accuracy: 0.9644 - loss: 0.1749\n",
            "Epoch 42: val_loss improved from 0.33302 to 0.32645, saving model to best_model.keras\n",
            "\u001b[1m4/4\u001b[0m \u001b[32m━━━━━━━━━━━━━━━━━━━━\u001b[0m\u001b[37m\u001b[0m \u001b[1m1s\u001b[0m 378ms/step - accuracy: 0.9629 - loss: 0.1801 - val_accuracy: 0.8675 - val_loss: 0.3264\n",
            "Epoch 43/50\n",
            "\u001b[1m4/4\u001b[0m \u001b[32m━━━━━━━━━━━━━━━━━━━━\u001b[0m\u001b[37m\u001b[0m \u001b[1m0s\u001b[0m 257ms/step - accuracy: 0.9324 - loss: 0.1963\n",
            "Epoch 43: val_loss did not improve from 0.32645\n",
            "\u001b[1m4/4\u001b[0m \u001b[32m━━━━━━━━━━━━━━━━━━━━\u001b[0m\u001b[37m\u001b[0m \u001b[1m2s\u001b[0m 356ms/step - accuracy: 0.9325 - loss: 0.1994 - val_accuracy: 0.8614 - val_loss: 0.3606\n",
            "Epoch 44/50\n",
            "\u001b[1m4/4\u001b[0m \u001b[32m━━━━━━━━━━━━━━━━━━━━\u001b[0m\u001b[37m\u001b[0m \u001b[1m0s\u001b[0m 410ms/step - accuracy: 0.9451 - loss: 0.1856\n",
            "Epoch 44: val_loss did not improve from 0.32645\n",
            "\u001b[1m4/4\u001b[0m \u001b[32m━━━━━━━━━━━━━━━━━━━━\u001b[0m\u001b[37m\u001b[0m \u001b[1m3s\u001b[0m 560ms/step - accuracy: 0.9455 - loss: 0.1841 - val_accuracy: 0.8675 - val_loss: 0.3425\n",
            "Epoch 45/50\n",
            "\u001b[1m4/4\u001b[0m \u001b[32m━━━━━━━━━━━━━━━━━━━━\u001b[0m\u001b[37m\u001b[0m \u001b[1m0s\u001b[0m 453ms/step - accuracy: 0.9226 - loss: 0.2167\n",
            "Epoch 45: val_loss did not improve from 0.32645\n",
            "\u001b[1m4/4\u001b[0m \u001b[32m━━━━━━━━━━━━━━━━━━━━\u001b[0m\u001b[37m\u001b[0m \u001b[1m2s\u001b[0m 611ms/step - accuracy: 0.9246 - loss: 0.2141 - val_accuracy: 0.8735 - val_loss: 0.3277\n",
            "Epoch 46/50\n",
            "\u001b[1m4/4\u001b[0m \u001b[32m━━━━━━━━━━━━━━━━━━━━\u001b[0m\u001b[37m\u001b[0m \u001b[1m0s\u001b[0m 264ms/step - accuracy: 0.9149 - loss: 0.2466\n",
            "Epoch 46: val_loss did not improve from 0.32645\n",
            "\u001b[1m4/4\u001b[0m \u001b[32m━━━━━━━━━━━━━━━━━━━━\u001b[0m\u001b[37m\u001b[0m \u001b[1m2s\u001b[0m 360ms/step - accuracy: 0.9175 - loss: 0.2424 - val_accuracy: 0.8675 - val_loss: 0.3555\n",
            "Epoch 47/50\n",
            "\u001b[1m4/4\u001b[0m \u001b[32m━━━━━━━━━━━━━━━━━━━━\u001b[0m\u001b[37m\u001b[0m \u001b[1m0s\u001b[0m 246ms/step - accuracy: 0.9331 - loss: 0.2239\n",
            "Epoch 47: val_loss did not improve from 0.32645\n",
            "\u001b[1m4/4\u001b[0m \u001b[32m━━━━━━━━━━━━━━━━━━━━\u001b[0m\u001b[37m\u001b[0m \u001b[1m1s\u001b[0m 347ms/step - accuracy: 0.9321 - loss: 0.2230 - val_accuracy: 0.8614 - val_loss: 0.3678\n",
            "Epoch 48/50\n",
            "\u001b[1m4/4\u001b[0m \u001b[32m━━━━━━━━━━━━━━━━━━━━\u001b[0m\u001b[37m\u001b[0m \u001b[1m0s\u001b[0m 261ms/step - accuracy: 0.9368 - loss: 0.2257\n",
            "Epoch 48: val_loss improved from 0.32645 to 0.32239, saving model to best_model.keras\n",
            "\u001b[1m4/4\u001b[0m \u001b[32m━━━━━━━━━━━━━━━━━━━━\u001b[0m\u001b[37m\u001b[0m \u001b[1m2s\u001b[0m 394ms/step - accuracy: 0.9370 - loss: 0.2219 - val_accuracy: 0.8855 - val_loss: 0.3224\n",
            "Epoch 49/50\n",
            "\u001b[1m4/4\u001b[0m \u001b[32m━━━━━━━━━━━━━━━━━━━━\u001b[0m\u001b[37m\u001b[0m \u001b[1m0s\u001b[0m 257ms/step - accuracy: 0.9200 - loss: 0.2284\n",
            "Epoch 49: val_loss did not improve from 0.32239\n",
            "\u001b[1m4/4\u001b[0m \u001b[32m━━━━━━━━━━━━━━━━━━━━\u001b[0m\u001b[37m\u001b[0m \u001b[1m1s\u001b[0m 374ms/step - accuracy: 0.9226 - loss: 0.2266 - val_accuracy: 0.8614 - val_loss: 0.3726\n",
            "Epoch 50/50\n",
            "\u001b[1m4/4\u001b[0m \u001b[32m━━━━━━━━━━━━━━━━━━━━\u001b[0m\u001b[37m\u001b[0m \u001b[1m0s\u001b[0m 260ms/step - accuracy: 0.9626 - loss: 0.1524\n",
            "Epoch 50: val_loss did not improve from 0.32239\n",
            "\u001b[1m4/4\u001b[0m \u001b[32m━━━━━━━━━━━━━━━━━━━━\u001b[0m\u001b[37m\u001b[0m \u001b[1m1s\u001b[0m 360ms/step - accuracy: 0.9605 - loss: 0.1546 - val_accuracy: 0.8675 - val_loss: 0.3459\n"
          ]
        }
      ]
    },
    {
      "cell_type": "code",
      "source": [
        "h1 = go.Scatter(y=his.history['loss'],\n",
        "                    mode=\"lines\", line=dict(\n",
        "                    width=2,\n",
        "                    color='blue'),\n",
        "                    name=\"loss\"\n",
        "                   )\n",
        "h2 = go.Scatter(y=his.history['val_loss'],\n",
        "                    mode=\"lines\", line=dict(\n",
        "                    width=2,\n",
        "                    color='red'),\n",
        "                    name=\"val_loss\"\n",
        "                   )\n",
        "\n",
        "data = [h1,h2]\n",
        "layout1 = go.Layout(title='Loss',\n",
        "                   xaxis=dict(title='epochs'),\n",
        "                   yaxis=dict(title=''))\n",
        "fig1 = go.Figure(data = data, layout=layout1)\n",
        "fig1.show()"
      ],
      "metadata": {
        "colab": {
          "base_uri": "https://localhost:8080/",
          "height": 542
        },
        "id": "7XM2Y4TME5qo",
        "outputId": "6718148b-75a2-43ab-a38a-04f7523ae73b"
      },
      "execution_count": 127,
      "outputs": [
        {
          "output_type": "display_data",
          "data": {
            "text/html": [
              "<html>\n",
              "<head><meta charset=\"utf-8\" /></head>\n",
              "<body>\n",
              "    <div>            <script src=\"https://cdnjs.cloudflare.com/ajax/libs/mathjax/2.7.5/MathJax.js?config=TeX-AMS-MML_SVG\"></script><script type=\"text/javascript\">if (window.MathJax && window.MathJax.Hub && window.MathJax.Hub.Config) {window.MathJax.Hub.Config({SVG: {font: \"STIX-Web\"}});}</script>                <script type=\"text/javascript\">window.PlotlyConfig = {MathJaxConfig: 'local'};</script>\n",
              "        <script charset=\"utf-8\" src=\"https://cdn.plot.ly/plotly-2.35.2.min.js\"></script>                <div id=\"af7011f4-3e04-4859-b544-7c49978d6396\" class=\"plotly-graph-div\" style=\"height:525px; width:100%;\"></div>            <script type=\"text/javascript\">                                    window.PLOTLYENV=window.PLOTLYENV || {};                                    if (document.getElementById(\"af7011f4-3e04-4859-b544-7c49978d6396\")) {                    Plotly.newPlot(                        \"af7011f4-3e04-4859-b544-7c49978d6396\",                        [{\"line\":{\"color\":\"blue\",\"width\":2},\"mode\":\"lines\",\"name\":\"loss\",\"y\":[12.91187858581543,9.928607940673828,3.01478910446167,2.3106818199157715,2.9090898036956787,1.5528671741485596,1.0900182723999023,0.9311399459838867,0.9730509519577026,0.7395079135894775,0.6204957365989685,0.5708755850791931,0.5390759706497192,0.5051701664924622,0.5900255441665649,0.49820730090141296,0.4452628493309021,0.3789835274219513,0.41127580404281616,0.36846205592155457,0.3035729229450226,0.2765940725803375,0.30766475200653076,0.29492634534835815,0.30128487944602966,0.2988834083080292,0.33442986011505127,0.3204791843891144,0.31949955224990845,0.3027699887752533,0.3223419785499573,0.32433921098709106,0.26849111914634705,0.27760007977485657,0.2668456435203552,0.22035843133926392,0.21789012849330902,0.23317232728004456,0.22625334560871124,0.22352686524391174,0.24784837663173676,0.20117197930812836,0.2118544578552246,0.17807377874851227,0.20364107191562653,0.22577553987503052,0.21925415098667145,0.20641180872917175,0.21949078142642975,0.16330265998840332],\"type\":\"scatter\"},{\"line\":{\"color\":\"red\",\"width\":2},\"mode\":\"lines\",\"name\":\"val_loss\",\"y\":[7.463151454925537,3.5339043140411377,0.5306174755096436,2.20430850982666,1.8306390047073364,0.5296918749809265,0.5916236042976379,0.9239893555641174,0.5861285924911499,0.45468416810035706,0.5167596340179443,0.46276798844337463,0.42948633432388306,0.4674592614173889,0.45062729716300964,0.38329431414604187,0.4595227539539337,0.414395809173584,0.40876641869544983,0.4607577621936798,0.42083409428596497,0.43577298521995544,0.42901575565338135,0.43857768177986145,0.48778846859931946,0.487133264541626,0.508806049823761,0.3330248296260834,0.5459378957748413,0.36827075481414795,0.39369699358940125,0.4728059470653534,0.33581891655921936,0.5243124961853027,0.4236963093280792,0.39917534589767456,0.4232897460460663,0.42735299468040466,0.3929344117641449,0.4497683346271515,0.35570868849754333,0.32644519209861755,0.36059609055519104,0.34246912598609924,0.3277084231376648,0.35552477836608887,0.36780253052711487,0.32239094376564026,0.3725787103176117,0.3458727300167084],\"type\":\"scatter\"}],                        {\"title\":{\"text\":\"Loss\"},\"xaxis\":{\"title\":{\"text\":\"epochs\"}},\"yaxis\":{\"title\":{\"text\":\"\"}},\"template\":{\"data\":{\"histogram2dcontour\":[{\"type\":\"histogram2dcontour\",\"colorbar\":{\"outlinewidth\":0,\"ticks\":\"\"},\"colorscale\":[[0.0,\"#0d0887\"],[0.1111111111111111,\"#46039f\"],[0.2222222222222222,\"#7201a8\"],[0.3333333333333333,\"#9c179e\"],[0.4444444444444444,\"#bd3786\"],[0.5555555555555556,\"#d8576b\"],[0.6666666666666666,\"#ed7953\"],[0.7777777777777778,\"#fb9f3a\"],[0.8888888888888888,\"#fdca26\"],[1.0,\"#f0f921\"]]}],\"choropleth\":[{\"type\":\"choropleth\",\"colorbar\":{\"outlinewidth\":0,\"ticks\":\"\"}}],\"histogram2d\":[{\"type\":\"histogram2d\",\"colorbar\":{\"outlinewidth\":0,\"ticks\":\"\"},\"colorscale\":[[0.0,\"#0d0887\"],[0.1111111111111111,\"#46039f\"],[0.2222222222222222,\"#7201a8\"],[0.3333333333333333,\"#9c179e\"],[0.4444444444444444,\"#bd3786\"],[0.5555555555555556,\"#d8576b\"],[0.6666666666666666,\"#ed7953\"],[0.7777777777777778,\"#fb9f3a\"],[0.8888888888888888,\"#fdca26\"],[1.0,\"#f0f921\"]]}],\"heatmap\":[{\"type\":\"heatmap\",\"colorbar\":{\"outlinewidth\":0,\"ticks\":\"\"},\"colorscale\":[[0.0,\"#0d0887\"],[0.1111111111111111,\"#46039f\"],[0.2222222222222222,\"#7201a8\"],[0.3333333333333333,\"#9c179e\"],[0.4444444444444444,\"#bd3786\"],[0.5555555555555556,\"#d8576b\"],[0.6666666666666666,\"#ed7953\"],[0.7777777777777778,\"#fb9f3a\"],[0.8888888888888888,\"#fdca26\"],[1.0,\"#f0f921\"]]}],\"heatmapgl\":[{\"type\":\"heatmapgl\",\"colorbar\":{\"outlinewidth\":0,\"ticks\":\"\"},\"colorscale\":[[0.0,\"#0d0887\"],[0.1111111111111111,\"#46039f\"],[0.2222222222222222,\"#7201a8\"],[0.3333333333333333,\"#9c179e\"],[0.4444444444444444,\"#bd3786\"],[0.5555555555555556,\"#d8576b\"],[0.6666666666666666,\"#ed7953\"],[0.7777777777777778,\"#fb9f3a\"],[0.8888888888888888,\"#fdca26\"],[1.0,\"#f0f921\"]]}],\"contourcarpet\":[{\"type\":\"contourcarpet\",\"colorbar\":{\"outlinewidth\":0,\"ticks\":\"\"}}],\"contour\":[{\"type\":\"contour\",\"colorbar\":{\"outlinewidth\":0,\"ticks\":\"\"},\"colorscale\":[[0.0,\"#0d0887\"],[0.1111111111111111,\"#46039f\"],[0.2222222222222222,\"#7201a8\"],[0.3333333333333333,\"#9c179e\"],[0.4444444444444444,\"#bd3786\"],[0.5555555555555556,\"#d8576b\"],[0.6666666666666666,\"#ed7953\"],[0.7777777777777778,\"#fb9f3a\"],[0.8888888888888888,\"#fdca26\"],[1.0,\"#f0f921\"]]}],\"surface\":[{\"type\":\"surface\",\"colorbar\":{\"outlinewidth\":0,\"ticks\":\"\"},\"colorscale\":[[0.0,\"#0d0887\"],[0.1111111111111111,\"#46039f\"],[0.2222222222222222,\"#7201a8\"],[0.3333333333333333,\"#9c179e\"],[0.4444444444444444,\"#bd3786\"],[0.5555555555555556,\"#d8576b\"],[0.6666666666666666,\"#ed7953\"],[0.7777777777777778,\"#fb9f3a\"],[0.8888888888888888,\"#fdca26\"],[1.0,\"#f0f921\"]]}],\"mesh3d\":[{\"type\":\"mesh3d\",\"colorbar\":{\"outlinewidth\":0,\"ticks\":\"\"}}],\"scatter\":[{\"fillpattern\":{\"fillmode\":\"overlay\",\"size\":10,\"solidity\":0.2},\"type\":\"scatter\"}],\"parcoords\":[{\"type\":\"parcoords\",\"line\":{\"colorbar\":{\"outlinewidth\":0,\"ticks\":\"\"}}}],\"scatterpolargl\":[{\"type\":\"scatterpolargl\",\"marker\":{\"colorbar\":{\"outlinewidth\":0,\"ticks\":\"\"}}}],\"bar\":[{\"error_x\":{\"color\":\"#2a3f5f\"},\"error_y\":{\"color\":\"#2a3f5f\"},\"marker\":{\"line\":{\"color\":\"#E5ECF6\",\"width\":0.5},\"pattern\":{\"fillmode\":\"overlay\",\"size\":10,\"solidity\":0.2}},\"type\":\"bar\"}],\"scattergeo\":[{\"type\":\"scattergeo\",\"marker\":{\"colorbar\":{\"outlinewidth\":0,\"ticks\":\"\"}}}],\"scatterpolar\":[{\"type\":\"scatterpolar\",\"marker\":{\"colorbar\":{\"outlinewidth\":0,\"ticks\":\"\"}}}],\"histogram\":[{\"marker\":{\"pattern\":{\"fillmode\":\"overlay\",\"size\":10,\"solidity\":0.2}},\"type\":\"histogram\"}],\"scattergl\":[{\"type\":\"scattergl\",\"marker\":{\"colorbar\":{\"outlinewidth\":0,\"ticks\":\"\"}}}],\"scatter3d\":[{\"type\":\"scatter3d\",\"line\":{\"colorbar\":{\"outlinewidth\":0,\"ticks\":\"\"}},\"marker\":{\"colorbar\":{\"outlinewidth\":0,\"ticks\":\"\"}}}],\"scattermapbox\":[{\"type\":\"scattermapbox\",\"marker\":{\"colorbar\":{\"outlinewidth\":0,\"ticks\":\"\"}}}],\"scatterternary\":[{\"type\":\"scatterternary\",\"marker\":{\"colorbar\":{\"outlinewidth\":0,\"ticks\":\"\"}}}],\"scattercarpet\":[{\"type\":\"scattercarpet\",\"marker\":{\"colorbar\":{\"outlinewidth\":0,\"ticks\":\"\"}}}],\"carpet\":[{\"aaxis\":{\"endlinecolor\":\"#2a3f5f\",\"gridcolor\":\"white\",\"linecolor\":\"white\",\"minorgridcolor\":\"white\",\"startlinecolor\":\"#2a3f5f\"},\"baxis\":{\"endlinecolor\":\"#2a3f5f\",\"gridcolor\":\"white\",\"linecolor\":\"white\",\"minorgridcolor\":\"white\",\"startlinecolor\":\"#2a3f5f\"},\"type\":\"carpet\"}],\"table\":[{\"cells\":{\"fill\":{\"color\":\"#EBF0F8\"},\"line\":{\"color\":\"white\"}},\"header\":{\"fill\":{\"color\":\"#C8D4E3\"},\"line\":{\"color\":\"white\"}},\"type\":\"table\"}],\"barpolar\":[{\"marker\":{\"line\":{\"color\":\"#E5ECF6\",\"width\":0.5},\"pattern\":{\"fillmode\":\"overlay\",\"size\":10,\"solidity\":0.2}},\"type\":\"barpolar\"}],\"pie\":[{\"automargin\":true,\"type\":\"pie\"}]},\"layout\":{\"autotypenumbers\":\"strict\",\"colorway\":[\"#636efa\",\"#EF553B\",\"#00cc96\",\"#ab63fa\",\"#FFA15A\",\"#19d3f3\",\"#FF6692\",\"#B6E880\",\"#FF97FF\",\"#FECB52\"],\"font\":{\"color\":\"#2a3f5f\"},\"hovermode\":\"closest\",\"hoverlabel\":{\"align\":\"left\"},\"paper_bgcolor\":\"white\",\"plot_bgcolor\":\"#E5ECF6\",\"polar\":{\"bgcolor\":\"#E5ECF6\",\"angularaxis\":{\"gridcolor\":\"white\",\"linecolor\":\"white\",\"ticks\":\"\"},\"radialaxis\":{\"gridcolor\":\"white\",\"linecolor\":\"white\",\"ticks\":\"\"}},\"ternary\":{\"bgcolor\":\"#E5ECF6\",\"aaxis\":{\"gridcolor\":\"white\",\"linecolor\":\"white\",\"ticks\":\"\"},\"baxis\":{\"gridcolor\":\"white\",\"linecolor\":\"white\",\"ticks\":\"\"},\"caxis\":{\"gridcolor\":\"white\",\"linecolor\":\"white\",\"ticks\":\"\"}},\"coloraxis\":{\"colorbar\":{\"outlinewidth\":0,\"ticks\":\"\"}},\"colorscale\":{\"sequential\":[[0.0,\"#0d0887\"],[0.1111111111111111,\"#46039f\"],[0.2222222222222222,\"#7201a8\"],[0.3333333333333333,\"#9c179e\"],[0.4444444444444444,\"#bd3786\"],[0.5555555555555556,\"#d8576b\"],[0.6666666666666666,\"#ed7953\"],[0.7777777777777778,\"#fb9f3a\"],[0.8888888888888888,\"#fdca26\"],[1.0,\"#f0f921\"]],\"sequentialminus\":[[0.0,\"#0d0887\"],[0.1111111111111111,\"#46039f\"],[0.2222222222222222,\"#7201a8\"],[0.3333333333333333,\"#9c179e\"],[0.4444444444444444,\"#bd3786\"],[0.5555555555555556,\"#d8576b\"],[0.6666666666666666,\"#ed7953\"],[0.7777777777777778,\"#fb9f3a\"],[0.8888888888888888,\"#fdca26\"],[1.0,\"#f0f921\"]],\"diverging\":[[0,\"#8e0152\"],[0.1,\"#c51b7d\"],[0.2,\"#de77ae\"],[0.3,\"#f1b6da\"],[0.4,\"#fde0ef\"],[0.5,\"#f7f7f7\"],[0.6,\"#e6f5d0\"],[0.7,\"#b8e186\"],[0.8,\"#7fbc41\"],[0.9,\"#4d9221\"],[1,\"#276419\"]]},\"xaxis\":{\"gridcolor\":\"white\",\"linecolor\":\"white\",\"ticks\":\"\",\"title\":{\"standoff\":15},\"zerolinecolor\":\"white\",\"automargin\":true,\"zerolinewidth\":2},\"yaxis\":{\"gridcolor\":\"white\",\"linecolor\":\"white\",\"ticks\":\"\",\"title\":{\"standoff\":15},\"zerolinecolor\":\"white\",\"automargin\":true,\"zerolinewidth\":2},\"scene\":{\"xaxis\":{\"backgroundcolor\":\"#E5ECF6\",\"gridcolor\":\"white\",\"linecolor\":\"white\",\"showbackground\":true,\"ticks\":\"\",\"zerolinecolor\":\"white\",\"gridwidth\":2},\"yaxis\":{\"backgroundcolor\":\"#E5ECF6\",\"gridcolor\":\"white\",\"linecolor\":\"white\",\"showbackground\":true,\"ticks\":\"\",\"zerolinecolor\":\"white\",\"gridwidth\":2},\"zaxis\":{\"backgroundcolor\":\"#E5ECF6\",\"gridcolor\":\"white\",\"linecolor\":\"white\",\"showbackground\":true,\"ticks\":\"\",\"zerolinecolor\":\"white\",\"gridwidth\":2}},\"shapedefaults\":{\"line\":{\"color\":\"#2a3f5f\"}},\"annotationdefaults\":{\"arrowcolor\":\"#2a3f5f\",\"arrowhead\":0,\"arrowwidth\":1},\"geo\":{\"bgcolor\":\"white\",\"landcolor\":\"#E5ECF6\",\"subunitcolor\":\"white\",\"showland\":true,\"showlakes\":true,\"lakecolor\":\"white\"},\"title\":{\"x\":0.05},\"mapbox\":{\"style\":\"light\"}}}},                        {\"responsive\": true}                    ).then(function(){\n",
              "                            \n",
              "var gd = document.getElementById('af7011f4-3e04-4859-b544-7c49978d6396');\n",
              "var x = new MutationObserver(function (mutations, observer) {{\n",
              "        var display = window.getComputedStyle(gd).display;\n",
              "        if (!display || display === 'none') {{\n",
              "            console.log([gd, 'removed!']);\n",
              "            Plotly.purge(gd);\n",
              "            observer.disconnect();\n",
              "        }}\n",
              "}});\n",
              "\n",
              "// Listen for the removal of the full notebook cells\n",
              "var notebookContainer = gd.closest('#notebook-container');\n",
              "if (notebookContainer) {{\n",
              "    x.observe(notebookContainer, {childList: true});\n",
              "}}\n",
              "\n",
              "// Listen for the clearing of the current output cell\n",
              "var outputEl = gd.closest('.output');\n",
              "if (outputEl) {{\n",
              "    x.observe(outputEl, {childList: true});\n",
              "}}\n",
              "\n",
              "                        })                };                            </script>        </div>\n",
              "</body>\n",
              "</html>"
            ]
          },
          "metadata": {}
        }
      ]
    },
    {
      "cell_type": "code",
      "source": [
        "h1 = go.Scatter(y=his.history['accuracy'],\n",
        "                    mode=\"lines\", line=dict(\n",
        "                    width=2,\n",
        "                    color='blue'),\n",
        "                    name=\"acc\"\n",
        "                   )\n",
        "h2 = go.Scatter(y=his.history['val_accuracy'],\n",
        "                    mode=\"lines\", line=dict(\n",
        "                    width=2,\n",
        "                    color='red'),\n",
        "                    name=\"val_acc\"\n",
        "                   )\n",
        "\n",
        "data = [h1,h2]\n",
        "layout1 = go.Layout(title='Accuracy',\n",
        "                   xaxis=dict(title='epochs'),\n",
        "                   yaxis=dict(title=''))\n",
        "fig2 = go.Figure(data = data, layout=layout1)\n",
        "fig2.show()"
      ],
      "metadata": {
        "colab": {
          "base_uri": "https://localhost:8080/",
          "height": 542
        },
        "id": "0Q5Q9rPwFflx",
        "outputId": "60ad2a77-93f4-41e1-ac32-2ed6f3a57dde"
      },
      "execution_count": 128,
      "outputs": [
        {
          "output_type": "display_data",
          "data": {
            "text/html": [
              "<html>\n",
              "<head><meta charset=\"utf-8\" /></head>\n",
              "<body>\n",
              "    <div>            <script src=\"https://cdnjs.cloudflare.com/ajax/libs/mathjax/2.7.5/MathJax.js?config=TeX-AMS-MML_SVG\"></script><script type=\"text/javascript\">if (window.MathJax && window.MathJax.Hub && window.MathJax.Hub.Config) {window.MathJax.Hub.Config({SVG: {font: \"STIX-Web\"}});}</script>                <script type=\"text/javascript\">window.PlotlyConfig = {MathJaxConfig: 'local'};</script>\n",
              "        <script charset=\"utf-8\" src=\"https://cdn.plot.ly/plotly-2.35.2.min.js\"></script>                <div id=\"a0934e83-83b3-4f23-bb75-f965bdbb99e4\" class=\"plotly-graph-div\" style=\"height:525px; width:100%;\"></div>            <script type=\"text/javascript\">                                    window.PLOTLYENV=window.PLOTLYENV || {};                                    if (document.getElementById(\"a0934e83-83b3-4f23-bb75-f965bdbb99e4\")) {                    Plotly.newPlot(                        \"a0934e83-83b3-4f23-bb75-f965bdbb99e4\",                        [{\"line\":{\"color\":\"blue\",\"width\":2},\"mode\":\"lines\",\"name\":\"acc\",\"y\":[0.5432692170143127,0.7403846383094788,0.6346153616905212,0.504807710647583,0.7403846383094788,0.7211538553237915,0.6153846383094788,0.6875,0.745192289352417,0.6875,0.6875,0.7788461446762085,0.754807710647583,0.7355769276618958,0.7692307829856873,0.7836538553237915,0.8125,0.8509615659713745,0.807692289352417,0.8605769276618958,0.9038461446762085,0.8942307829856873,0.870192289352417,0.879807710647583,0.9038461446762085,0.8846153616905212,0.875,0.8894230723381042,0.879807710647583,0.8894230723381042,0.879807710647583,0.9038461446762085,0.9182692170143127,0.8942307829856873,0.9278846383094788,0.9230769276618958,0.9375,0.9278846383094788,0.932692289352417,0.9375,0.9134615659713745,0.9567307829856873,0.932692289352417,0.9471153616905212,0.932692289352417,0.9278846383094788,0.9278846383094788,0.9375,0.932692289352417,0.9519230723381042],\"type\":\"scatter\"},{\"line\":{\"color\":\"red\",\"width\":2},\"mode\":\"lines\",\"name\":\"val_acc\",\"y\":[0.7168674468994141,0.7168674468994141,0.8012048006057739,0.7168674468994141,0.7168674468994141,0.7168674468994141,0.7168674468994141,0.7168674468994141,0.7168674468994141,0.8072289228439331,0.7168674468994141,0.759036123752594,0.8373494148254395,0.7771084308624268,0.8012048006057739,0.8433734774589539,0.8132529854774475,0.8132529854774475,0.8132529854774475,0.8132529854774475,0.8192771077156067,0.8192771077156067,0.8253012299537659,0.8253012299537659,0.8253012299537659,0.8253012299537659,0.8192771077156067,0.8674699068069458,0.8192771077156067,0.8614457845687866,0.849397599697113,0.8313252925872803,0.8674699068069458,0.8192771077156067,0.849397599697113,0.849397599697113,0.849397599697113,0.849397599697113,0.8554216623306274,0.8313252925872803,0.8614457845687866,0.8674699068069458,0.8614457845687866,0.8674699068069458,0.8734939694404602,0.8674699068069458,0.8614457845687866,0.8855421543121338,0.8614457845687866,0.8674699068069458],\"type\":\"scatter\"}],                        {\"title\":{\"text\":\"Accuracy\"},\"xaxis\":{\"title\":{\"text\":\"epochs\"}},\"yaxis\":{\"title\":{\"text\":\"\"}},\"template\":{\"data\":{\"histogram2dcontour\":[{\"type\":\"histogram2dcontour\",\"colorbar\":{\"outlinewidth\":0,\"ticks\":\"\"},\"colorscale\":[[0.0,\"#0d0887\"],[0.1111111111111111,\"#46039f\"],[0.2222222222222222,\"#7201a8\"],[0.3333333333333333,\"#9c179e\"],[0.4444444444444444,\"#bd3786\"],[0.5555555555555556,\"#d8576b\"],[0.6666666666666666,\"#ed7953\"],[0.7777777777777778,\"#fb9f3a\"],[0.8888888888888888,\"#fdca26\"],[1.0,\"#f0f921\"]]}],\"choropleth\":[{\"type\":\"choropleth\",\"colorbar\":{\"outlinewidth\":0,\"ticks\":\"\"}}],\"histogram2d\":[{\"type\":\"histogram2d\",\"colorbar\":{\"outlinewidth\":0,\"ticks\":\"\"},\"colorscale\":[[0.0,\"#0d0887\"],[0.1111111111111111,\"#46039f\"],[0.2222222222222222,\"#7201a8\"],[0.3333333333333333,\"#9c179e\"],[0.4444444444444444,\"#bd3786\"],[0.5555555555555556,\"#d8576b\"],[0.6666666666666666,\"#ed7953\"],[0.7777777777777778,\"#fb9f3a\"],[0.8888888888888888,\"#fdca26\"],[1.0,\"#f0f921\"]]}],\"heatmap\":[{\"type\":\"heatmap\",\"colorbar\":{\"outlinewidth\":0,\"ticks\":\"\"},\"colorscale\":[[0.0,\"#0d0887\"],[0.1111111111111111,\"#46039f\"],[0.2222222222222222,\"#7201a8\"],[0.3333333333333333,\"#9c179e\"],[0.4444444444444444,\"#bd3786\"],[0.5555555555555556,\"#d8576b\"],[0.6666666666666666,\"#ed7953\"],[0.7777777777777778,\"#fb9f3a\"],[0.8888888888888888,\"#fdca26\"],[1.0,\"#f0f921\"]]}],\"heatmapgl\":[{\"type\":\"heatmapgl\",\"colorbar\":{\"outlinewidth\":0,\"ticks\":\"\"},\"colorscale\":[[0.0,\"#0d0887\"],[0.1111111111111111,\"#46039f\"],[0.2222222222222222,\"#7201a8\"],[0.3333333333333333,\"#9c179e\"],[0.4444444444444444,\"#bd3786\"],[0.5555555555555556,\"#d8576b\"],[0.6666666666666666,\"#ed7953\"],[0.7777777777777778,\"#fb9f3a\"],[0.8888888888888888,\"#fdca26\"],[1.0,\"#f0f921\"]]}],\"contourcarpet\":[{\"type\":\"contourcarpet\",\"colorbar\":{\"outlinewidth\":0,\"ticks\":\"\"}}],\"contour\":[{\"type\":\"contour\",\"colorbar\":{\"outlinewidth\":0,\"ticks\":\"\"},\"colorscale\":[[0.0,\"#0d0887\"],[0.1111111111111111,\"#46039f\"],[0.2222222222222222,\"#7201a8\"],[0.3333333333333333,\"#9c179e\"],[0.4444444444444444,\"#bd3786\"],[0.5555555555555556,\"#d8576b\"],[0.6666666666666666,\"#ed7953\"],[0.7777777777777778,\"#fb9f3a\"],[0.8888888888888888,\"#fdca26\"],[1.0,\"#f0f921\"]]}],\"surface\":[{\"type\":\"surface\",\"colorbar\":{\"outlinewidth\":0,\"ticks\":\"\"},\"colorscale\":[[0.0,\"#0d0887\"],[0.1111111111111111,\"#46039f\"],[0.2222222222222222,\"#7201a8\"],[0.3333333333333333,\"#9c179e\"],[0.4444444444444444,\"#bd3786\"],[0.5555555555555556,\"#d8576b\"],[0.6666666666666666,\"#ed7953\"],[0.7777777777777778,\"#fb9f3a\"],[0.8888888888888888,\"#fdca26\"],[1.0,\"#f0f921\"]]}],\"mesh3d\":[{\"type\":\"mesh3d\",\"colorbar\":{\"outlinewidth\":0,\"ticks\":\"\"}}],\"scatter\":[{\"fillpattern\":{\"fillmode\":\"overlay\",\"size\":10,\"solidity\":0.2},\"type\":\"scatter\"}],\"parcoords\":[{\"type\":\"parcoords\",\"line\":{\"colorbar\":{\"outlinewidth\":0,\"ticks\":\"\"}}}],\"scatterpolargl\":[{\"type\":\"scatterpolargl\",\"marker\":{\"colorbar\":{\"outlinewidth\":0,\"ticks\":\"\"}}}],\"bar\":[{\"error_x\":{\"color\":\"#2a3f5f\"},\"error_y\":{\"color\":\"#2a3f5f\"},\"marker\":{\"line\":{\"color\":\"#E5ECF6\",\"width\":0.5},\"pattern\":{\"fillmode\":\"overlay\",\"size\":10,\"solidity\":0.2}},\"type\":\"bar\"}],\"scattergeo\":[{\"type\":\"scattergeo\",\"marker\":{\"colorbar\":{\"outlinewidth\":0,\"ticks\":\"\"}}}],\"scatterpolar\":[{\"type\":\"scatterpolar\",\"marker\":{\"colorbar\":{\"outlinewidth\":0,\"ticks\":\"\"}}}],\"histogram\":[{\"marker\":{\"pattern\":{\"fillmode\":\"overlay\",\"size\":10,\"solidity\":0.2}},\"type\":\"histogram\"}],\"scattergl\":[{\"type\":\"scattergl\",\"marker\":{\"colorbar\":{\"outlinewidth\":0,\"ticks\":\"\"}}}],\"scatter3d\":[{\"type\":\"scatter3d\",\"line\":{\"colorbar\":{\"outlinewidth\":0,\"ticks\":\"\"}},\"marker\":{\"colorbar\":{\"outlinewidth\":0,\"ticks\":\"\"}}}],\"scattermapbox\":[{\"type\":\"scattermapbox\",\"marker\":{\"colorbar\":{\"outlinewidth\":0,\"ticks\":\"\"}}}],\"scatterternary\":[{\"type\":\"scatterternary\",\"marker\":{\"colorbar\":{\"outlinewidth\":0,\"ticks\":\"\"}}}],\"scattercarpet\":[{\"type\":\"scattercarpet\",\"marker\":{\"colorbar\":{\"outlinewidth\":0,\"ticks\":\"\"}}}],\"carpet\":[{\"aaxis\":{\"endlinecolor\":\"#2a3f5f\",\"gridcolor\":\"white\",\"linecolor\":\"white\",\"minorgridcolor\":\"white\",\"startlinecolor\":\"#2a3f5f\"},\"baxis\":{\"endlinecolor\":\"#2a3f5f\",\"gridcolor\":\"white\",\"linecolor\":\"white\",\"minorgridcolor\":\"white\",\"startlinecolor\":\"#2a3f5f\"},\"type\":\"carpet\"}],\"table\":[{\"cells\":{\"fill\":{\"color\":\"#EBF0F8\"},\"line\":{\"color\":\"white\"}},\"header\":{\"fill\":{\"color\":\"#C8D4E3\"},\"line\":{\"color\":\"white\"}},\"type\":\"table\"}],\"barpolar\":[{\"marker\":{\"line\":{\"color\":\"#E5ECF6\",\"width\":0.5},\"pattern\":{\"fillmode\":\"overlay\",\"size\":10,\"solidity\":0.2}},\"type\":\"barpolar\"}],\"pie\":[{\"automargin\":true,\"type\":\"pie\"}]},\"layout\":{\"autotypenumbers\":\"strict\",\"colorway\":[\"#636efa\",\"#EF553B\",\"#00cc96\",\"#ab63fa\",\"#FFA15A\",\"#19d3f3\",\"#FF6692\",\"#B6E880\",\"#FF97FF\",\"#FECB52\"],\"font\":{\"color\":\"#2a3f5f\"},\"hovermode\":\"closest\",\"hoverlabel\":{\"align\":\"left\"},\"paper_bgcolor\":\"white\",\"plot_bgcolor\":\"#E5ECF6\",\"polar\":{\"bgcolor\":\"#E5ECF6\",\"angularaxis\":{\"gridcolor\":\"white\",\"linecolor\":\"white\",\"ticks\":\"\"},\"radialaxis\":{\"gridcolor\":\"white\",\"linecolor\":\"white\",\"ticks\":\"\"}},\"ternary\":{\"bgcolor\":\"#E5ECF6\",\"aaxis\":{\"gridcolor\":\"white\",\"linecolor\":\"white\",\"ticks\":\"\"},\"baxis\":{\"gridcolor\":\"white\",\"linecolor\":\"white\",\"ticks\":\"\"},\"caxis\":{\"gridcolor\":\"white\",\"linecolor\":\"white\",\"ticks\":\"\"}},\"coloraxis\":{\"colorbar\":{\"outlinewidth\":0,\"ticks\":\"\"}},\"colorscale\":{\"sequential\":[[0.0,\"#0d0887\"],[0.1111111111111111,\"#46039f\"],[0.2222222222222222,\"#7201a8\"],[0.3333333333333333,\"#9c179e\"],[0.4444444444444444,\"#bd3786\"],[0.5555555555555556,\"#d8576b\"],[0.6666666666666666,\"#ed7953\"],[0.7777777777777778,\"#fb9f3a\"],[0.8888888888888888,\"#fdca26\"],[1.0,\"#f0f921\"]],\"sequentialminus\":[[0.0,\"#0d0887\"],[0.1111111111111111,\"#46039f\"],[0.2222222222222222,\"#7201a8\"],[0.3333333333333333,\"#9c179e\"],[0.4444444444444444,\"#bd3786\"],[0.5555555555555556,\"#d8576b\"],[0.6666666666666666,\"#ed7953\"],[0.7777777777777778,\"#fb9f3a\"],[0.8888888888888888,\"#fdca26\"],[1.0,\"#f0f921\"]],\"diverging\":[[0,\"#8e0152\"],[0.1,\"#c51b7d\"],[0.2,\"#de77ae\"],[0.3,\"#f1b6da\"],[0.4,\"#fde0ef\"],[0.5,\"#f7f7f7\"],[0.6,\"#e6f5d0\"],[0.7,\"#b8e186\"],[0.8,\"#7fbc41\"],[0.9,\"#4d9221\"],[1,\"#276419\"]]},\"xaxis\":{\"gridcolor\":\"white\",\"linecolor\":\"white\",\"ticks\":\"\",\"title\":{\"standoff\":15},\"zerolinecolor\":\"white\",\"automargin\":true,\"zerolinewidth\":2},\"yaxis\":{\"gridcolor\":\"white\",\"linecolor\":\"white\",\"ticks\":\"\",\"title\":{\"standoff\":15},\"zerolinecolor\":\"white\",\"automargin\":true,\"zerolinewidth\":2},\"scene\":{\"xaxis\":{\"backgroundcolor\":\"#E5ECF6\",\"gridcolor\":\"white\",\"linecolor\":\"white\",\"showbackground\":true,\"ticks\":\"\",\"zerolinecolor\":\"white\",\"gridwidth\":2},\"yaxis\":{\"backgroundcolor\":\"#E5ECF6\",\"gridcolor\":\"white\",\"linecolor\":\"white\",\"showbackground\":true,\"ticks\":\"\",\"zerolinecolor\":\"white\",\"gridwidth\":2},\"zaxis\":{\"backgroundcolor\":\"#E5ECF6\",\"gridcolor\":\"white\",\"linecolor\":\"white\",\"showbackground\":true,\"ticks\":\"\",\"zerolinecolor\":\"white\",\"gridwidth\":2}},\"shapedefaults\":{\"line\":{\"color\":\"#2a3f5f\"}},\"annotationdefaults\":{\"arrowcolor\":\"#2a3f5f\",\"arrowhead\":0,\"arrowwidth\":1},\"geo\":{\"bgcolor\":\"white\",\"landcolor\":\"#E5ECF6\",\"subunitcolor\":\"white\",\"showland\":true,\"showlakes\":true,\"lakecolor\":\"white\"},\"title\":{\"x\":0.05},\"mapbox\":{\"style\":\"light\"}}}},                        {\"responsive\": true}                    ).then(function(){\n",
              "                            \n",
              "var gd = document.getElementById('a0934e83-83b3-4f23-bb75-f965bdbb99e4');\n",
              "var x = new MutationObserver(function (mutations, observer) {{\n",
              "        var display = window.getComputedStyle(gd).display;\n",
              "        if (!display || display === 'none') {{\n",
              "            console.log([gd, 'removed!']);\n",
              "            Plotly.purge(gd);\n",
              "            observer.disconnect();\n",
              "        }}\n",
              "}});\n",
              "\n",
              "// Listen for the removal of the full notebook cells\n",
              "var notebookContainer = gd.closest('#notebook-container');\n",
              "if (notebookContainer) {{\n",
              "    x.observe(notebookContainer, {childList: true});\n",
              "}}\n",
              "\n",
              "// Listen for the clearing of the current output cell\n",
              "var outputEl = gd.closest('.output');\n",
              "if (outputEl) {{\n",
              "    x.observe(outputEl, {childList: true});\n",
              "}}\n",
              "\n",
              "                        })                };                            </script>        </div>\n",
              "</body>\n",
              "</html>"
            ]
          },
          "metadata": {}
        }
      ]
    },
    {
      "cell_type": "code",
      "source": [
        "from tensorflow import keras\n",
        "\n",
        "model = keras.models.load_model(\"/content/best_model.keras\")\n",
        "model.compile(loss='categorical_crossentropy', metrics=['accuracy'], optimizer='adam')"
      ],
      "metadata": {
        "id": "KqWd5YzSFiR3"
      },
      "execution_count": 140,
      "outputs": []
    },
    {
      "cell_type": "code",
      "source": [
        "test_res = model.evaluate(x_test, y_test, verbose=0, return_dict=True)\n",
        "val_res   = model.evaluate(x_val,   y_val,   verbose=0, return_dict=True)\n",
        "\n",
        "acc_key = next(k for k in test_res.keys() if k in\n",
        "               ('accuracy', 'binary_accuracy', 'categorical_accuracy',\n",
        "                'sparse_categorical_accuracy'))\n",
        "\n",
        "print(f\"Testing  - loss: {test_res['loss']:.4f}, acc: {test_res[acc_key]:.4f}\")\n",
        "print(f\"Validation- loss: {val_res['loss']:.4f}, acc: {val_res[acc_key]:.4f}\")"
      ],
      "metadata": {
        "colab": {
          "base_uri": "https://localhost:8080/"
        },
        "id": "_E45FnJFFlGl",
        "outputId": "283a3714-8b20-471c-a460-c8f1f3f3540d"
      },
      "execution_count": 141,
      "outputs": [
        {
          "output_type": "stream",
          "name": "stdout",
          "text": [
            "Testing  - loss: 0.1909, acc: 0.9231\n",
            "Validation- loss: 0.3224, acc: 0.8855\n"
          ]
        }
      ]
    },
    {
      "cell_type": "code",
      "source": [
        "from sklearn.metrics import confusion_matrix, classification_report\n",
        "import numpy as np\n",
        "\n",
        "y_pred = model.predict(x_val)\n",
        "y_pred_classes = np.argmax(y_pred, axis=1)\n",
        "y_true_classes = np.argmax(y_val, axis=1)"
      ],
      "metadata": {
        "colab": {
          "base_uri": "https://localhost:8080/"
        },
        "id": "O62lc7MJF5qR",
        "outputId": "8a943349-4607-4300-824a-22c142e4148b"
      },
      "execution_count": 142,
      "outputs": [
        {
          "output_type": "stream",
          "name": "stdout",
          "text": [
            "\u001b[1m6/6\u001b[0m \u001b[32m━━━━━━━━━━━━━━━━━━━━\u001b[0m\u001b[37m\u001b[0m \u001b[1m1s\u001b[0m 111ms/step\n"
          ]
        }
      ]
    },
    {
      "cell_type": "code",
      "source": [
        "cm = confusion_matrix(y_true_classes, y_pred_classes)\n",
        "print(\"Confusion Matrix:\")\n",
        "print(cm)"
      ],
      "metadata": {
        "colab": {
          "base_uri": "https://localhost:8080/"
        },
        "id": "pKM0tsehGbxM",
        "outputId": "75a112e3-3dc5-48a2-d48c-710720559177"
      },
      "execution_count": 143,
      "outputs": [
        {
          "output_type": "stream",
          "name": "stdout",
          "text": [
            "Confusion Matrix:\n",
            "[[119   0]\n",
            " [ 19  28]]\n"
          ]
        }
      ]
    },
    {
      "cell_type": "code",
      "source": [
        "report = classification_report(y_true_classes, y_pred_classes, target_names=['normal', 'abnormal'],digits=4)\n",
        "print(\"\\nClassification Report:\")\n",
        "print(report)"
      ],
      "metadata": {
        "colab": {
          "base_uri": "https://localhost:8080/"
        },
        "id": "Hxrbs8jWGeLx",
        "outputId": "d798aa80-9764-4412-e9cf-ba8f09a54722"
      },
      "execution_count": 144,
      "outputs": [
        {
          "output_type": "stream",
          "name": "stdout",
          "text": [
            "\n",
            "Classification Report:\n",
            "              precision    recall  f1-score   support\n",
            "\n",
            "      normal     0.8623    1.0000    0.9261       119\n",
            "    abnormal     1.0000    0.5957    0.7467        47\n",
            "\n",
            "    accuracy                         0.8855       166\n",
            "   macro avg     0.9312    0.7979    0.8364       166\n",
            "weighted avg     0.9013    0.8855    0.8753       166\n",
            "\n"
          ]
        }
      ]
    },
    {
      "cell_type": "code",
      "source": [
        "import seaborn as sns\n",
        "import matplotlib.pyplot as plt\n",
        "\n",
        "plt.figure(figsize=(8, 6))\n",
        "sns.heatmap(cm, annot=True, fmt='d', cmap='Blues', xticklabels=['normal', 'abnormal'], yticklabels=['normal', 'abnormal'])\n",
        "plt.xlabel('Predicted Label')\n",
        "plt.ylabel('True Label')\n",
        "plt.title('Confusion Matrix Heatmap')\n",
        "plt.show()"
      ],
      "metadata": {
        "colab": {
          "base_uri": "https://localhost:8080/",
          "height": 564
        },
        "id": "2zMe2H7BGmmM",
        "outputId": "4766e6a4-46c8-44aa-d123-eb5ffbfa2e1e"
      },
      "execution_count": 145,
      "outputs": [
        {
          "output_type": "display_data",
          "data": {
            "text/plain": [
              "<Figure size 800x600 with 2 Axes>"
            ],
            "image/png": "[encoded data removed]"
          },
          "metadata": {}
        }
      ]
    },
    {
      "cell_type": "code",
      "source": [],
      "metadata": {
        "id": "EuIfc3XzGoxT"
      },
      "execution_count": null,
      "outputs": []
    }
  ]
}